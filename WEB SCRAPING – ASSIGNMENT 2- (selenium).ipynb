{
 "cells": [
  {
   "cell_type": "markdown",
   "id": "27b5d6fe",
   "metadata": {},
   "source": [
    "## Question 1"
   ]
  },
  {
   "cell_type": "raw",
   "id": "d1e03682",
   "metadata": {},
   "source": [
    "# Q1:Write a python program to scrape data for “Data Analyst” Job position in “Bangalore” location. You have to scrape the job-title, job-location, company_name, experience_required. You have to scrape first 10 jobs data.\n",
    "This task will be done in following steps:\n",
    "1. First get the webpage https://www.naukri.com/\n",
    "2. Enter “Data Analyst” in “Skill, Designations, Companies” field and enter “Bangalore” in “enter the location” field.\n",
    "3. Then click the search button.\n",
    "4. Then scrape the data for the first 10 jobs results you get.\n",
    "5. Finally create a dataframe of the scraped data."
   ]
  },
  {
   "cell_type": "code",
   "execution_count": 125,
   "id": "7dc830d1",
   "metadata": {
    "scrolled": true
   },
   "outputs": [
    {
     "name": "stdout",
     "output_type": "stream",
     "text": [
      "Requirement already satisfied: selenium in f:\\programdata\\anaconda3\\lib\\site-packages (4.1.0)\n",
      "Requirement already satisfied: trio-websocket~=0.9 in f:\\programdata\\anaconda3\\lib\\site-packages (from selenium) (0.9.2)\n",
      "Requirement already satisfied: trio~=0.17 in f:\\programdata\\anaconda3\\lib\\site-packages (from selenium) (0.19.0)\n",
      "Requirement already satisfied: urllib3[secure]~=1.26 in f:\\programdata\\anaconda3\\lib\\site-packages (from selenium) (1.26.4)\n",
      "Requirement already satisfied: attrs>=19.2.0 in f:\\programdata\\anaconda3\\lib\\site-packages (from trio~=0.17->selenium) (20.3.0)\n",
      "Requirement already satisfied: idna in f:\\programdata\\anaconda3\\lib\\site-packages (from trio~=0.17->selenium) (2.10)\n",
      "Requirement already satisfied: sortedcontainers in f:\\programdata\\anaconda3\\lib\\site-packages (from trio~=0.17->selenium) (2.3.0)\n",
      "Requirement already satisfied: cffi>=1.14 in f:\\programdata\\anaconda3\\lib\\site-packages (from trio~=0.17->selenium) (1.14.5)\n",
      "Requirement already satisfied: outcome in f:\\programdata\\anaconda3\\lib\\site-packages (from trio~=0.17->selenium) (1.1.0)\n",
      "Requirement already satisfied: sniffio in f:\\programdata\\anaconda3\\lib\\site-packages (from trio~=0.17->selenium) (1.2.0)\n",
      "Requirement already satisfied: async-generator>=1.9 in f:\\programdata\\anaconda3\\lib\\site-packages (from trio~=0.17->selenium) (1.10)\n",
      "Requirement already satisfied: pycparser in f:\\programdata\\anaconda3\\lib\\site-packages (from cffi>=1.14->trio~=0.17->selenium) (2.20)\n",
      "Requirement already satisfied: wsproto>=0.14 in f:\\programdata\\anaconda3\\lib\\site-packages (from trio-websocket~=0.9->selenium) (1.0.0)\n",
      "Requirement already satisfied: pyOpenSSL>=0.14 in f:\\programdata\\anaconda3\\lib\\site-packages (from urllib3[secure]~=1.26->selenium) (20.0.1)\n",
      "Requirement already satisfied: cryptography>=1.3.4 in f:\\programdata\\anaconda3\\lib\\site-packages (from urllib3[secure]~=1.26->selenium) (3.4.7)\n",
      "Requirement already satisfied: certifi in f:\\programdata\\anaconda3\\lib\\site-packages (from urllib3[secure]~=1.26->selenium) (2020.12.5)\n",
      "Requirement already satisfied: six>=1.5.2 in f:\\programdata\\anaconda3\\lib\\site-packages (from pyOpenSSL>=0.14->urllib3[secure]~=1.26->selenium) (1.15.0)\n",
      "Requirement already satisfied: h11<1,>=0.9.0 in f:\\programdata\\anaconda3\\lib\\site-packages (from wsproto>=0.14->trio-websocket~=0.9->selenium) (0.12.0)\n"
     ]
    }
   ],
   "source": [
    "# first install selenium library\n",
    "!pip install selenium\n"
   ]
  },
  {
   "cell_type": "raw",
   "id": "70250087",
   "metadata": {},
   "source": [
    "# Now we will download the web driver for web browser\n",
    "1)check the version of ur browser 2) go link 'https://chromedriver.chromium.org/downloads'3) download the webdriver of your version of browser"
   ]
  },
  {
   "cell_type": "code",
   "execution_count": 159,
   "id": "3d56109f",
   "metadata": {},
   "outputs": [],
   "source": [
    "# import all the libraries\n",
    "\n",
    "import selenium\n",
    "from selenium import webdriver\n",
    "import pandas as pd\n",
    "import warnings\n",
    "warnings.filterwarnings(\"ignore\")\n"
   ]
  },
  {
   "cell_type": "code",
   "execution_count": 160,
   "id": "46e56799",
   "metadata": {},
   "outputs": [
    {
     "data": {
      "text/plain": [
       "<selenium.webdriver.chrome.webdriver.WebDriver (session=\"28e45c83314e2037fa6445dcaeb2fb41\")>"
      ]
     },
     "execution_count": 160,
     "metadata": {},
     "output_type": "execute_result"
    }
   ],
   "source": [
    "# Lets first connect to webdriver\n",
    "\n",
    "driver=webdriver.Chrome(r'C:\\Users\\Amber\\Downloads\\chromedriver_win32\\chromedriver.exe')\n",
    "driver"
   ]
  },
  {
   "cell_type": "code",
   "execution_count": 161,
   "id": "b9d9332b",
   "metadata": {},
   "outputs": [],
   "source": [
    "url = 'https://www.naukri.com/'\n",
    "driver.get(url)"
   ]
  },
  {
   "cell_type": "code",
   "execution_count": 162,
   "id": "52d2fac3",
   "metadata": {
    "scrolled": true
   },
   "outputs": [
    {
     "data": {
      "text/plain": [
       "<selenium.webdriver.remote.webelement.WebElement (session=\"28e45c83314e2037fa6445dcaeb2fb41\", element=\"9fecb72a-1995-42dc-ae50-3abf38be05f3\")>"
      ]
     },
     "execution_count": 162,
     "metadata": {},
     "output_type": "execute_result"
    }
   ],
   "source": [
    "#find web element for search job bar using xpath\n",
    "\n",
    "\n",
    "search_job= driver.find_element_by_xpath('/html/body/div/div[2]/div[3]/div/div/div[1]/div/div/div/input')\n",
    "search_job"
   ]
  },
  {
   "cell_type": "code",
   "execution_count": 163,
   "id": "6109a41d",
   "metadata": {},
   "outputs": [],
   "source": [
    "search_job.send_keys(\"Data analyst\")"
   ]
  },
  {
   "cell_type": "code",
   "execution_count": 164,
   "id": "7b868f0d",
   "metadata": {
    "scrolled": true
   },
   "outputs": [
    {
     "data": {
      "text/plain": [
       "<selenium.webdriver.remote.webelement.WebElement (session=\"28e45c83314e2037fa6445dcaeb2fb41\", element=\"8e0b8abd-95b9-4db3-8c5e-61cae45b5280\")>"
      ]
     },
     "execution_count": 164,
     "metadata": {},
     "output_type": "execute_result"
    }
   ],
   "source": [
    "search_loc =driver.find_element_by_xpath('/html/body/div/div[2]/div[3]/div/div/div[3]/div/div/div/input')\n",
    "search_loc"
   ]
  },
  {
   "cell_type": "code",
   "execution_count": 165,
   "id": "9472c06d",
   "metadata": {},
   "outputs": [],
   "source": [
    "search_loc.send_keys(\"Bangalore\")"
   ]
  },
  {
   "cell_type": "code",
   "execution_count": 166,
   "id": "cd1f3c91",
   "metadata": {},
   "outputs": [
    {
     "data": {
      "text/plain": [
       "<selenium.webdriver.remote.webelement.WebElement (session=\"28e45c83314e2037fa6445dcaeb2fb41\", element=\"3f1b44b3-ce14-4b16-89ae-68c7f0250aea\")>"
      ]
     },
     "execution_count": 166,
     "metadata": {},
     "output_type": "execute_result"
    }
   ],
   "source": [
    "#clicking using absolute xpath\n",
    "\n",
    "\n",
    "search_btn=driver.find_element_by_xpath('/html/body/div/div[2]/div[3]/div/div/div[6]')\n",
    "\n",
    "search_btn"
   ]
  },
  {
   "cell_type": "code",
   "execution_count": 167,
   "id": "25c1af36",
   "metadata": {},
   "outputs": [],
   "source": [
    "search_btn.click()"
   ]
  },
  {
   "cell_type": "code",
   "execution_count": 168,
   "id": "7ac2089e",
   "metadata": {},
   "outputs": [
    {
     "data": {
      "text/plain": [
       "[<selenium.webdriver.remote.webelement.WebElement (session=\"28e45c83314e2037fa6445dcaeb2fb41\", element=\"2dad284c-9b77-4a4b-b53c-0fe207f27a43\")>,\n",
       " <selenium.webdriver.remote.webelement.WebElement (session=\"28e45c83314e2037fa6445dcaeb2fb41\", element=\"5398144b-14b3-42a9-adcd-0e5d09e004df\")>,\n",
       " <selenium.webdriver.remote.webelement.WebElement (session=\"28e45c83314e2037fa6445dcaeb2fb41\", element=\"2b34479f-6564-403f-84a8-767a6988459d\")>,\n",
       " <selenium.webdriver.remote.webelement.WebElement (session=\"28e45c83314e2037fa6445dcaeb2fb41\", element=\"519f85ba-0e51-49ab-9fd7-4d050f7e4751\")>,\n",
       " <selenium.webdriver.remote.webelement.WebElement (session=\"28e45c83314e2037fa6445dcaeb2fb41\", element=\"8c6f105c-7dc4-4f9c-b861-a8d54f0e62ef\")>,\n",
       " <selenium.webdriver.remote.webelement.WebElement (session=\"28e45c83314e2037fa6445dcaeb2fb41\", element=\"028e9d2b-e338-4a51-9975-ba9e94936569\")>,\n",
       " <selenium.webdriver.remote.webelement.WebElement (session=\"28e45c83314e2037fa6445dcaeb2fb41\", element=\"356cf450-2ced-49c4-96d4-d071fc025271\")>,\n",
       " <selenium.webdriver.remote.webelement.WebElement (session=\"28e45c83314e2037fa6445dcaeb2fb41\", element=\"557eaa39-4e6a-4896-811a-b1978f6c8dd0\")>,\n",
       " <selenium.webdriver.remote.webelement.WebElement (session=\"28e45c83314e2037fa6445dcaeb2fb41\", element=\"7c303246-64b7-4868-8905-02e8e86d4c06\")>,\n",
       " <selenium.webdriver.remote.webelement.WebElement (session=\"28e45c83314e2037fa6445dcaeb2fb41\", element=\"6dc95b10-df6a-45c2-9487-ba81b4743028\")>,\n",
       " <selenium.webdriver.remote.webelement.WebElement (session=\"28e45c83314e2037fa6445dcaeb2fb41\", element=\"139cbc22-dedb-42af-bc30-efe9996d1f60\")>,\n",
       " <selenium.webdriver.remote.webelement.WebElement (session=\"28e45c83314e2037fa6445dcaeb2fb41\", element=\"3a3f4124-e729-4887-b53f-f849dbd88f41\")>,\n",
       " <selenium.webdriver.remote.webelement.WebElement (session=\"28e45c83314e2037fa6445dcaeb2fb41\", element=\"18b9eb86-23c3-40a8-87fc-53fab0039d75\")>,\n",
       " <selenium.webdriver.remote.webelement.WebElement (session=\"28e45c83314e2037fa6445dcaeb2fb41\", element=\"7376a1af-187a-4948-9457-6c728f6ac01f\")>,\n",
       " <selenium.webdriver.remote.webelement.WebElement (session=\"28e45c83314e2037fa6445dcaeb2fb41\", element=\"4b6c54d1-a42e-4cd0-a97b-45b337228e05\")>,\n",
       " <selenium.webdriver.remote.webelement.WebElement (session=\"28e45c83314e2037fa6445dcaeb2fb41\", element=\"0c88558a-425f-4d2f-b5b1-c463ba3a7066\")>,\n",
       " <selenium.webdriver.remote.webelement.WebElement (session=\"28e45c83314e2037fa6445dcaeb2fb41\", element=\"77b97eee-de64-4639-b0b8-b1232dc7951e\")>,\n",
       " <selenium.webdriver.remote.webelement.WebElement (session=\"28e45c83314e2037fa6445dcaeb2fb41\", element=\"bea19d03-a6c1-49f8-ac6e-2f9da5f896bb\")>,\n",
       " <selenium.webdriver.remote.webelement.WebElement (session=\"28e45c83314e2037fa6445dcaeb2fb41\", element=\"c3bf05fa-2acd-43c4-851f-630e930e7a60\")>,\n",
       " <selenium.webdriver.remote.webelement.WebElement (session=\"28e45c83314e2037fa6445dcaeb2fb41\", element=\"39645476-8c7c-4565-8bf2-a0dbab708f96\")>]"
      ]
     },
     "execution_count": 168,
     "metadata": {},
     "output_type": "execute_result"
    }
   ],
   "source": [
    "#lets extract all web elements having jobs title\n",
    "title_tags = driver.find_elements_by_xpath('//a[@class=\"title fw500 ellipsis\"]')\n",
    "\n",
    "title_tags\n"
   ]
  },
  {
   "cell_type": "code",
   "execution_count": 169,
   "id": "2c958271",
   "metadata": {},
   "outputs": [
    {
     "data": {
      "text/plain": [
       "10"
      ]
     },
     "execution_count": 169,
     "metadata": {},
     "output_type": "execute_result"
    }
   ],
   "source": [
    "len(title_tags[0:10])"
   ]
  },
  {
   "cell_type": "raw",
   "id": "f857fcd4",
   "metadata": {},
   "source": [
    "# lets create empty list,in this list data will be stored while doing scraping\n",
    "\n",
    "by for loop"
   ]
  },
  {
   "cell_type": "code",
   "execution_count": 170,
   "id": "c899b5c2",
   "metadata": {
    "scrolled": true
   },
   "outputs": [
    {
     "data": {
      "text/plain": [
       "['Senior Data Analyst',\n",
       " 'Assistant Clinical Data Analyst',\n",
       " 'Data Analyst',\n",
       " 'Consultant - Data Analyst',\n",
       " 'Hiring For Data Analyst',\n",
       " 'Senior Data Analyst',\n",
       " 'Junior Data Analyst/ Scientist- Fresher Position',\n",
       " 'Data Analyst',\n",
       " 'Lead - Data Analyst / Scientist',\n",
       " 'Data Analyst / Sr. Data Analyst',\n",
       " 'Senior Data Analyst - CRM',\n",
       " 'Business Data Analyst - Database Design/Mining',\n",
       " 'BUSINESS ANALYST -DATA SCIENCE-CONSUMER',\n",
       " 'Senior Data Analyst - Supporting Audits',\n",
       " 'Research - Data Analyst / Associate',\n",
       " 'Data Analyst',\n",
       " 'Customer Master Data Analyst (SAP SD/MM)',\n",
       " 'Data Analyst',\n",
       " 'Data Analyst',\n",
       " 'Data Analyst']"
      ]
     },
     "execution_count": 170,
     "metadata": {},
     "output_type": "execute_result"
    }
   ],
   "source": [
    "job_titles=[]\n",
    "for i in title_tags:\n",
    "    job_titles.append(i.text)\n",
    "    \n",
    "job_titles      \n",
    "    "
   ]
  },
  {
   "cell_type": "code",
   "execution_count": 173,
   "id": "748116e8",
   "metadata": {},
   "outputs": [
    {
     "data": {
      "text/plain": [
       "[<selenium.webdriver.remote.webelement.WebElement (session=\"28e45c83314e2037fa6445dcaeb2fb41\", element=\"49bf1f9a-594b-4abc-8bca-76780ab0aaf2\")>,\n",
       " <selenium.webdriver.remote.webelement.WebElement (session=\"28e45c83314e2037fa6445dcaeb2fb41\", element=\"053a4490-21dc-452e-b8bd-54726792da5f\")>,\n",
       " <selenium.webdriver.remote.webelement.WebElement (session=\"28e45c83314e2037fa6445dcaeb2fb41\", element=\"4f67d6e4-fe52-442b-8408-49f485f79735\")>,\n",
       " <selenium.webdriver.remote.webelement.WebElement (session=\"28e45c83314e2037fa6445dcaeb2fb41\", element=\"17ca1b1a-d017-43b9-ad2b-c8bbed307178\")>,\n",
       " <selenium.webdriver.remote.webelement.WebElement (session=\"28e45c83314e2037fa6445dcaeb2fb41\", element=\"c542b4ab-a5a8-4f61-b2aa-216662459f34\")>,\n",
       " <selenium.webdriver.remote.webelement.WebElement (session=\"28e45c83314e2037fa6445dcaeb2fb41\", element=\"09d5bbc2-e508-4aad-a676-5974b3699646\")>,\n",
       " <selenium.webdriver.remote.webelement.WebElement (session=\"28e45c83314e2037fa6445dcaeb2fb41\", element=\"2a15028f-daa7-4058-a7bf-cca331268b9b\")>,\n",
       " <selenium.webdriver.remote.webelement.WebElement (session=\"28e45c83314e2037fa6445dcaeb2fb41\", element=\"54e2228b-955e-4330-b114-d62a907df3ef\")>,\n",
       " <selenium.webdriver.remote.webelement.WebElement (session=\"28e45c83314e2037fa6445dcaeb2fb41\", element=\"c873ef29-4133-48f0-b2a9-b9e4ef46eae3\")>,\n",
       " <selenium.webdriver.remote.webelement.WebElement (session=\"28e45c83314e2037fa6445dcaeb2fb41\", element=\"c680829d-8418-479a-b90e-e4c03dffd009\")>,\n",
       " <selenium.webdriver.remote.webelement.WebElement (session=\"28e45c83314e2037fa6445dcaeb2fb41\", element=\"685c3a2d-bedc-49a0-ab26-6f009c96770f\")>,\n",
       " <selenium.webdriver.remote.webelement.WebElement (session=\"28e45c83314e2037fa6445dcaeb2fb41\", element=\"636278d5-1ccd-4d9a-8299-78a76b971c8c\")>,\n",
       " <selenium.webdriver.remote.webelement.WebElement (session=\"28e45c83314e2037fa6445dcaeb2fb41\", element=\"13e72052-72a4-4f89-abb7-14479fcf5cd8\")>,\n",
       " <selenium.webdriver.remote.webelement.WebElement (session=\"28e45c83314e2037fa6445dcaeb2fb41\", element=\"eeb1d32d-3549-48c6-b66b-b3b1bef4fc51\")>,\n",
       " <selenium.webdriver.remote.webelement.WebElement (session=\"28e45c83314e2037fa6445dcaeb2fb41\", element=\"3ea9bf27-ec4b-4e29-a6e2-0de8a14bcba9\")>,\n",
       " <selenium.webdriver.remote.webelement.WebElement (session=\"28e45c83314e2037fa6445dcaeb2fb41\", element=\"cf9bffb6-acf5-4d09-a0ff-7cdb48301431\")>,\n",
       " <selenium.webdriver.remote.webelement.WebElement (session=\"28e45c83314e2037fa6445dcaeb2fb41\", element=\"e67b626f-1e69-4a55-be63-1e816021dc6c\")>,\n",
       " <selenium.webdriver.remote.webelement.WebElement (session=\"28e45c83314e2037fa6445dcaeb2fb41\", element=\"8f53614b-0fd3-4066-9c53-f396a3373e36\")>,\n",
       " <selenium.webdriver.remote.webelement.WebElement (session=\"28e45c83314e2037fa6445dcaeb2fb41\", element=\"03cacca6-043f-46ff-b183-a281b7bd2c97\")>,\n",
       " <selenium.webdriver.remote.webelement.WebElement (session=\"28e45c83314e2037fa6445dcaeb2fb41\", element=\"361dbeb5-f234-4af3-8e6f-7a24e4789ab1\")>]"
      ]
     },
     "execution_count": 173,
     "metadata": {},
     "output_type": "execute_result"
    }
   ],
   "source": [
    "loc_tags = driver.find_elements_by_xpath('//li[@class=\"fleft grey-text br2 placeHolderLi location\"]')\n",
    "loc_tags"
   ]
  },
  {
   "cell_type": "code",
   "execution_count": 172,
   "id": "ad36660c",
   "metadata": {},
   "outputs": [
    {
     "data": {
      "text/plain": [
       "10"
      ]
     },
     "execution_count": 172,
     "metadata": {},
     "output_type": "execute_result"
    }
   ],
   "source": [
    "len(loc_tags[0:10])"
   ]
  },
  {
   "cell_type": "code",
   "execution_count": 174,
   "id": "ba18c5b5",
   "metadata": {},
   "outputs": [
    {
     "data": {
      "text/plain": [
       "['Bengaluru/Bangalore',\n",
       " 'Bangalore/Bengaluru',\n",
       " 'Bengaluru/Bangalore',\n",
       " 'Bengaluru/Bangalore',\n",
       " 'Bangalore/Bengaluru',\n",
       " 'Bangalore/Bengaluru',\n",
       " 'Kolkata, Gurgaon/Gurugram, Bangalore/Bengaluru\\n(WFH during Covid)',\n",
       " 'Bangalore/Bengaluru',\n",
       " 'Bangalore/Bengaluru',\n",
       " 'Bangalore/Bengaluru',\n",
       " 'Bangalore/Bengaluru',\n",
       " 'Bangalore/Bengaluru',\n",
       " 'Bangalore/Bengaluru',\n",
       " 'Bangalore/Bengaluru',\n",
       " 'Mumbai, Delhi / NCR, Bangalore/Bengaluru',\n",
       " 'Bangalore/Bengaluru',\n",
       " 'Bangalore/Bengaluru',\n",
       " 'Bangalore/Bengaluru',\n",
       " 'Bangalore/Bengaluru(Bommanahalli)',\n",
       " 'Bangalore/Bengaluru(BTM Layout)']"
      ]
     },
     "execution_count": 174,
     "metadata": {},
     "output_type": "execute_result"
    }
   ],
   "source": [
    "# same foe job_loc\n",
    "job_locs = []\n",
    "for i in loc_tags:\n",
    "    job_locs.append(i.text)\n",
    "job_locs\n",
    "\n",
    "len(job_locs[0:10])\n",
    "    \n",
    "job_locs   "
   ]
  },
  {
   "cell_type": "code",
   "execution_count": 177,
   "id": "0bd63872",
   "metadata": {},
   "outputs": [
    {
     "data": {
      "text/plain": [
       "[<selenium.webdriver.remote.webelement.WebElement (session=\"28e45c83314e2037fa6445dcaeb2fb41\", element=\"176f8b7b-69e3-49d0-9b6b-d39e2cc0f963\")>,\n",
       " <selenium.webdriver.remote.webelement.WebElement (session=\"28e45c83314e2037fa6445dcaeb2fb41\", element=\"c4eb377e-2f83-4756-b91d-707ddb703716\")>,\n",
       " <selenium.webdriver.remote.webelement.WebElement (session=\"28e45c83314e2037fa6445dcaeb2fb41\", element=\"4296d3db-5e61-47fb-a060-c214779028bb\")>,\n",
       " <selenium.webdriver.remote.webelement.WebElement (session=\"28e45c83314e2037fa6445dcaeb2fb41\", element=\"46b4bcd5-07bb-498d-9e3c-52227f8da6e4\")>,\n",
       " <selenium.webdriver.remote.webelement.WebElement (session=\"28e45c83314e2037fa6445dcaeb2fb41\", element=\"0b616f23-8480-420b-a007-09584ffdc346\")>,\n",
       " <selenium.webdriver.remote.webelement.WebElement (session=\"28e45c83314e2037fa6445dcaeb2fb41\", element=\"fd341408-f4a1-4872-bfa7-e1bdbe791938\")>,\n",
       " <selenium.webdriver.remote.webelement.WebElement (session=\"28e45c83314e2037fa6445dcaeb2fb41\", element=\"e7fdbfaa-0364-4139-9379-bd02a43159c8\")>,\n",
       " <selenium.webdriver.remote.webelement.WebElement (session=\"28e45c83314e2037fa6445dcaeb2fb41\", element=\"42c6a5a9-eb3a-4677-ac3f-cd81e80493a5\")>,\n",
       " <selenium.webdriver.remote.webelement.WebElement (session=\"28e45c83314e2037fa6445dcaeb2fb41\", element=\"e6abe9ee-b291-4dec-8378-ec487af1b991\")>,\n",
       " <selenium.webdriver.remote.webelement.WebElement (session=\"28e45c83314e2037fa6445dcaeb2fb41\", element=\"46f46b9f-df08-46e5-a64b-5bf8e011597a\")>,\n",
       " <selenium.webdriver.remote.webelement.WebElement (session=\"28e45c83314e2037fa6445dcaeb2fb41\", element=\"3cdd669a-ed85-4973-b7b5-69a7d400a69c\")>,\n",
       " <selenium.webdriver.remote.webelement.WebElement (session=\"28e45c83314e2037fa6445dcaeb2fb41\", element=\"e35157b1-8805-4942-9c23-32e4a0c27ded\")>,\n",
       " <selenium.webdriver.remote.webelement.WebElement (session=\"28e45c83314e2037fa6445dcaeb2fb41\", element=\"fc58cab8-c966-4cb2-897e-78a630929ebd\")>,\n",
       " <selenium.webdriver.remote.webelement.WebElement (session=\"28e45c83314e2037fa6445dcaeb2fb41\", element=\"1cbc6b1b-b004-498c-8f2b-27fadd502e07\")>,\n",
       " <selenium.webdriver.remote.webelement.WebElement (session=\"28e45c83314e2037fa6445dcaeb2fb41\", element=\"02805566-3ea1-4bdd-92c1-ba89e89b4604\")>,\n",
       " <selenium.webdriver.remote.webelement.WebElement (session=\"28e45c83314e2037fa6445dcaeb2fb41\", element=\"dfc91375-e895-47b1-8d5c-7af78470e8bc\")>,\n",
       " <selenium.webdriver.remote.webelement.WebElement (session=\"28e45c83314e2037fa6445dcaeb2fb41\", element=\"d67bc531-9a38-44b5-bd1e-4b2fdbf2dad9\")>,\n",
       " <selenium.webdriver.remote.webelement.WebElement (session=\"28e45c83314e2037fa6445dcaeb2fb41\", element=\"16672a4f-5e5b-46e4-a235-94509b038d5a\")>,\n",
       " <selenium.webdriver.remote.webelement.WebElement (session=\"28e45c83314e2037fa6445dcaeb2fb41\", element=\"f9ae2f13-5618-472d-b1f0-4091d64adf33\")>,\n",
       " <selenium.webdriver.remote.webelement.WebElement (session=\"28e45c83314e2037fa6445dcaeb2fb41\", element=\"54d4ae06-158a-4c74-b21b-a9167f5ebb94\")>]"
      ]
     },
     "execution_count": 177,
     "metadata": {},
     "output_type": "execute_result"
    }
   ],
   "source": [
    "company_names = driver.find_elements_by_xpath('//a[@class=\"subTitle ellipsis fleft\"]')\n",
    "company_names"
   ]
  },
  {
   "cell_type": "code",
   "execution_count": 180,
   "id": "b41cf02f",
   "metadata": {},
   "outputs": [
    {
     "data": {
      "text/plain": [
       "['Flipkart',\n",
       " 'Labcorp Drug Development India Private Limited',\n",
       " 'Flipkart',\n",
       " 'Flipkart',\n",
       " 'Flipkart',\n",
       " 'Walmart',\n",
       " 'Sejal Consulting Hub',\n",
       " 'Snaphunt',\n",
       " 'Axim Technologies',\n",
       " 'Vmware']"
      ]
     },
     "execution_count": 180,
     "metadata": {},
     "output_type": "execute_result"
    }
   ],
   "source": [
    "company_name = []\n",
    "\n",
    "\n",
    "for i in company_names:\n",
    "    company_name.append(i.text)\n",
    "    \n",
    "company_name[0:10]  \n",
    "\n"
   ]
  },
  {
   "cell_type": "code",
   "execution_count": 143,
   "id": "836c6d65",
   "metadata": {},
   "outputs": [
    {
     "data": {
      "text/plain": [
       "10"
      ]
     },
     "execution_count": 143,
     "metadata": {},
     "output_type": "execute_result"
    }
   ],
   "source": [
    "len(company_name[0:10])"
   ]
  },
  {
   "cell_type": "code",
   "execution_count": 181,
   "id": "b0223265",
   "metadata": {
    "scrolled": true
   },
   "outputs": [
    {
     "data": {
      "text/plain": [
       "[<selenium.webdriver.remote.webelement.WebElement (session=\"28e45c83314e2037fa6445dcaeb2fb41\", element=\"2aa2b3e3-1ae7-4e5d-a739-cba3017fd5f6\")>,\n",
       " <selenium.webdriver.remote.webelement.WebElement (session=\"28e45c83314e2037fa6445dcaeb2fb41\", element=\"61e2ea46-c901-456c-9bdb-6ab36a18539e\")>,\n",
       " <selenium.webdriver.remote.webelement.WebElement (session=\"28e45c83314e2037fa6445dcaeb2fb41\", element=\"c004d90a-2685-4b95-b408-25e79bca3107\")>,\n",
       " <selenium.webdriver.remote.webelement.WebElement (session=\"28e45c83314e2037fa6445dcaeb2fb41\", element=\"9906a7ac-19e1-423e-8983-7802fd3a151f\")>,\n",
       " <selenium.webdriver.remote.webelement.WebElement (session=\"28e45c83314e2037fa6445dcaeb2fb41\", element=\"d1d4ea71-adf5-48ef-8629-9268b68b76a5\")>,\n",
       " <selenium.webdriver.remote.webelement.WebElement (session=\"28e45c83314e2037fa6445dcaeb2fb41\", element=\"859fa7a8-4d1e-4385-949a-20566913bbb4\")>,\n",
       " <selenium.webdriver.remote.webelement.WebElement (session=\"28e45c83314e2037fa6445dcaeb2fb41\", element=\"9fd28947-8813-48f1-aa51-f18aff65a4ea\")>,\n",
       " <selenium.webdriver.remote.webelement.WebElement (session=\"28e45c83314e2037fa6445dcaeb2fb41\", element=\"c5e65bb5-b7b6-4e76-83af-e3643dd80c45\")>,\n",
       " <selenium.webdriver.remote.webelement.WebElement (session=\"28e45c83314e2037fa6445dcaeb2fb41\", element=\"6ea9255b-e92e-4079-ab4f-8e3447fd26e4\")>,\n",
       " <selenium.webdriver.remote.webelement.WebElement (session=\"28e45c83314e2037fa6445dcaeb2fb41\", element=\"1b5fce5a-01ea-40cd-839b-0cecaebe8f30\")>,\n",
       " <selenium.webdriver.remote.webelement.WebElement (session=\"28e45c83314e2037fa6445dcaeb2fb41\", element=\"bf8735fb-c3ef-4405-ab11-8c7a5906bc31\")>,\n",
       " <selenium.webdriver.remote.webelement.WebElement (session=\"28e45c83314e2037fa6445dcaeb2fb41\", element=\"d9420d9c-930d-4ccd-93ca-3380cb225e65\")>,\n",
       " <selenium.webdriver.remote.webelement.WebElement (session=\"28e45c83314e2037fa6445dcaeb2fb41\", element=\"fcdda500-7a6c-4a1e-a1a7-5bd8199c15ac\")>,\n",
       " <selenium.webdriver.remote.webelement.WebElement (session=\"28e45c83314e2037fa6445dcaeb2fb41\", element=\"91477895-b89a-472c-8b33-b8b0488f57b1\")>,\n",
       " <selenium.webdriver.remote.webelement.WebElement (session=\"28e45c83314e2037fa6445dcaeb2fb41\", element=\"7498ed5c-0d7e-49d8-859e-e6d05298dd18\")>,\n",
       " <selenium.webdriver.remote.webelement.WebElement (session=\"28e45c83314e2037fa6445dcaeb2fb41\", element=\"60b96b42-83fa-40ed-baec-4f64c9777b0e\")>,\n",
       " <selenium.webdriver.remote.webelement.WebElement (session=\"28e45c83314e2037fa6445dcaeb2fb41\", element=\"073ab965-dacf-49ab-9763-00816979a0fa\")>,\n",
       " <selenium.webdriver.remote.webelement.WebElement (session=\"28e45c83314e2037fa6445dcaeb2fb41\", element=\"bdc02fd6-28eb-4c53-8868-473124597b7a\")>,\n",
       " <selenium.webdriver.remote.webelement.WebElement (session=\"28e45c83314e2037fa6445dcaeb2fb41\", element=\"5f786dd0-f273-4080-a610-af8da46c1fec\")>]"
      ]
     },
     "execution_count": 181,
     "metadata": {},
     "output_type": "execute_result"
    }
   ],
   "source": [
    "# extarcting experience\n",
    "\n",
    "exp_tags = driver.find_elements_by_xpath('//li[@class=\"fleft grey-text br2 placeHolderLi experience\"]')\n",
    "exp_tags"
   ]
  },
  {
   "cell_type": "code",
   "execution_count": 182,
   "id": "15cb1a13",
   "metadata": {
    "scrolled": true
   },
   "outputs": [
    {
     "data": {
      "text/plain": [
       "['4-6 Yrs',\n",
       " '0-2 Yrs',\n",
       " '1-2 Yrs',\n",
       " '1-3 Yrs',\n",
       " '4-8 Yrs',\n",
       " '4-7 Yrs',\n",
       " '0-3 Yrs',\n",
       " '0-2 Yrs',\n",
       " '12-14 Yrs',\n",
       " '3-6 Yrs',\n",
       " '2-5 Yrs',\n",
       " '2-5 Yrs',\n",
       " '0-2 Yrs',\n",
       " '5-8 Yrs',\n",
       " '0-2 Yrs',\n",
       " '2-3 Yrs',\n",
       " '3-5 Yrs',\n",
       " '2-7 Yrs',\n",
       " '2-3 Yrs']"
      ]
     },
     "execution_count": 182,
     "metadata": {},
     "output_type": "execute_result"
    }
   ],
   "source": [
    "experience_required = []\n",
    "\n",
    "for i in exp_tags:\n",
    "    experience_required.append(i.text)\n",
    "experience_required    \n",
    "    "
   ]
  },
  {
   "cell_type": "code",
   "execution_count": 190,
   "id": "1b9f8e36",
   "metadata": {},
   "outputs": [],
   "source": [
    "job_titles=job_titles[0:10] \n",
    "job_locs=job_locs[0:10]\n",
    "company_name=company_name[0:10]\n",
    "experience_required=experience_required[0:10]\n"
   ]
  },
  {
   "cell_type": "code",
   "execution_count": 191,
   "id": "66e6fd38",
   "metadata": {},
   "outputs": [
    {
     "name": "stdout",
     "output_type": "stream",
     "text": [
      "10 10 10 10\n"
     ]
    }
   ],
   "source": [
    "print(len(job_titles), len(job_locs) ,len(company_name),len(experience_required))"
   ]
  },
  {
   "cell_type": "code",
   "execution_count": 192,
   "id": "e39899e8",
   "metadata": {},
   "outputs": [
    {
     "data": {
      "text/html": [
       "<div>\n",
       "<style scoped>\n",
       "    .dataframe tbody tr th:only-of-type {\n",
       "        vertical-align: middle;\n",
       "    }\n",
       "\n",
       "    .dataframe tbody tr th {\n",
       "        vertical-align: top;\n",
       "    }\n",
       "\n",
       "    .dataframe thead th {\n",
       "        text-align: right;\n",
       "    }\n",
       "</style>\n",
       "<table border=\"1\" class=\"dataframe\">\n",
       "  <thead>\n",
       "    <tr style=\"text-align: right;\">\n",
       "      <th></th>\n",
       "      <th>Job Title</th>\n",
       "      <th>Job Location</th>\n",
       "      <th>Company Name</th>\n",
       "      <th>Experience</th>\n",
       "    </tr>\n",
       "  </thead>\n",
       "  <tbody>\n",
       "    <tr>\n",
       "      <th>0</th>\n",
       "      <td>Senior Data Analyst</td>\n",
       "      <td>Bengaluru/Bangalore</td>\n",
       "      <td>Flipkart</td>\n",
       "      <td>4-6 Yrs</td>\n",
       "    </tr>\n",
       "    <tr>\n",
       "      <th>1</th>\n",
       "      <td>Assistant Clinical Data Analyst</td>\n",
       "      <td>Bangalore/Bengaluru</td>\n",
       "      <td>Labcorp Drug Development India Private Limited</td>\n",
       "      <td>0-2 Yrs</td>\n",
       "    </tr>\n",
       "    <tr>\n",
       "      <th>2</th>\n",
       "      <td>Data Analyst</td>\n",
       "      <td>Bengaluru/Bangalore</td>\n",
       "      <td>Flipkart</td>\n",
       "      <td>1-2 Yrs</td>\n",
       "    </tr>\n",
       "    <tr>\n",
       "      <th>3</th>\n",
       "      <td>Consultant - Data Analyst</td>\n",
       "      <td>Bengaluru/Bangalore</td>\n",
       "      <td>Flipkart</td>\n",
       "      <td>1-3 Yrs</td>\n",
       "    </tr>\n",
       "    <tr>\n",
       "      <th>4</th>\n",
       "      <td>Hiring For Data Analyst</td>\n",
       "      <td>Bangalore/Bengaluru</td>\n",
       "      <td>Flipkart</td>\n",
       "      <td>4-8 Yrs</td>\n",
       "    </tr>\n",
       "    <tr>\n",
       "      <th>5</th>\n",
       "      <td>Senior Data Analyst</td>\n",
       "      <td>Bangalore/Bengaluru</td>\n",
       "      <td>Walmart</td>\n",
       "      <td>4-7 Yrs</td>\n",
       "    </tr>\n",
       "    <tr>\n",
       "      <th>6</th>\n",
       "      <td>Junior Data Analyst/ Scientist- Fresher Position</td>\n",
       "      <td>Kolkata, Gurgaon/Gurugram, Bangalore/Bengaluru...</td>\n",
       "      <td>Sejal Consulting Hub</td>\n",
       "      <td>0-3 Yrs</td>\n",
       "    </tr>\n",
       "    <tr>\n",
       "      <th>7</th>\n",
       "      <td>Data Analyst</td>\n",
       "      <td>Bangalore/Bengaluru</td>\n",
       "      <td>Snaphunt</td>\n",
       "      <td>0-2 Yrs</td>\n",
       "    </tr>\n",
       "    <tr>\n",
       "      <th>8</th>\n",
       "      <td>Lead - Data Analyst / Scientist</td>\n",
       "      <td>Bangalore/Bengaluru</td>\n",
       "      <td>Axim Technologies</td>\n",
       "      <td>12-14 Yrs</td>\n",
       "    </tr>\n",
       "    <tr>\n",
       "      <th>9</th>\n",
       "      <td>Data Analyst / Sr. Data Analyst</td>\n",
       "      <td>Bangalore/Bengaluru</td>\n",
       "      <td>Vmware</td>\n",
       "      <td>3-6 Yrs</td>\n",
       "    </tr>\n",
       "  </tbody>\n",
       "</table>\n",
       "</div>"
      ],
      "text/plain": [
       "                                          Job Title  \\\n",
       "0                               Senior Data Analyst   \n",
       "1                   Assistant Clinical Data Analyst   \n",
       "2                                      Data Analyst   \n",
       "3                         Consultant - Data Analyst   \n",
       "4                           Hiring For Data Analyst   \n",
       "5                               Senior Data Analyst   \n",
       "6  Junior Data Analyst/ Scientist- Fresher Position   \n",
       "7                                      Data Analyst   \n",
       "8                   Lead - Data Analyst / Scientist   \n",
       "9                   Data Analyst / Sr. Data Analyst   \n",
       "\n",
       "                                        Job Location  \\\n",
       "0                                Bengaluru/Bangalore   \n",
       "1                                Bangalore/Bengaluru   \n",
       "2                                Bengaluru/Bangalore   \n",
       "3                                Bengaluru/Bangalore   \n",
       "4                                Bangalore/Bengaluru   \n",
       "5                                Bangalore/Bengaluru   \n",
       "6  Kolkata, Gurgaon/Gurugram, Bangalore/Bengaluru...   \n",
       "7                                Bangalore/Bengaluru   \n",
       "8                                Bangalore/Bengaluru   \n",
       "9                                Bangalore/Bengaluru   \n",
       "\n",
       "                                     Company Name Experience  \n",
       "0                                        Flipkart    4-6 Yrs  \n",
       "1  Labcorp Drug Development India Private Limited    0-2 Yrs  \n",
       "2                                        Flipkart    1-2 Yrs  \n",
       "3                                        Flipkart    1-3 Yrs  \n",
       "4                                        Flipkart    4-8 Yrs  \n",
       "5                                         Walmart    4-7 Yrs  \n",
       "6                            Sejal Consulting Hub    0-3 Yrs  \n",
       "7                                        Snaphunt    0-2 Yrs  \n",
       "8                               Axim Technologies  12-14 Yrs  \n",
       "9                                          Vmware    3-6 Yrs  "
      ]
     },
     "execution_count": 192,
     "metadata": {},
     "output_type": "execute_result"
    }
   ],
   "source": [
    "# making data frame\n",
    "import pandas as pd\n",
    "\n",
    "jobs=pd.DataFrame()\n",
    "jobs['Job Title']= job_titles\n",
    "jobs['Job Location']= job_locs\n",
    "jobs['Company Name']= company_name\n",
    "jobs['Experience']= experience_required\n",
    "jobs\n",
    "\n",
    "\n"
   ]
  },
  {
   "cell_type": "markdown",
   "id": "af53cac2",
   "metadata": {},
   "source": [
    "## Question 2"
   ]
  },
  {
   "cell_type": "raw",
   "id": "88a84cfa",
   "metadata": {},
   "source": [
    "#Q2: Write a python program to scrape data for “Data Scientist” Job position in “Bangalore” location. You have to scrape the job-title, job-location, company_name. You have to scrape first 10 jobs data.\n",
    "This task will be done in following steps:\n",
    "1. First get the webpage https://www.naukri.com/\n",
    "2. Enter “Data Scientist” in “Skill, Designations, Companies” field and enter “Bangalore” in “enter the location” field.\n",
    "3. Then click the search button.\n",
    "4. Then scrape the data for the first 10 jobs results you get.\n",
    "5. Finally create a dataframe of the scraped data."
   ]
  },
  {
   "cell_type": "code",
   "execution_count": 6,
   "id": "eeb2ff5c",
   "metadata": {},
   "outputs": [
    {
     "name": "stdout",
     "output_type": "stream",
     "text": [
      "Requirement already satisfied: selenium in f:\\programdata\\anaconda3\\lib\\site-packages (4.1.0)\n",
      "Requirement already satisfied: trio-websocket~=0.9 in f:\\programdata\\anaconda3\\lib\\site-packages (from selenium) (0.9.2)\n",
      "Requirement already satisfied: trio~=0.17 in f:\\programdata\\anaconda3\\lib\\site-packages (from selenium) (0.19.0)\n",
      "Requirement already satisfied: urllib3[secure]~=1.26 in f:\\programdata\\anaconda3\\lib\\site-packages (from selenium) (1.26.4)\n",
      "Requirement already satisfied: cffi>=1.14 in f:\\programdata\\anaconda3\\lib\\site-packages (from trio~=0.17->selenium) (1.14.5)\n",
      "Requirement already satisfied: sniffio in f:\\programdata\\anaconda3\\lib\\site-packages (from trio~=0.17->selenium) (1.2.0)\n",
      "Requirement already satisfied: attrs>=19.2.0 in f:\\programdata\\anaconda3\\lib\\site-packages (from trio~=0.17->selenium) (20.3.0)\n",
      "Requirement already satisfied: idna in f:\\programdata\\anaconda3\\lib\\site-packages (from trio~=0.17->selenium) (2.10)\n",
      "Requirement already satisfied: sortedcontainers in f:\\programdata\\anaconda3\\lib\\site-packages (from trio~=0.17->selenium) (2.3.0)\n",
      "Requirement already satisfied: outcome in f:\\programdata\\anaconda3\\lib\\site-packages (from trio~=0.17->selenium) (1.1.0)\n",
      "Requirement already satisfied: async-generator>=1.9 in f:\\programdata\\anaconda3\\lib\\site-packages (from trio~=0.17->selenium) (1.10)\n",
      "Requirement already satisfied: pycparser in f:\\programdata\\anaconda3\\lib\\site-packages (from cffi>=1.14->trio~=0.17->selenium) (2.20)\n",
      "Requirement already satisfied: wsproto>=0.14 in f:\\programdata\\anaconda3\\lib\\site-packages (from trio-websocket~=0.9->selenium) (1.0.0)\n",
      "Requirement already satisfied: pyOpenSSL>=0.14 in f:\\programdata\\anaconda3\\lib\\site-packages (from urllib3[secure]~=1.26->selenium) (20.0.1)\n",
      "Requirement already satisfied: certifi in f:\\programdata\\anaconda3\\lib\\site-packages (from urllib3[secure]~=1.26->selenium) (2020.12.5)\n",
      "Requirement already satisfied: cryptography>=1.3.4 in f:\\programdata\\anaconda3\\lib\\site-packages (from urllib3[secure]~=1.26->selenium) (3.4.7)\n",
      "Requirement already satisfied: six>=1.5.2 in f:\\programdata\\anaconda3\\lib\\site-packages (from pyOpenSSL>=0.14->urllib3[secure]~=1.26->selenium) (1.15.0)\n",
      "Requirement already satisfied: h11<1,>=0.9.0 in f:\\programdata\\anaconda3\\lib\\site-packages (from wsproto>=0.14->trio-websocket~=0.9->selenium) (0.12.0)\n"
     ]
    }
   ],
   "source": [
    "# first install selenium library\n",
    "!pip install selenium\n"
   ]
  },
  {
   "cell_type": "raw",
   "id": "6ecf1ab7",
   "metadata": {},
   "source": [
    "# Now we will download the web driver for web browser\n",
    "1)check the version of ur browser 2) go link 'https://chromedriver.chromium.org/downloads'3) download the webdriver of your version of browser"
   ]
  },
  {
   "cell_type": "code",
   "execution_count": 7,
   "id": "07d1718a",
   "metadata": {},
   "outputs": [],
   "source": [
    "# import all the libraries\n",
    "\n",
    "import selenium\n",
    "from selenium import webdriver\n",
    "import pandas as pd\n",
    "import warnings\n",
    "warnings.filterwarnings(\"ignore\")\n"
   ]
  },
  {
   "cell_type": "code",
   "execution_count": null,
   "id": "bb552eae",
   "metadata": {},
   "outputs": [],
   "source": [
    "driver=webdriver.Chrome(r'C:\\Users\\Amber\\Downloads\\chromedriver_win32\\chromerdriver.exe')\n",
    "driver"
   ]
  },
  {
   "cell_type": "code",
   "execution_count": null,
   "id": "48fc871e",
   "metadata": {},
   "outputs": [],
   "source": [
    "url = 'https://www.naukri.com/'\n",
    "driver.get(url)"
   ]
  },
  {
   "cell_type": "code",
   "execution_count": 197,
   "id": "a8757f8b",
   "metadata": {},
   "outputs": [
    {
     "data": {
      "text/plain": [
       "<selenium.webdriver.remote.webelement.WebElement (session=\"b6930d37b5e1ea8bfe189bc94404c7ea\", element=\"66192202-b02c-4bd4-af4d-bb6f986e7cc7\")>"
      ]
     },
     "execution_count": 197,
     "metadata": {},
     "output_type": "execute_result"
    }
   ],
   "source": [
    "#find web element for search job bar using xpath\n",
    "\n",
    "\n",
    "search_job= driver.find_element_by_xpath('/html/body/div/div[2]/div[3]/div/div/div[1]/div/div/div/input')\n",
    "search_job"
   ]
  },
  {
   "cell_type": "code",
   "execution_count": 198,
   "id": "beb5ed8f",
   "metadata": {},
   "outputs": [],
   "source": [
    "search_job.send_keys(\"Data scientist\")"
   ]
  },
  {
   "cell_type": "code",
   "execution_count": 199,
   "id": "d57ebaf6",
   "metadata": {},
   "outputs": [
    {
     "data": {
      "text/plain": [
       "<selenium.webdriver.remote.webelement.WebElement (session=\"b6930d37b5e1ea8bfe189bc94404c7ea\", element=\"ede9c83f-a1fa-456c-939b-486d907a0f7e\")>"
      ]
     },
     "execution_count": 199,
     "metadata": {},
     "output_type": "execute_result"
    }
   ],
   "source": [
    "search_loc =driver.find_element_by_xpath('/html/body/div/div[2]/div[3]/div/div/div[3]/div/div/div/input')\n",
    "search_loc"
   ]
  },
  {
   "cell_type": "code",
   "execution_count": 200,
   "id": "8bd95362",
   "metadata": {},
   "outputs": [],
   "source": [
    "search_loc.send_keys(\"Bangalore\")"
   ]
  },
  {
   "cell_type": "code",
   "execution_count": 201,
   "id": "115e1cc2",
   "metadata": {},
   "outputs": [
    {
     "data": {
      "text/plain": [
       "<selenium.webdriver.remote.webelement.WebElement (session=\"b6930d37b5e1ea8bfe189bc94404c7ea\", element=\"8575d6fc-49fc-424d-adfe-d31559de2fcc\")>"
      ]
     },
     "execution_count": 201,
     "metadata": {},
     "output_type": "execute_result"
    }
   ],
   "source": [
    "search_btn=driver.find_element_by_xpath('/html/body/div/div[2]/div[3]/div/div/div[6]')\n",
    "search_btn"
   ]
  },
  {
   "cell_type": "code",
   "execution_count": 202,
   "id": "8bf2e496",
   "metadata": {},
   "outputs": [],
   "source": [
    "search_btn.click()"
   ]
  },
  {
   "cell_type": "code",
   "execution_count": 203,
   "id": "6a3fcc20",
   "metadata": {},
   "outputs": [
    {
     "data": {
      "text/plain": [
       "[<selenium.webdriver.remote.webelement.WebElement (session=\"b6930d37b5e1ea8bfe189bc94404c7ea\", element=\"8e4f391f-f5d4-4f86-8b68-5ef1f324f3b2\")>,\n",
       " <selenium.webdriver.remote.webelement.WebElement (session=\"b6930d37b5e1ea8bfe189bc94404c7ea\", element=\"98f53d6c-11f1-4fe2-9fd2-9ae93c16caa3\")>,\n",
       " <selenium.webdriver.remote.webelement.WebElement (session=\"b6930d37b5e1ea8bfe189bc94404c7ea\", element=\"18d7a2fd-dad4-4202-a38d-ccb8556b04a6\")>,\n",
       " <selenium.webdriver.remote.webelement.WebElement (session=\"b6930d37b5e1ea8bfe189bc94404c7ea\", element=\"9fba3784-8b67-48f2-ad9e-3c55851cd565\")>,\n",
       " <selenium.webdriver.remote.webelement.WebElement (session=\"b6930d37b5e1ea8bfe189bc94404c7ea\", element=\"556602dc-6916-439d-a395-d6beeec58c83\")>,\n",
       " <selenium.webdriver.remote.webelement.WebElement (session=\"b6930d37b5e1ea8bfe189bc94404c7ea\", element=\"d706b02b-ef84-4ca5-8e54-4873dd4eae4c\")>,\n",
       " <selenium.webdriver.remote.webelement.WebElement (session=\"b6930d37b5e1ea8bfe189bc94404c7ea\", element=\"cd6072d1-edf9-4614-8b05-f33fbd7617ad\")>,\n",
       " <selenium.webdriver.remote.webelement.WebElement (session=\"b6930d37b5e1ea8bfe189bc94404c7ea\", element=\"1d02732b-e04a-4489-9e59-23fc313e4c26\")>,\n",
       " <selenium.webdriver.remote.webelement.WebElement (session=\"b6930d37b5e1ea8bfe189bc94404c7ea\", element=\"1e0cb3bb-240d-4efc-b061-c22b7192e6ea\")>,\n",
       " <selenium.webdriver.remote.webelement.WebElement (session=\"b6930d37b5e1ea8bfe189bc94404c7ea\", element=\"ed54ff6f-0d2f-4577-b849-bdf0b91879db\")>,\n",
       " <selenium.webdriver.remote.webelement.WebElement (session=\"b6930d37b5e1ea8bfe189bc94404c7ea\", element=\"24dc68ae-d0ee-406d-82fb-5737aad19ee3\")>,\n",
       " <selenium.webdriver.remote.webelement.WebElement (session=\"b6930d37b5e1ea8bfe189bc94404c7ea\", element=\"822b9cc0-e92e-47a9-8812-82951a5cc0c7\")>,\n",
       " <selenium.webdriver.remote.webelement.WebElement (session=\"b6930d37b5e1ea8bfe189bc94404c7ea\", element=\"05f149f7-f226-410e-b680-157abb4d1acd\")>,\n",
       " <selenium.webdriver.remote.webelement.WebElement (session=\"b6930d37b5e1ea8bfe189bc94404c7ea\", element=\"21a8714c-2ee7-4ae4-937d-72f87bf48396\")>,\n",
       " <selenium.webdriver.remote.webelement.WebElement (session=\"b6930d37b5e1ea8bfe189bc94404c7ea\", element=\"52a582b5-4d31-412f-84cc-29afbad8a0de\")>,\n",
       " <selenium.webdriver.remote.webelement.WebElement (session=\"b6930d37b5e1ea8bfe189bc94404c7ea\", element=\"650c8609-82e7-429e-9e4d-78ff5af61af6\")>,\n",
       " <selenium.webdriver.remote.webelement.WebElement (session=\"b6930d37b5e1ea8bfe189bc94404c7ea\", element=\"6d10e8f8-b745-42ed-85e2-e23ec819903e\")>,\n",
       " <selenium.webdriver.remote.webelement.WebElement (session=\"b6930d37b5e1ea8bfe189bc94404c7ea\", element=\"e87ed494-85b1-4e49-8d22-397bcb040793\")>,\n",
       " <selenium.webdriver.remote.webelement.WebElement (session=\"b6930d37b5e1ea8bfe189bc94404c7ea\", element=\"e50d57fc-ed34-46c1-8df1-4e5bc127f262\")>]"
      ]
     },
     "execution_count": 203,
     "metadata": {},
     "output_type": "execute_result"
    }
   ],
   "source": [
    "job_titles=driver.find_elements_by_xpath('//a[@class=\"title fw500 ellipsis\"]')\n",
    "job_titles"
   ]
  },
  {
   "cell_type": "code",
   "execution_count": null,
   "id": "76aa1da8",
   "metadata": {},
   "outputs": [],
   "source": [
    "# lets create empty list,in this list data will be stored while doing scraping\n",
    "\n"
   ]
  },
  {
   "cell_type": "code",
   "execution_count": 204,
   "id": "5b7dc5c1",
   "metadata": {},
   "outputs": [
    {
     "data": {
      "text/plain": [
       "['Senior/Lead Data Scientist - (Revenue Management)',\n",
       " 'Senior/Lead - Data Scientist (Supply Chain)',\n",
       " 'Associate Data Scientist',\n",
       " 'Junior Programmer - Data Scientist',\n",
       " 'Lead/Senior Data Scientist (NLP)',\n",
       " 'Data Scientist: Advanced Analytics',\n",
       " 'Data Scientist: Advanced Analytics',\n",
       " 'Sr. Data Scientist',\n",
       " 'Lead Data Scientist',\n",
       " 'Senior Data Scientist',\n",
       " 'Senior Data Scientist',\n",
       " 'Senior Data Scientist - Python/Machine Learning Algorithms',\n",
       " 'Senior Data Scientist',\n",
       " 'Sr Data Scientist',\n",
       " 'Lead Data Scientist - NLP/OpenCV',\n",
       " 'Lead Data Scientist - Prescriptive Analytics/Predictive Modeling',\n",
       " 'Sr. Associate Data Scientist',\n",
       " 'Junior Data Scientist',\n",
       " 'Data Scientist']"
      ]
     },
     "execution_count": 204,
     "metadata": {},
     "output_type": "execute_result"
    }
   ],
   "source": [
    "job_title=[]\n",
    "for i in job_titles:\n",
    "    job_title.append(i.text)\n",
    "job_title"
   ]
  },
  {
   "cell_type": "code",
   "execution_count": 205,
   "id": "dab5bb72",
   "metadata": {},
   "outputs": [
    {
     "data": {
      "text/plain": [
       "[<selenium.webdriver.remote.webelement.WebElement (session=\"b6930d37b5e1ea8bfe189bc94404c7ea\", element=\"32c8edec-b581-41cf-bf1c-95130a84f06a\")>,\n",
       " <selenium.webdriver.remote.webelement.WebElement (session=\"b6930d37b5e1ea8bfe189bc94404c7ea\", element=\"ae9e9b0a-70f0-4c5c-a9f0-1c1d7038d25c\")>,\n",
       " <selenium.webdriver.remote.webelement.WebElement (session=\"b6930d37b5e1ea8bfe189bc94404c7ea\", element=\"c134d083-7ca8-47cc-aa3e-e4c716209ecf\")>,\n",
       " <selenium.webdriver.remote.webelement.WebElement (session=\"b6930d37b5e1ea8bfe189bc94404c7ea\", element=\"98d080ef-f162-4b74-a029-51b2d503d7c3\")>,\n",
       " <selenium.webdriver.remote.webelement.WebElement (session=\"b6930d37b5e1ea8bfe189bc94404c7ea\", element=\"2c3f3c47-06a4-4212-9c39-74222951ec4f\")>,\n",
       " <selenium.webdriver.remote.webelement.WebElement (session=\"b6930d37b5e1ea8bfe189bc94404c7ea\", element=\"b286c4d4-b054-4ff8-8be5-ec07cebf54b4\")>,\n",
       " <selenium.webdriver.remote.webelement.WebElement (session=\"b6930d37b5e1ea8bfe189bc94404c7ea\", element=\"552f0f78-0b77-43cc-8513-d3863b2014f3\")>,\n",
       " <selenium.webdriver.remote.webelement.WebElement (session=\"b6930d37b5e1ea8bfe189bc94404c7ea\", element=\"eb35d269-2a84-4f8c-8239-c2f714acfffd\")>,\n",
       " <selenium.webdriver.remote.webelement.WebElement (session=\"b6930d37b5e1ea8bfe189bc94404c7ea\", element=\"5f603e13-4928-48cc-8a11-abfae06107ab\")>,\n",
       " <selenium.webdriver.remote.webelement.WebElement (session=\"b6930d37b5e1ea8bfe189bc94404c7ea\", element=\"29d33e67-1098-4475-b0c4-ea1ac49bec79\")>,\n",
       " <selenium.webdriver.remote.webelement.WebElement (session=\"b6930d37b5e1ea8bfe189bc94404c7ea\", element=\"84a9553c-b22a-4b88-a58b-4c5a657955b9\")>,\n",
       " <selenium.webdriver.remote.webelement.WebElement (session=\"b6930d37b5e1ea8bfe189bc94404c7ea\", element=\"5b37b5ad-e08b-4bb1-944e-f32c8ca6c81d\")>,\n",
       " <selenium.webdriver.remote.webelement.WebElement (session=\"b6930d37b5e1ea8bfe189bc94404c7ea\", element=\"f948bccb-de79-4cd8-82cf-dfe042bde8ca\")>,\n",
       " <selenium.webdriver.remote.webelement.WebElement (session=\"b6930d37b5e1ea8bfe189bc94404c7ea\", element=\"1cbde410-ed7f-4e5b-80ab-6d2db015f7d6\")>,\n",
       " <selenium.webdriver.remote.webelement.WebElement (session=\"b6930d37b5e1ea8bfe189bc94404c7ea\", element=\"4aa8a1d0-03da-4a18-b20d-7b5cd45d3ce4\")>,\n",
       " <selenium.webdriver.remote.webelement.WebElement (session=\"b6930d37b5e1ea8bfe189bc94404c7ea\", element=\"d983ab2a-1293-4525-9edd-d4e4b1b65c4d\")>,\n",
       " <selenium.webdriver.remote.webelement.WebElement (session=\"b6930d37b5e1ea8bfe189bc94404c7ea\", element=\"df3d61ff-b78c-44ce-87c0-5a0c8d5aa72d\")>,\n",
       " <selenium.webdriver.remote.webelement.WebElement (session=\"b6930d37b5e1ea8bfe189bc94404c7ea\", element=\"f120c675-866a-43b3-a47d-757133221af1\")>,\n",
       " <selenium.webdriver.remote.webelement.WebElement (session=\"b6930d37b5e1ea8bfe189bc94404c7ea\", element=\"da6c1eae-d453-47aa-840b-1483803d1c26\")>,\n",
       " <selenium.webdriver.remote.webelement.WebElement (session=\"b6930d37b5e1ea8bfe189bc94404c7ea\", element=\"03676fdf-1e56-48ec-b3ca-0ede74711c5e\")>]"
      ]
     },
     "execution_count": 205,
     "metadata": {},
     "output_type": "execute_result"
    }
   ],
   "source": [
    "job_locs=driver.find_elements_by_xpath('//li[@class=\"fleft grey-text br2 placeHolderLi location\"]')\n",
    "job_locs"
   ]
  },
  {
   "cell_type": "code",
   "execution_count": 206,
   "id": "e4c7af6c",
   "metadata": {},
   "outputs": [
    {
     "data": {
      "text/plain": [
       "['Bangalore/Bengaluru',\n",
       " 'Bangalore/Bengaluru',\n",
       " 'Bangalore/Bengaluru',\n",
       " 'Chennai, Bangalore/Bengaluru',\n",
       " 'Bangalore/Bengaluru',\n",
       " 'Bangalore/Bengaluru\\n(WFH during Covid)',\n",
       " 'Bangalore/Bengaluru',\n",
       " 'Bengaluru/Bangalore',\n",
       " 'Bangalore/Bengaluru',\n",
       " 'Bangalore/Bengaluru\\n(WFH during Covid)',\n",
       " 'Bangalore/Bengaluru',\n",
       " 'Bangalore/Bengaluru',\n",
       " 'Mumbai, Hyderabad/Secunderabad, Pune, Bangalore/Bengaluru',\n",
       " 'Bangalore/Bengaluru\\n(WFH during Covid)',\n",
       " 'Bangalore/Bengaluru\\n(WFH during Covid)',\n",
       " 'Hyderabad/Secunderabad, Bangalore/Bengaluru',\n",
       " 'Hyderabad/Secunderabad, Bangalore/Bengaluru',\n",
       " 'Bangalore/Bengaluru',\n",
       " 'Bangalore/Bengaluru',\n",
       " 'Remote']"
      ]
     },
     "execution_count": 206,
     "metadata": {},
     "output_type": "execute_result"
    }
   ],
   "source": [
    "job_loc=[]\n",
    "for i in job_locs:\n",
    "    job_loc.append(i.text)\n",
    "job_loc    "
   ]
  },
  {
   "cell_type": "code",
   "execution_count": 209,
   "id": "8efce49a",
   "metadata": {},
   "outputs": [
    {
     "data": {
      "text/plain": [
       "[<selenium.webdriver.remote.webelement.WebElement (session=\"b6930d37b5e1ea8bfe189bc94404c7ea\", element=\"d9c1d366-0c89-49e4-bf51-3ca9eb736d90\")>,\n",
       " <selenium.webdriver.remote.webelement.WebElement (session=\"b6930d37b5e1ea8bfe189bc94404c7ea\", element=\"28b03b04-003a-49ab-bdf3-f043863547a4\")>,\n",
       " <selenium.webdriver.remote.webelement.WebElement (session=\"b6930d37b5e1ea8bfe189bc94404c7ea\", element=\"ed814804-7d5e-44d2-b1ce-aa26e2ad3877\")>,\n",
       " <selenium.webdriver.remote.webelement.WebElement (session=\"b6930d37b5e1ea8bfe189bc94404c7ea\", element=\"cec65a7c-a9d8-4d9a-9aa9-dbda00bc6407\")>,\n",
       " <selenium.webdriver.remote.webelement.WebElement (session=\"b6930d37b5e1ea8bfe189bc94404c7ea\", element=\"3cf11b83-8712-483c-8d8d-339bacfd0398\")>,\n",
       " <selenium.webdriver.remote.webelement.WebElement (session=\"b6930d37b5e1ea8bfe189bc94404c7ea\", element=\"c3398989-36fd-4a6f-928f-76afdfdfa635\")>,\n",
       " <selenium.webdriver.remote.webelement.WebElement (session=\"b6930d37b5e1ea8bfe189bc94404c7ea\", element=\"77f4e87b-ccc2-4eef-b61e-4ea5bce95ac5\")>,\n",
       " <selenium.webdriver.remote.webelement.WebElement (session=\"b6930d37b5e1ea8bfe189bc94404c7ea\", element=\"d05b8e11-b158-408e-9c79-ebbc8266f1fa\")>,\n",
       " <selenium.webdriver.remote.webelement.WebElement (session=\"b6930d37b5e1ea8bfe189bc94404c7ea\", element=\"4d6ddbfb-9bdb-435e-aa9d-7bd7e815048f\")>,\n",
       " <selenium.webdriver.remote.webelement.WebElement (session=\"b6930d37b5e1ea8bfe189bc94404c7ea\", element=\"23a6c4da-7733-46f3-bdfa-f3868ef91902\")>,\n",
       " <selenium.webdriver.remote.webelement.WebElement (session=\"b6930d37b5e1ea8bfe189bc94404c7ea\", element=\"18de6525-85a5-4d43-b77d-6dbd8e928750\")>,\n",
       " <selenium.webdriver.remote.webelement.WebElement (session=\"b6930d37b5e1ea8bfe189bc94404c7ea\", element=\"6b194f8c-8f4f-4b2a-b434-9489fdb2780f\")>,\n",
       " <selenium.webdriver.remote.webelement.WebElement (session=\"b6930d37b5e1ea8bfe189bc94404c7ea\", element=\"a7dc8580-53a2-4480-b0f8-d1c082aa2dcf\")>,\n",
       " <selenium.webdriver.remote.webelement.WebElement (session=\"b6930d37b5e1ea8bfe189bc94404c7ea\", element=\"631411cd-79e6-4f7c-8f7d-756a91c8fcc0\")>,\n",
       " <selenium.webdriver.remote.webelement.WebElement (session=\"b6930d37b5e1ea8bfe189bc94404c7ea\", element=\"6b7a1cf6-15fb-4fff-99cc-b6872c6ddcf5\")>,\n",
       " <selenium.webdriver.remote.webelement.WebElement (session=\"b6930d37b5e1ea8bfe189bc94404c7ea\", element=\"9fa5edfc-cb5b-4a52-8b9a-b043165af357\")>,\n",
       " <selenium.webdriver.remote.webelement.WebElement (session=\"b6930d37b5e1ea8bfe189bc94404c7ea\", element=\"eb854d18-401c-4f41-8c23-74c5e78b3f94\")>,\n",
       " <selenium.webdriver.remote.webelement.WebElement (session=\"b6930d37b5e1ea8bfe189bc94404c7ea\", element=\"8cd6f758-d2d2-4362-bb38-74f411f3be4b\")>,\n",
       " <selenium.webdriver.remote.webelement.WebElement (session=\"b6930d37b5e1ea8bfe189bc94404c7ea\", element=\"a94774dc-8753-410b-beb0-22cbfdf5eda9\")>,\n",
       " <selenium.webdriver.remote.webelement.WebElement (session=\"b6930d37b5e1ea8bfe189bc94404c7ea\", element=\"ba288182-4245-4f76-aff5-52f68f93d9e4\")>]"
      ]
     },
     "execution_count": 209,
     "metadata": {},
     "output_type": "execute_result"
    }
   ],
   "source": [
    "company_names=driver.find_elements_by_xpath('//a[@class=\"subTitle ellipsis fleft\"]')\n",
    "company_names"
   ]
  },
  {
   "cell_type": "code",
   "execution_count": 210,
   "id": "f59c39d5",
   "metadata": {},
   "outputs": [
    {
     "data": {
      "text/plain": [
       "['Siemens',\n",
       " 'o9 Solutions Management India Private Limited',\n",
       " 'o9 Solutions Management India Private Limited',\n",
       " 'Shell',\n",
       " 'GSK India',\n",
       " 'Samya.AI A FRACTAL Entity',\n",
       " 'IBM',\n",
       " 'IBM',\n",
       " 'Siemens',\n",
       " 'Gadgeon Smart Systems',\n",
       " 'Dell',\n",
       " 'Dell',\n",
       " 'Altimax Business Solutions',\n",
       " 'Successr HR Tech PVT LTD',\n",
       " 'Successr HR Tech PVT LTD',\n",
       " 'Codersbrain',\n",
       " 'Codersbrain',\n",
       " 'CHANGE LEADERS CONSULTING',\n",
       " 'KWALEE INDIA PRIVATE LIMITED',\n",
       " 'VANTAGEIQ TECHNOLOGIES (OPC) PRIVATE LIMITED']"
      ]
     },
     "execution_count": 210,
     "metadata": {},
     "output_type": "execute_result"
    }
   ],
   "source": [
    "company_name=[]\n",
    "for i in company_names:\n",
    "    company_name.append(i.text)\n",
    "company_name    "
   ]
  },
  {
   "cell_type": "code",
   "execution_count": 211,
   "id": "7142ab9e",
   "metadata": {},
   "outputs": [],
   "source": [
    "job_title  =job_title[0:10]\n",
    "job_loc = job_loc[0:10]\n",
    "company_name = company_name[0:10]\n"
   ]
  },
  {
   "cell_type": "code",
   "execution_count": 212,
   "id": "d169b8a0",
   "metadata": {},
   "outputs": [
    {
     "name": "stdout",
     "output_type": "stream",
     "text": [
      "10 10 10\n"
     ]
    }
   ],
   "source": [
    "print(len(job_title),len(job_loc),len(company_name))\n"
   ]
  },
  {
   "cell_type": "code",
   "execution_count": 213,
   "id": "e287f055",
   "metadata": {},
   "outputs": [
    {
     "data": {
      "text/html": [
       "<div>\n",
       "<style scoped>\n",
       "    .dataframe tbody tr th:only-of-type {\n",
       "        vertical-align: middle;\n",
       "    }\n",
       "\n",
       "    .dataframe tbody tr th {\n",
       "        vertical-align: top;\n",
       "    }\n",
       "\n",
       "    .dataframe thead th {\n",
       "        text-align: right;\n",
       "    }\n",
       "</style>\n",
       "<table border=\"1\" class=\"dataframe\">\n",
       "  <thead>\n",
       "    <tr style=\"text-align: right;\">\n",
       "      <th></th>\n",
       "      <th>Job Title</th>\n",
       "      <th>Job Location</th>\n",
       "      <th>Company Name</th>\n",
       "    </tr>\n",
       "  </thead>\n",
       "  <tbody>\n",
       "    <tr>\n",
       "      <th>0</th>\n",
       "      <td>Senior/Lead Data Scientist - (Revenue Management)</td>\n",
       "      <td>Bangalore/Bengaluru</td>\n",
       "      <td>Siemens</td>\n",
       "    </tr>\n",
       "    <tr>\n",
       "      <th>1</th>\n",
       "      <td>Senior/Lead - Data Scientist (Supply Chain)</td>\n",
       "      <td>Bangalore/Bengaluru</td>\n",
       "      <td>o9 Solutions Management India Private Limited</td>\n",
       "    </tr>\n",
       "    <tr>\n",
       "      <th>2</th>\n",
       "      <td>Associate Data Scientist</td>\n",
       "      <td>Bangalore/Bengaluru</td>\n",
       "      <td>o9 Solutions Management India Private Limited</td>\n",
       "    </tr>\n",
       "    <tr>\n",
       "      <th>3</th>\n",
       "      <td>Junior Programmer - Data Scientist</td>\n",
       "      <td>Chennai, Bangalore/Bengaluru</td>\n",
       "      <td>Shell</td>\n",
       "    </tr>\n",
       "    <tr>\n",
       "      <th>4</th>\n",
       "      <td>Lead/Senior Data Scientist (NLP)</td>\n",
       "      <td>Bangalore/Bengaluru</td>\n",
       "      <td>GSK India</td>\n",
       "    </tr>\n",
       "    <tr>\n",
       "      <th>5</th>\n",
       "      <td>Data Scientist: Advanced Analytics</td>\n",
       "      <td>Bangalore/Bengaluru\\n(WFH during Covid)</td>\n",
       "      <td>Samya.AI A FRACTAL Entity</td>\n",
       "    </tr>\n",
       "    <tr>\n",
       "      <th>6</th>\n",
       "      <td>Data Scientist: Advanced Analytics</td>\n",
       "      <td>Bangalore/Bengaluru</td>\n",
       "      <td>IBM</td>\n",
       "    </tr>\n",
       "    <tr>\n",
       "      <th>7</th>\n",
       "      <td>Sr. Data Scientist</td>\n",
       "      <td>Bengaluru/Bangalore</td>\n",
       "      <td>IBM</td>\n",
       "    </tr>\n",
       "    <tr>\n",
       "      <th>8</th>\n",
       "      <td>Lead Data Scientist</td>\n",
       "      <td>Bangalore/Bengaluru</td>\n",
       "      <td>Siemens</td>\n",
       "    </tr>\n",
       "    <tr>\n",
       "      <th>9</th>\n",
       "      <td>Senior Data Scientist</td>\n",
       "      <td>Bangalore/Bengaluru\\n(WFH during Covid)</td>\n",
       "      <td>Gadgeon Smart Systems</td>\n",
       "    </tr>\n",
       "  </tbody>\n",
       "</table>\n",
       "</div>"
      ],
      "text/plain": [
       "                                           Job Title  \\\n",
       "0  Senior/Lead Data Scientist - (Revenue Management)   \n",
       "1        Senior/Lead - Data Scientist (Supply Chain)   \n",
       "2                           Associate Data Scientist   \n",
       "3                 Junior Programmer - Data Scientist   \n",
       "4                   Lead/Senior Data Scientist (NLP)   \n",
       "5                 Data Scientist: Advanced Analytics   \n",
       "6                 Data Scientist: Advanced Analytics   \n",
       "7                                 Sr. Data Scientist   \n",
       "8                                Lead Data Scientist   \n",
       "9                              Senior Data Scientist   \n",
       "\n",
       "                              Job Location  \\\n",
       "0                      Bangalore/Bengaluru   \n",
       "1                      Bangalore/Bengaluru   \n",
       "2                      Bangalore/Bengaluru   \n",
       "3             Chennai, Bangalore/Bengaluru   \n",
       "4                      Bangalore/Bengaluru   \n",
       "5  Bangalore/Bengaluru\\n(WFH during Covid)   \n",
       "6                      Bangalore/Bengaluru   \n",
       "7                      Bengaluru/Bangalore   \n",
       "8                      Bangalore/Bengaluru   \n",
       "9  Bangalore/Bengaluru\\n(WFH during Covid)   \n",
       "\n",
       "                                    Company Name  \n",
       "0                                        Siemens  \n",
       "1  o9 Solutions Management India Private Limited  \n",
       "2  o9 Solutions Management India Private Limited  \n",
       "3                                          Shell  \n",
       "4                                      GSK India  \n",
       "5                      Samya.AI A FRACTAL Entity  \n",
       "6                                            IBM  \n",
       "7                                            IBM  \n",
       "8                                        Siemens  \n",
       "9                          Gadgeon Smart Systems  "
      ]
     },
     "execution_count": 213,
     "metadata": {},
     "output_type": "execute_result"
    }
   ],
   "source": [
    "# making dataframe\n",
    "\n",
    "import pandas as pd\n",
    "\n",
    "\n",
    "Jobs=pd.DataFrame()\n",
    "\n",
    "Jobs['Job Title'] = job_title\n",
    "Jobs['Job Location'] = job_loc\n",
    "Jobs['Company Name'] = company_name\n",
    "Jobs\n"
   ]
  },
  {
   "cell_type": "markdown",
   "id": "50a40797",
   "metadata": {},
   "source": [
    "## Question 3"
   ]
  },
  {
   "cell_type": "raw",
   "id": "7f435020",
   "metadata": {},
   "source": [
    "Q3: In this question you have to scrape data using the filters available on the webpage,,,,\n",
    "You have to use the location and salary filter.\n",
    "You have to scrape data for “Data Scientist” designation for first 10 job results.\n",
    "You have to scrape the job-title, job-location, company name, experience required. The location filter to be used is “Delhi/NCR”. The salary filter to be used is “3-6” lakhs\n",
    "The task will be done as shown in the below steps:\n",
    "1. first get the webpage https://www.naukri.com/\n",
    "2. Enter “Data Scientist” in “Skill, Designations, and Companies” field.\n",
    "3. Then click the search button.\n",
    "4. Then apply the location filter and salary filter by checking the respective boxes\n",
    "5. Then scrape the data for the first 10 jobs results you get.\n",
    "6. Finally create a dataframe of the scraped data.   "
   ]
  },
  {
   "cell_type": "code",
   "execution_count": 214,
   "id": "321344c9",
   "metadata": {},
   "outputs": [
    {
     "name": "stdout",
     "output_type": "stream",
     "text": [
      "Requirement already satisfied: selenium in f:\\programdata\\anaconda3\\lib\\site-packages (4.1.0)\n",
      "Requirement already satisfied: urllib3[secure]~=1.26 in f:\\programdata\\anaconda3\\lib\\site-packages (from selenium) (1.26.4)\n",
      "Requirement already satisfied: trio~=0.17 in f:\\programdata\\anaconda3\\lib\\site-packages (from selenium) (0.19.0)\n",
      "Requirement already satisfied: trio-websocket~=0.9 in f:\\programdata\\anaconda3\\lib\\site-packages (from selenium) (0.9.2)\n",
      "Requirement already satisfied: sortedcontainers in f:\\programdata\\anaconda3\\lib\\site-packages (from trio~=0.17->selenium) (2.3.0)\n",
      "Requirement already satisfied: async-generator>=1.9 in f:\\programdata\\anaconda3\\lib\\site-packages (from trio~=0.17->selenium) (1.10)\n",
      "Requirement already satisfied: outcome in f:\\programdata\\anaconda3\\lib\\site-packages (from trio~=0.17->selenium) (1.1.0)\n",
      "Requirement already satisfied: cffi>=1.14 in f:\\programdata\\anaconda3\\lib\\site-packages (from trio~=0.17->selenium) (1.14.5)\n",
      "Requirement already satisfied: idna in f:\\programdata\\anaconda3\\lib\\site-packages (from trio~=0.17->selenium) (2.10)\n",
      "Requirement already satisfied: attrs>=19.2.0 in f:\\programdata\\anaconda3\\lib\\site-packages (from trio~=0.17->selenium) (20.3.0)\n",
      "Requirement already satisfied: sniffio in f:\\programdata\\anaconda3\\lib\\site-packages (from trio~=0.17->selenium) (1.2.0)\n",
      "Requirement already satisfied: pycparser in f:\\programdata\\anaconda3\\lib\\site-packages (from cffi>=1.14->trio~=0.17->selenium) (2.20)\n",
      "Requirement already satisfied: wsproto>=0.14 in f:\\programdata\\anaconda3\\lib\\site-packages (from trio-websocket~=0.9->selenium) (1.0.0)\n",
      "Requirement already satisfied: certifi in f:\\programdata\\anaconda3\\lib\\site-packages (from urllib3[secure]~=1.26->selenium) (2020.12.5)\n",
      "Requirement already satisfied: pyOpenSSL>=0.14 in f:\\programdata\\anaconda3\\lib\\site-packages (from urllib3[secure]~=1.26->selenium) (20.0.1)\n",
      "Requirement already satisfied: cryptography>=1.3.4 in f:\\programdata\\anaconda3\\lib\\site-packages (from urllib3[secure]~=1.26->selenium) (3.4.7)\n",
      "Requirement already satisfied: six>=1.5.2 in f:\\programdata\\anaconda3\\lib\\site-packages (from pyOpenSSL>=0.14->urllib3[secure]~=1.26->selenium) (1.15.0)\n",
      "Requirement already satisfied: h11<1,>=0.9.0 in f:\\programdata\\anaconda3\\lib\\site-packages (from wsproto>=0.14->trio-websocket~=0.9->selenium) (0.12.0)\n"
     ]
    }
   ],
   "source": [
    "# first install selenium library\n",
    "!pip install selenium\n"
   ]
  },
  {
   "cell_type": "code",
   "execution_count": 249,
   "id": "2f2dba01",
   "metadata": {},
   "outputs": [],
   "source": [
    "# import all the libraries\n",
    "\n",
    "import selenium\n",
    "from selenium import webdriver\n",
    "import pandas as pd\n",
    "import warnings\n",
    "warnings.filterwarnings(\"ignore\")\n"
   ]
  },
  {
   "cell_type": "code",
   "execution_count": 250,
   "id": "522bc3ad",
   "metadata": {},
   "outputs": [
    {
     "data": {
      "text/plain": [
       "<selenium.webdriver.chrome.webdriver.WebDriver (session=\"d6e8de43c90d4b8a13b5adb1555d01fe\")>"
      ]
     },
     "execution_count": 250,
     "metadata": {},
     "output_type": "execute_result"
    }
   ],
   "source": [
    "# Lets first connect to webdriver\n",
    "\n",
    "driver=webdriver.Chrome(r'C:\\Users\\Amber\\Downloads\\chromedriver_win32\\chromedriver.exe')\n",
    "driver"
   ]
  },
  {
   "cell_type": "code",
   "execution_count": 251,
   "id": "4126d312",
   "metadata": {},
   "outputs": [],
   "source": [
    "url = 'https://www.naukri.com/'\n",
    "driver.get(url)"
   ]
  },
  {
   "cell_type": "code",
   "execution_count": 252,
   "id": "c133d1c8",
   "metadata": {},
   "outputs": [
    {
     "data": {
      "text/plain": [
       "<selenium.webdriver.remote.webelement.WebElement (session=\"d6e8de43c90d4b8a13b5adb1555d01fe\", element=\"fb418508-df7a-46e3-89c0-a997bd65cd79\")>"
      ]
     },
     "execution_count": 252,
     "metadata": {},
     "output_type": "execute_result"
    }
   ],
   "source": [
    "#find web element for search job bar using xpath\n",
    "\n",
    "\n",
    "search_job= driver.find_element_by_xpath('/html/body/div/div[2]/div[3]/div/div/div[1]/div/div/div/input')\n",
    "search_job"
   ]
  },
  {
   "cell_type": "code",
   "execution_count": 253,
   "id": "449b6f8f",
   "metadata": {},
   "outputs": [],
   "source": [
    "search_job.send_keys(\"Data scientist\")"
   ]
  },
  {
   "cell_type": "code",
   "execution_count": 254,
   "id": "8bf7cc51",
   "metadata": {},
   "outputs": [
    {
     "data": {
      "text/plain": [
       "<selenium.webdriver.remote.webelement.WebElement (session=\"d6e8de43c90d4b8a13b5adb1555d01fe\", element=\"c8035ea1-30ed-4c29-bba6-2387b0dd15d6\")>"
      ]
     },
     "execution_count": 254,
     "metadata": {},
     "output_type": "execute_result"
    }
   ],
   "source": [
    "search_loc= driver.find_element_by_xpath('/html/body/div/div[2]/div[3]/div/div/div[3]/div/div/div/input')\n",
    "search_loc"
   ]
  },
  {
   "cell_type": "code",
   "execution_count": 255,
   "id": "60436087",
   "metadata": {},
   "outputs": [],
   "source": [
    "search_loc.send_keys(\"delhi ncr\")"
   ]
  },
  {
   "cell_type": "code",
   "execution_count": 256,
   "id": "6e714eb4",
   "metadata": {},
   "outputs": [
    {
     "data": {
      "text/plain": [
       "<selenium.webdriver.remote.webelement.WebElement (session=\"d6e8de43c90d4b8a13b5adb1555d01fe\", element=\"c45aaf92-54ae-48eb-8e75-cafa73d78911\")>"
      ]
     },
     "execution_count": 256,
     "metadata": {},
     "output_type": "execute_result"
    }
   ],
   "source": [
    "search_btn=driver.find_element_by_xpath('/html/body/div/div[2]/div[3]/div/div/div[6]')\n",
    "search_btn"
   ]
  },
  {
   "cell_type": "code",
   "execution_count": 257,
   "id": "4db6c87c",
   "metadata": {},
   "outputs": [],
   "source": [
    "search_btn.click()"
   ]
  },
  {
   "cell_type": "code",
   "execution_count": 258,
   "id": "e0e794f4",
   "metadata": {},
   "outputs": [
    {
     "data": {
      "text/plain": [
       "<selenium.webdriver.remote.webelement.WebElement (session=\"d6e8de43c90d4b8a13b5adb1555d01fe\", element=\"60ed1134-e873-4436-a0eb-3f57c20ea1ee\")>"
      ]
     },
     "execution_count": 258,
     "metadata": {},
     "output_type": "execute_result"
    }
   ],
   "source": [
    "search_salary=driver.find_element_by_xpath('/html/body/div[1]/div[3]/div[2]/section[1]/div[2]/div[4]/div[2]/div[2]/label/i')\n",
    "search_salary"
   ]
  },
  {
   "cell_type": "code",
   "execution_count": 259,
   "id": "f1f412b0",
   "metadata": {},
   "outputs": [],
   "source": [
    "search_salary.click()"
   ]
  },
  {
   "cell_type": "code",
   "execution_count": null,
   "id": "f1f95d32",
   "metadata": {},
   "outputs": [],
   "source": [
    "# scraping title tags by for loop,"
   ]
  },
  {
   "cell_type": "code",
   "execution_count": 261,
   "id": "172821b6",
   "metadata": {},
   "outputs": [
    {
     "data": {
      "text/plain": [
       "[<selenium.webdriver.remote.webelement.WebElement (session=\"d6e8de43c90d4b8a13b5adb1555d01fe\", element=\"e6e8e659-560e-4c79-a0ed-b06e4ac29749\")>,\n",
       " <selenium.webdriver.remote.webelement.WebElement (session=\"d6e8de43c90d4b8a13b5adb1555d01fe\", element=\"7d6d8e66-9f73-42bb-9167-99a3df3b74af\")>,\n",
       " <selenium.webdriver.remote.webelement.WebElement (session=\"d6e8de43c90d4b8a13b5adb1555d01fe\", element=\"69d19876-98fa-4e1c-8dcf-f6884bee3156\")>,\n",
       " <selenium.webdriver.remote.webelement.WebElement (session=\"d6e8de43c90d4b8a13b5adb1555d01fe\", element=\"b8b75379-2197-4cf2-bfa3-d14c854a9555\")>,\n",
       " <selenium.webdriver.remote.webelement.WebElement (session=\"d6e8de43c90d4b8a13b5adb1555d01fe\", element=\"03f30c62-ecff-4ce0-8b17-fe0ed757c08a\")>,\n",
       " <selenium.webdriver.remote.webelement.WebElement (session=\"d6e8de43c90d4b8a13b5adb1555d01fe\", element=\"4dc438c2-a76d-47ff-9b4b-f6ea854d3411\")>,\n",
       " <selenium.webdriver.remote.webelement.WebElement (session=\"d6e8de43c90d4b8a13b5adb1555d01fe\", element=\"40f9ab2c-77b2-4b6d-b6f9-d11b71eb6a89\")>,\n",
       " <selenium.webdriver.remote.webelement.WebElement (session=\"d6e8de43c90d4b8a13b5adb1555d01fe\", element=\"fbaa0570-5422-49a9-b1b7-55a9f84f6b66\")>,\n",
       " <selenium.webdriver.remote.webelement.WebElement (session=\"d6e8de43c90d4b8a13b5adb1555d01fe\", element=\"1cbcc10e-77c0-425b-9b88-37df38d857e3\")>,\n",
       " <selenium.webdriver.remote.webelement.WebElement (session=\"d6e8de43c90d4b8a13b5adb1555d01fe\", element=\"b5c68b2d-f769-4f35-b120-76e3d45061da\")>,\n",
       " <selenium.webdriver.remote.webelement.WebElement (session=\"d6e8de43c90d4b8a13b5adb1555d01fe\", element=\"f79f66fd-fb62-4f62-ab92-3a520d0b77d7\")>,\n",
       " <selenium.webdriver.remote.webelement.WebElement (session=\"d6e8de43c90d4b8a13b5adb1555d01fe\", element=\"036e3449-a3aa-4eb5-9d59-f8d48a0b7093\")>,\n",
       " <selenium.webdriver.remote.webelement.WebElement (session=\"d6e8de43c90d4b8a13b5adb1555d01fe\", element=\"a667e6ae-8268-4117-8d28-d2edd38a5679\")>,\n",
       " <selenium.webdriver.remote.webelement.WebElement (session=\"d6e8de43c90d4b8a13b5adb1555d01fe\", element=\"6113a74b-cf61-4bce-b0dd-b7de7e3b2f52\")>,\n",
       " <selenium.webdriver.remote.webelement.WebElement (session=\"d6e8de43c90d4b8a13b5adb1555d01fe\", element=\"7462f985-dd91-45b6-80a4-48652bb5ea4c\")>,\n",
       " <selenium.webdriver.remote.webelement.WebElement (session=\"d6e8de43c90d4b8a13b5adb1555d01fe\", element=\"cd54ff13-4b63-4bd6-833c-89ddcb28f794\")>,\n",
       " <selenium.webdriver.remote.webelement.WebElement (session=\"d6e8de43c90d4b8a13b5adb1555d01fe\", element=\"ff77458c-0c75-487a-95fc-4049fe8e956f\")>,\n",
       " <selenium.webdriver.remote.webelement.WebElement (session=\"d6e8de43c90d4b8a13b5adb1555d01fe\", element=\"663cabe8-66b0-48cb-a616-c6150bd30cf8\")>,\n",
       " <selenium.webdriver.remote.webelement.WebElement (session=\"d6e8de43c90d4b8a13b5adb1555d01fe\", element=\"764565d1-9ee6-4129-acba-4f2df4f75c03\")>,\n",
       " <selenium.webdriver.remote.webelement.WebElement (session=\"d6e8de43c90d4b8a13b5adb1555d01fe\", element=\"cc73ec15-3ace-45a2-b05c-84b28ef76367\")>]"
      ]
     },
     "execution_count": 261,
     "metadata": {},
     "output_type": "execute_result"
    }
   ],
   "source": [
    "job_titles=driver.find_elements_by_xpath('//a[@class=\"title fw500 ellipsis\"]')\n",
    "job_titles"
   ]
  },
  {
   "cell_type": "code",
   "execution_count": 262,
   "id": "8615fcc3",
   "metadata": {},
   "outputs": [
    {
     "data": {
      "text/plain": [
       "['Data Scientist / Senior DS/ Team Lead',\n",
       " 'Data Scientist',\n",
       " 'Data Scientist | Python | Machine Learning | Deep Learning- Fresher',\n",
       " 'Job Opportunity || Data Scientist || HCL Technologies',\n",
       " 'Senior Data Scientist I',\n",
       " 'Openings For Jr/mid/Sr level data Scientists',\n",
       " 'Data Scientist',\n",
       " 'Urgent Hiring For Data Scientist',\n",
       " 'Urgent Hiring For Data Scientist',\n",
       " 'Data Scientist role',\n",
       " 'Data Scientist role',\n",
       " 'Data Scientist role',\n",
       " 'Data Scientist Internship',\n",
       " 'Data Scientist',\n",
       " 'Senior Data Scientist',\n",
       " 'Data Scientist',\n",
       " 'Data Scientist',\n",
       " 'Data Scientist',\n",
       " 'Data Scientist',\n",
       " 'Data Scientist']"
      ]
     },
     "execution_count": 262,
     "metadata": {},
     "output_type": "execute_result"
    }
   ],
   "source": [
    "job_title=[]\n",
    "for i in job_titles:\n",
    "    job_title.append(i.text)\n",
    "job_title    "
   ]
  },
  {
   "cell_type": "code",
   "execution_count": 263,
   "id": "46b983cc",
   "metadata": {},
   "outputs": [
    {
     "data": {
      "text/plain": [
       "[<selenium.webdriver.remote.webelement.WebElement (session=\"d6e8de43c90d4b8a13b5adb1555d01fe\", element=\"1f94e669-382b-4dfa-ae4a-3ab6dd9676b8\")>,\n",
       " <selenium.webdriver.remote.webelement.WebElement (session=\"d6e8de43c90d4b8a13b5adb1555d01fe\", element=\"ef629534-9716-48e2-bc4a-efb9f9ae3523\")>,\n",
       " <selenium.webdriver.remote.webelement.WebElement (session=\"d6e8de43c90d4b8a13b5adb1555d01fe\", element=\"6b325691-1968-4004-83b5-2946acead8f5\")>,\n",
       " <selenium.webdriver.remote.webelement.WebElement (session=\"d6e8de43c90d4b8a13b5adb1555d01fe\", element=\"cc53390b-ac61-4804-b6b9-63a50f461e17\")>,\n",
       " <selenium.webdriver.remote.webelement.WebElement (session=\"d6e8de43c90d4b8a13b5adb1555d01fe\", element=\"2e1fcf48-e96c-4d24-92f9-4e684b9bf34c\")>,\n",
       " <selenium.webdriver.remote.webelement.WebElement (session=\"d6e8de43c90d4b8a13b5adb1555d01fe\", element=\"7a2ec317-a182-4cc0-912c-936892102033\")>,\n",
       " <selenium.webdriver.remote.webelement.WebElement (session=\"d6e8de43c90d4b8a13b5adb1555d01fe\", element=\"790dedcc-6a20-43f8-a40d-f46697d85fac\")>,\n",
       " <selenium.webdriver.remote.webelement.WebElement (session=\"d6e8de43c90d4b8a13b5adb1555d01fe\", element=\"0a20996d-0901-4574-8e03-5fcac2ef7da0\")>,\n",
       " <selenium.webdriver.remote.webelement.WebElement (session=\"d6e8de43c90d4b8a13b5adb1555d01fe\", element=\"9a2c641a-583b-4dc5-9fba-989132893448\")>,\n",
       " <selenium.webdriver.remote.webelement.WebElement (session=\"d6e8de43c90d4b8a13b5adb1555d01fe\", element=\"97d75795-3e79-429d-a467-38fae9046e25\")>,\n",
       " <selenium.webdriver.remote.webelement.WebElement (session=\"d6e8de43c90d4b8a13b5adb1555d01fe\", element=\"790f2486-09b6-4e3d-bf55-5139a8c50a8d\")>,\n",
       " <selenium.webdriver.remote.webelement.WebElement (session=\"d6e8de43c90d4b8a13b5adb1555d01fe\", element=\"e7cf84f0-dcd3-4b8a-9be8-d7f04c58c848\")>,\n",
       " <selenium.webdriver.remote.webelement.WebElement (session=\"d6e8de43c90d4b8a13b5adb1555d01fe\", element=\"94d136dc-cd25-47b4-bb5c-272d9e947ecc\")>,\n",
       " <selenium.webdriver.remote.webelement.WebElement (session=\"d6e8de43c90d4b8a13b5adb1555d01fe\", element=\"c5bbdb40-8bc1-409f-b08e-fa50e8d07d9f\")>,\n",
       " <selenium.webdriver.remote.webelement.WebElement (session=\"d6e8de43c90d4b8a13b5adb1555d01fe\", element=\"f1c7fa59-63ff-4254-be34-ef8287b815d1\")>,\n",
       " <selenium.webdriver.remote.webelement.WebElement (session=\"d6e8de43c90d4b8a13b5adb1555d01fe\", element=\"4ac3a975-6244-4458-a8b5-04fa878876b8\")>,\n",
       " <selenium.webdriver.remote.webelement.WebElement (session=\"d6e8de43c90d4b8a13b5adb1555d01fe\", element=\"8fc0dc06-e689-441e-a9ed-e0c2a5362b94\")>,\n",
       " <selenium.webdriver.remote.webelement.WebElement (session=\"d6e8de43c90d4b8a13b5adb1555d01fe\", element=\"3217086b-435b-4cc1-930b-0bc16130adac\")>,\n",
       " <selenium.webdriver.remote.webelement.WebElement (session=\"d6e8de43c90d4b8a13b5adb1555d01fe\", element=\"f1584af4-0cbe-4b76-8222-871a0706ab34\")>,\n",
       " <selenium.webdriver.remote.webelement.WebElement (session=\"d6e8de43c90d4b8a13b5adb1555d01fe\", element=\"fa8c1e22-2ec4-4be2-b9fd-aa575c3de922\")>]"
      ]
     },
     "execution_count": 263,
     "metadata": {},
     "output_type": "execute_result"
    }
   ],
   "source": [
    "job_locs =driver.find_elements_by_xpath('//li[@class=\"fleft grey-text br2 placeHolderLi location\"]')\n",
    "job_locs"
   ]
  },
  {
   "cell_type": "code",
   "execution_count": 264,
   "id": "4aa96fd8",
   "metadata": {
    "scrolled": true
   },
   "outputs": [
    {
     "data": {
      "text/plain": [
       "['Mumbai, Gurgaon/Gurugram(Cyber City +1)',\n",
       " 'Gurgaon/Gurugram(Uday Nagar)',\n",
       " 'Noida, Gurgaon/Gurugram, Delhi / NCR',\n",
       " 'Delhi / NCR',\n",
       " 'Gurgaon/Gurugram',\n",
       " 'Kolkata, Hyderabad/Secunderabad, Pune, Ahmedabad, Chennai, Bangalore/Bengaluru, Delhi / NCR, Mumbai (All Areas)\\n(WFH during Covid)',\n",
       " 'Gurgaon/Gurugram',\n",
       " 'Gurgaon/Gurugram, Bangalore/Bengaluru',\n",
       " 'Gurgaon/Gurugram, Bangalore/Bengaluru',\n",
       " 'Noida, Hyderabad/Secunderabad, Pune, Gurgaon/Gurugram, Bangalore/Bengaluru, Delhi / NCR\\n(WFH during Covid)',\n",
       " 'Noida, Hyderabad/Secunderabad, Pune, Gurgaon/Gurugram, Bangalore/Bengaluru, Delhi / NCR\\n(WFH during Covid)',\n",
       " 'Noida, Hyderabad/Secunderabad, Pune, Gurgaon/Gurugram, Bangalore/Bengaluru, Delhi / NCR\\n(WFH during Covid)',\n",
       " 'New Delhi',\n",
       " 'Gurgaon/Gurugram, Chennai',\n",
       " 'Delhi',\n",
       " 'New Delhi',\n",
       " 'Gurgaon, Bengaluru',\n",
       " 'Bharuch, Jaipur, Bhopal, Mumbai, Jhansi, Nagpur, Ghaziabad, Jaunpur, Kanpur, Delhi, Lucknow, Agra, Gurgaon, Rajkot, Bengaluru',\n",
       " 'Delhi',\n",
       " 'Delhi']"
      ]
     },
     "execution_count": 264,
     "metadata": {},
     "output_type": "execute_result"
    }
   ],
   "source": [
    "job_loc=[]\n",
    "for i in job_locs:\n",
    "    job_loc.append(i.text)\n",
    "job_loc"
   ]
  },
  {
   "cell_type": "code",
   "execution_count": 267,
   "id": "4d027053",
   "metadata": {},
   "outputs": [
    {
     "data": {
      "text/plain": [
       "[<selenium.webdriver.remote.webelement.WebElement (session=\"d6e8de43c90d4b8a13b5adb1555d01fe\", element=\"a6eaad50-106f-4836-94ba-2a49201e4d9c\")>,\n",
       " <selenium.webdriver.remote.webelement.WebElement (session=\"d6e8de43c90d4b8a13b5adb1555d01fe\", element=\"30064a30-f179-4bc8-bf02-371aba922144\")>,\n",
       " <selenium.webdriver.remote.webelement.WebElement (session=\"d6e8de43c90d4b8a13b5adb1555d01fe\", element=\"716c6337-e0bf-455e-802d-6a567a604d9e\")>,\n",
       " <selenium.webdriver.remote.webelement.WebElement (session=\"d6e8de43c90d4b8a13b5adb1555d01fe\", element=\"f1eabd1c-d218-437e-8ace-b87afd33cb77\")>,\n",
       " <selenium.webdriver.remote.webelement.WebElement (session=\"d6e8de43c90d4b8a13b5adb1555d01fe\", element=\"a36b610e-887e-4b21-86ac-d6c6b5e33dbb\")>,\n",
       " <selenium.webdriver.remote.webelement.WebElement (session=\"d6e8de43c90d4b8a13b5adb1555d01fe\", element=\"878d4f92-0822-45c3-b796-fd5b4496167b\")>,\n",
       " <selenium.webdriver.remote.webelement.WebElement (session=\"d6e8de43c90d4b8a13b5adb1555d01fe\", element=\"b4332bdd-28fe-478b-ad26-d409af8fc6d4\")>,\n",
       " <selenium.webdriver.remote.webelement.WebElement (session=\"d6e8de43c90d4b8a13b5adb1555d01fe\", element=\"77d4f944-e0a6-4f41-97f3-9ce1215cc011\")>,\n",
       " <selenium.webdriver.remote.webelement.WebElement (session=\"d6e8de43c90d4b8a13b5adb1555d01fe\", element=\"3477ee30-6184-426c-ab86-1b24aa656078\")>,\n",
       " <selenium.webdriver.remote.webelement.WebElement (session=\"d6e8de43c90d4b8a13b5adb1555d01fe\", element=\"92965ee7-43d9-45ec-b5a7-61be3c4f391c\")>,\n",
       " <selenium.webdriver.remote.webelement.WebElement (session=\"d6e8de43c90d4b8a13b5adb1555d01fe\", element=\"36819151-3447-4a2b-9dc0-8437cdd1288b\")>,\n",
       " <selenium.webdriver.remote.webelement.WebElement (session=\"d6e8de43c90d4b8a13b5adb1555d01fe\", element=\"313c000f-3192-48f2-9bc3-ee0e62fcddca\")>,\n",
       " <selenium.webdriver.remote.webelement.WebElement (session=\"d6e8de43c90d4b8a13b5adb1555d01fe\", element=\"b9b4b2f0-fd8d-44e4-bd3d-7a92ed005644\")>,\n",
       " <selenium.webdriver.remote.webelement.WebElement (session=\"d6e8de43c90d4b8a13b5adb1555d01fe\", element=\"89ad976c-35f3-48d1-9d0d-addd5e3fc317\")>,\n",
       " <selenium.webdriver.remote.webelement.WebElement (session=\"d6e8de43c90d4b8a13b5adb1555d01fe\", element=\"24d82f3f-0244-4476-b4d7-a7cc1ce0a154\")>,\n",
       " <selenium.webdriver.remote.webelement.WebElement (session=\"d6e8de43c90d4b8a13b5adb1555d01fe\", element=\"c34a2160-2c3e-46d0-b9fd-2ea1d44aade2\")>,\n",
       " <selenium.webdriver.remote.webelement.WebElement (session=\"d6e8de43c90d4b8a13b5adb1555d01fe\", element=\"59d735e7-2d41-485d-bc49-d4d140754504\")>,\n",
       " <selenium.webdriver.remote.webelement.WebElement (session=\"d6e8de43c90d4b8a13b5adb1555d01fe\", element=\"56b9e6ed-4e60-41de-9714-8dfdbdf42484\")>,\n",
       " <selenium.webdriver.remote.webelement.WebElement (session=\"d6e8de43c90d4b8a13b5adb1555d01fe\", element=\"a02e4890-e255-450e-9fc4-d3f1965b1b5f\")>,\n",
       " <selenium.webdriver.remote.webelement.WebElement (session=\"d6e8de43c90d4b8a13b5adb1555d01fe\", element=\"1a4c6db3-070d-4d12-b0d4-453df7ab1fdc\")>]"
      ]
     },
     "execution_count": 267,
     "metadata": {},
     "output_type": "execute_result"
    }
   ],
   "source": [
    "company_names=driver.find_elements_by_xpath('//a[@class=\"subTitle ellipsis fleft\"]')\n",
    "company_names"
   ]
  },
  {
   "cell_type": "code",
   "execution_count": 271,
   "id": "48dfb04f",
   "metadata": {},
   "outputs": [
    {
     "data": {
      "text/plain": [
       "['NebulARC Technologies Private Limited',\n",
       " 'Core Diagnostics Private Limited',\n",
       " 'Schlesinger Group',\n",
       " 'HCL',\n",
       " 'Delhivery',\n",
       " 'Pluto seven business solutions (p) limited',\n",
       " 'T & A Solutions',\n",
       " 'Mount Talent Consulting Private Limited',\n",
       " 'Mount Talent Consulting Private Limited',\n",
       " 'Mount Talent Consulting Private Limited',\n",
       " 'Mount Talent Consulting Private Limited',\n",
       " 'Mount Talent Consulting Private Limited',\n",
       " 'iHackers Inc',\n",
       " 'Teleperformance',\n",
       " 'iNICU',\n",
       " 'Boston Consulting Group',\n",
       " 'BlackBuck',\n",
       " 'Country Veggie',\n",
       " 'Sentieo',\n",
       " 'Mahajan Imaging']"
      ]
     },
     "execution_count": 271,
     "metadata": {},
     "output_type": "execute_result"
    }
   ],
   "source": [
    "company_name=[]\n",
    "for i in company_names:\n",
    "    company_name.append(i.text)\n",
    "company_name    \n"
   ]
  },
  {
   "cell_type": "code",
   "execution_count": 265,
   "id": "1ca718d8",
   "metadata": {
    "scrolled": true
   },
   "outputs": [
    {
     "data": {
      "text/plain": [
       "[<selenium.webdriver.remote.webelement.WebElement (session=\"d6e8de43c90d4b8a13b5adb1555d01fe\", element=\"74b4d92f-56b7-4604-9fdd-83f776af97b2\")>,\n",
       " <selenium.webdriver.remote.webelement.WebElement (session=\"d6e8de43c90d4b8a13b5adb1555d01fe\", element=\"6b0625ca-1479-4b1b-8f09-a7db7705bb23\")>,\n",
       " <selenium.webdriver.remote.webelement.WebElement (session=\"d6e8de43c90d4b8a13b5adb1555d01fe\", element=\"35ef62f7-ad72-4182-88a6-adc80408f429\")>,\n",
       " <selenium.webdriver.remote.webelement.WebElement (session=\"d6e8de43c90d4b8a13b5adb1555d01fe\", element=\"ad781682-56c2-4266-99e2-72415fd332f6\")>,\n",
       " <selenium.webdriver.remote.webelement.WebElement (session=\"d6e8de43c90d4b8a13b5adb1555d01fe\", element=\"3b20bb1c-e9ef-45a5-b283-52558fc0454b\")>,\n",
       " <selenium.webdriver.remote.webelement.WebElement (session=\"d6e8de43c90d4b8a13b5adb1555d01fe\", element=\"a99181e4-f830-4a14-ba97-00732651dd24\")>,\n",
       " <selenium.webdriver.remote.webelement.WebElement (session=\"d6e8de43c90d4b8a13b5adb1555d01fe\", element=\"4f89cc11-b72d-4c3d-b111-2cbdeee558a4\")>,\n",
       " <selenium.webdriver.remote.webelement.WebElement (session=\"d6e8de43c90d4b8a13b5adb1555d01fe\", element=\"2ef20387-1803-425f-9992-83958b627af3\")>,\n",
       " <selenium.webdriver.remote.webelement.WebElement (session=\"d6e8de43c90d4b8a13b5adb1555d01fe\", element=\"97b2d167-8242-4b41-ba4f-bdcee4630d72\")>,\n",
       " <selenium.webdriver.remote.webelement.WebElement (session=\"d6e8de43c90d4b8a13b5adb1555d01fe\", element=\"8910e534-2be5-46e5-b4fd-0cec1d55d0a9\")>,\n",
       " <selenium.webdriver.remote.webelement.WebElement (session=\"d6e8de43c90d4b8a13b5adb1555d01fe\", element=\"1ca296a2-07e7-4c2e-8a98-d445008aa4a8\")>,\n",
       " <selenium.webdriver.remote.webelement.WebElement (session=\"d6e8de43c90d4b8a13b5adb1555d01fe\", element=\"5b5210a9-e81f-4c20-a510-da53401c9b17\")>,\n",
       " <selenium.webdriver.remote.webelement.WebElement (session=\"d6e8de43c90d4b8a13b5adb1555d01fe\", element=\"f9f1ac34-2b0d-4f32-a8fa-b4b5fe3db2a3\")>,\n",
       " <selenium.webdriver.remote.webelement.WebElement (session=\"d6e8de43c90d4b8a13b5adb1555d01fe\", element=\"84124161-d519-424c-8c40-9b5204deb37d\")>,\n",
       " <selenium.webdriver.remote.webelement.WebElement (session=\"d6e8de43c90d4b8a13b5adb1555d01fe\", element=\"226dec6b-c24b-420c-a865-d3654a58b456\")>,\n",
       " <selenium.webdriver.remote.webelement.WebElement (session=\"d6e8de43c90d4b8a13b5adb1555d01fe\", element=\"94cc6151-0c57-4e0c-b05b-a22e10de4817\")>,\n",
       " <selenium.webdriver.remote.webelement.WebElement (session=\"d6e8de43c90d4b8a13b5adb1555d01fe\", element=\"eda19e83-9552-4a96-9473-fd8619d321e1\")>,\n",
       " <selenium.webdriver.remote.webelement.WebElement (session=\"d6e8de43c90d4b8a13b5adb1555d01fe\", element=\"d56fa308-1ca1-4eb2-a144-29149c7a2577\")>,\n",
       " <selenium.webdriver.remote.webelement.WebElement (session=\"d6e8de43c90d4b8a13b5adb1555d01fe\", element=\"3d4f71cd-481d-4d0a-8fc7-00e738587b75\")>,\n",
       " <selenium.webdriver.remote.webelement.WebElement (session=\"d6e8de43c90d4b8a13b5adb1555d01fe\", element=\"37f20dd9-c9f6-47c1-af3a-27438a466866\")>]"
      ]
     },
     "execution_count": 265,
     "metadata": {},
     "output_type": "execute_result"
    }
   ],
   "source": [
    "job_exps =driver.find_elements_by_xpath('//li[@class=\"fleft grey-text br2 placeHolderLi experience\"]')\n",
    "job_exps"
   ]
  },
  {
   "cell_type": "code",
   "execution_count": 266,
   "id": "d4a13a90",
   "metadata": {},
   "outputs": [
    {
     "data": {
      "text/plain": [
       "['0-4 Yrs',\n",
       " '2-7 Yrs',\n",
       " '0-3 Yrs',\n",
       " '2-6 Yrs',\n",
       " '3-7 Yrs',\n",
       " '2-6 Yrs',\n",
       " '2-6 Yrs',\n",
       " '1-6 Yrs',\n",
       " '1-6 Yrs',\n",
       " '1-4 Yrs',\n",
       " '1-3 Yrs',\n",
       " '1-3 Yrs',\n",
       " '0-1 Yrs',\n",
       " '4-9 Yrs',\n",
       " '1-5 Yrs',\n",
       " '2-5 Yrs',\n",
       " '3-7 Yrs',\n",
       " '1-3 Yrs',\n",
       " '2-7 Yrs',\n",
       " '2-6 Yrs']"
      ]
     },
     "execution_count": 266,
     "metadata": {},
     "output_type": "execute_result"
    }
   ],
   "source": [
    "job_experience=[]\n",
    "for i in job_exps:\n",
    "    job_experience.append(i.text)\n",
    "job_experience"
   ]
  },
  {
   "cell_type": "raw",
   "id": "895e3f0c",
   "metadata": {},
   "source": [
    "# for making data frame\n",
    "import pandas as pd"
   ]
  },
  {
   "cell_type": "code",
   "execution_count": 274,
   "id": "b20f1292",
   "metadata": {},
   "outputs": [
    {
     "name": "stdout",
     "output_type": "stream",
     "text": [
      "10 10 10 10\n"
     ]
    }
   ],
   "source": [
    "import pandas as pd\n",
    "\n",
    "\n",
    "job_title=job_title[0:10]\n",
    "job_loc=job_loc[0:10]\n",
    "company_name=company_name[0:10]\n",
    "job_experience=job_experience[0:10]\n",
    "\n",
    "\n",
    "print(len(job_title),len(job_loc),len(company_name),len(job_experience))\n"
   ]
  },
  {
   "cell_type": "code",
   "execution_count": 275,
   "id": "ae50a280",
   "metadata": {},
   "outputs": [
    {
     "data": {
      "text/html": [
       "<div>\n",
       "<style scoped>\n",
       "    .dataframe tbody tr th:only-of-type {\n",
       "        vertical-align: middle;\n",
       "    }\n",
       "\n",
       "    .dataframe tbody tr th {\n",
       "        vertical-align: top;\n",
       "    }\n",
       "\n",
       "    .dataframe thead th {\n",
       "        text-align: right;\n",
       "    }\n",
       "</style>\n",
       "<table border=\"1\" class=\"dataframe\">\n",
       "  <thead>\n",
       "    <tr style=\"text-align: right;\">\n",
       "      <th></th>\n",
       "      <th>Job Title</th>\n",
       "      <th>Job Location</th>\n",
       "      <th>Company Name</th>\n",
       "      <th>Experience required</th>\n",
       "    </tr>\n",
       "  </thead>\n",
       "  <tbody>\n",
       "    <tr>\n",
       "      <th>0</th>\n",
       "      <td>Data Scientist / Senior DS/ Team Lead</td>\n",
       "      <td>Mumbai, Gurgaon/Gurugram(Cyber City +1)</td>\n",
       "      <td>NebulARC Technologies Private Limited</td>\n",
       "      <td>0-4 Yrs</td>\n",
       "    </tr>\n",
       "    <tr>\n",
       "      <th>1</th>\n",
       "      <td>Data Scientist</td>\n",
       "      <td>Gurgaon/Gurugram(Uday Nagar)</td>\n",
       "      <td>Core Diagnostics Private Limited</td>\n",
       "      <td>2-7 Yrs</td>\n",
       "    </tr>\n",
       "    <tr>\n",
       "      <th>2</th>\n",
       "      <td>Data Scientist | Python | Machine Learning | D...</td>\n",
       "      <td>Noida, Gurgaon/Gurugram, Delhi / NCR</td>\n",
       "      <td>Schlesinger Group</td>\n",
       "      <td>0-3 Yrs</td>\n",
       "    </tr>\n",
       "    <tr>\n",
       "      <th>3</th>\n",
       "      <td>Job Opportunity || Data Scientist || HCL Techn...</td>\n",
       "      <td>Delhi / NCR</td>\n",
       "      <td>HCL</td>\n",
       "      <td>2-6 Yrs</td>\n",
       "    </tr>\n",
       "    <tr>\n",
       "      <th>4</th>\n",
       "      <td>Senior Data Scientist I</td>\n",
       "      <td>Gurgaon/Gurugram</td>\n",
       "      <td>Delhivery</td>\n",
       "      <td>3-7 Yrs</td>\n",
       "    </tr>\n",
       "    <tr>\n",
       "      <th>5</th>\n",
       "      <td>Openings For Jr/mid/Sr level data Scientists</td>\n",
       "      <td>Kolkata, Hyderabad/Secunderabad, Pune, Ahmedab...</td>\n",
       "      <td>Pluto seven business solutions (p) limited</td>\n",
       "      <td>2-6 Yrs</td>\n",
       "    </tr>\n",
       "    <tr>\n",
       "      <th>6</th>\n",
       "      <td>Data Scientist</td>\n",
       "      <td>Gurgaon/Gurugram</td>\n",
       "      <td>T &amp; A Solutions</td>\n",
       "      <td>2-6 Yrs</td>\n",
       "    </tr>\n",
       "    <tr>\n",
       "      <th>7</th>\n",
       "      <td>Urgent Hiring For Data Scientist</td>\n",
       "      <td>Gurgaon/Gurugram, Bangalore/Bengaluru</td>\n",
       "      <td>Mount Talent Consulting Private Limited</td>\n",
       "      <td>1-6 Yrs</td>\n",
       "    </tr>\n",
       "    <tr>\n",
       "      <th>8</th>\n",
       "      <td>Urgent Hiring For Data Scientist</td>\n",
       "      <td>Gurgaon/Gurugram, Bangalore/Bengaluru</td>\n",
       "      <td>Mount Talent Consulting Private Limited</td>\n",
       "      <td>1-6 Yrs</td>\n",
       "    </tr>\n",
       "    <tr>\n",
       "      <th>9</th>\n",
       "      <td>Data Scientist role</td>\n",
       "      <td>Noida, Hyderabad/Secunderabad, Pune, Gurgaon/G...</td>\n",
       "      <td>Mount Talent Consulting Private Limited</td>\n",
       "      <td>1-4 Yrs</td>\n",
       "    </tr>\n",
       "  </tbody>\n",
       "</table>\n",
       "</div>"
      ],
      "text/plain": [
       "                                           Job Title  \\\n",
       "0              Data Scientist / Senior DS/ Team Lead   \n",
       "1                                     Data Scientist   \n",
       "2  Data Scientist | Python | Machine Learning | D...   \n",
       "3  Job Opportunity || Data Scientist || HCL Techn...   \n",
       "4                            Senior Data Scientist I   \n",
       "5       Openings For Jr/mid/Sr level data Scientists   \n",
       "6                                     Data Scientist   \n",
       "7                   Urgent Hiring For Data Scientist   \n",
       "8                   Urgent Hiring For Data Scientist   \n",
       "9                                Data Scientist role   \n",
       "\n",
       "                                        Job Location  \\\n",
       "0            Mumbai, Gurgaon/Gurugram(Cyber City +1)   \n",
       "1                       Gurgaon/Gurugram(Uday Nagar)   \n",
       "2               Noida, Gurgaon/Gurugram, Delhi / NCR   \n",
       "3                                        Delhi / NCR   \n",
       "4                                   Gurgaon/Gurugram   \n",
       "5  Kolkata, Hyderabad/Secunderabad, Pune, Ahmedab...   \n",
       "6                                   Gurgaon/Gurugram   \n",
       "7              Gurgaon/Gurugram, Bangalore/Bengaluru   \n",
       "8              Gurgaon/Gurugram, Bangalore/Bengaluru   \n",
       "9  Noida, Hyderabad/Secunderabad, Pune, Gurgaon/G...   \n",
       "\n",
       "                                 Company Name Experience required  \n",
       "0       NebulARC Technologies Private Limited             0-4 Yrs  \n",
       "1            Core Diagnostics Private Limited             2-7 Yrs  \n",
       "2                           Schlesinger Group             0-3 Yrs  \n",
       "3                                         HCL             2-6 Yrs  \n",
       "4                                   Delhivery             3-7 Yrs  \n",
       "5  Pluto seven business solutions (p) limited             2-6 Yrs  \n",
       "6                             T & A Solutions             2-6 Yrs  \n",
       "7     Mount Talent Consulting Private Limited             1-6 Yrs  \n",
       "8     Mount Talent Consulting Private Limited             1-6 Yrs  \n",
       "9     Mount Talent Consulting Private Limited             1-4 Yrs  "
      ]
     },
     "execution_count": 275,
     "metadata": {},
     "output_type": "execute_result"
    }
   ],
   "source": [
    "Jobs=pd.DataFrame()\n",
    "\n",
    "Jobs['Job Title']=job_title\n",
    "Jobs['Job Location']=job_loc\n",
    "Jobs['Company Name']=company_name\n",
    "Jobs['Experience required']=job_experience\n",
    "Jobs\n"
   ]
  },
  {
   "cell_type": "markdown",
   "id": "ca14cf0e",
   "metadata": {},
   "source": [
    "# Question 4."
   ]
  },
  {
   "cell_type": "raw",
   "id": "69f6025f",
   "metadata": {},
   "source": [
    "Q4: Scrape data of first 100 sunglasses listings on flipkart.com. You have to scrape four attributes:\n",
    "1. Brand\n",
    "2. Product Description\n",
    "3. Price\n",
    "The attributes which you have to scrape is ticked marked in the below image.\n",
    "\n",
    "To scrape the data you have to go through following steps:\n",
    "1. Go to Flipkart webpage by url : https://www.flipkart.com/\n",
    "2. Enter “sunglasses” in the search field where “search for products, brands andmore” is written and click the search icon\n",
    "3. After that you will reach to the page having a lot of sunglasses. From this pageyou can scrap the required data as usual.\n",
    "4. After scraping data from the first page, go to the “Next” Button at the bottom ofthe page , then click on it.\n",
    "5. Now scrape data from this page as usual\n",
    "6. Repeat this until you get data for 100 sunglasses."
   ]
  },
  {
   "cell_type": "code",
   "execution_count": 1,
   "id": "6036f173",
   "metadata": {},
   "outputs": [
    {
     "name": "stdout",
     "output_type": "stream",
     "text": [
      "Requirement already satisfied: bs4 in f:\\programdata\\anaconda3\\lib\\site-packages (0.0.1)\n",
      "Requirement already satisfied: beautifulsoup4 in f:\\programdata\\anaconda3\\lib\\site-packages (from bs4) (4.9.3)\n",
      "Requirement already satisfied: soupsieve>1.2 in f:\\programdata\\anaconda3\\lib\\site-packages (from beautifulsoup4->bs4) (2.2.1)\n"
     ]
    }
   ],
   "source": [
    "!pip install bs4"
   ]
  },
  {
   "cell_type": "code",
   "execution_count": 2,
   "id": "2adc8d63",
   "metadata": {},
   "outputs": [
    {
     "name": "stdout",
     "output_type": "stream",
     "text": [
      "Requirement already satisfied: requests in f:\\programdata\\anaconda3\\lib\\site-packages (2.25.1)\n",
      "Requirement already satisfied: urllib3<1.27,>=1.21.1 in f:\\programdata\\anaconda3\\lib\\site-packages (from requests) (1.26.4)\n",
      "Requirement already satisfied: idna<3,>=2.5 in f:\\programdata\\anaconda3\\lib\\site-packages (from requests) (2.10)\n",
      "Requirement already satisfied: certifi>=2017.4.17 in f:\\programdata\\anaconda3\\lib\\site-packages (from requests) (2020.12.5)\n",
      "Requirement already satisfied: chardet<5,>=3.0.2 in f:\\programdata\\anaconda3\\lib\\site-packages (from requests) (4.0.0)\n"
     ]
    }
   ],
   "source": [
    "!pip install requests"
   ]
  },
  {
   "cell_type": "code",
   "execution_count": 3,
   "id": "a0e5d4f5",
   "metadata": {},
   "outputs": [],
   "source": [
    "import requests"
   ]
  },
  {
   "cell_type": "code",
   "execution_count": 4,
   "id": "eadab55f",
   "metadata": {},
   "outputs": [],
   "source": [
    "from bs4 import BeautifulSoup"
   ]
  },
  {
   "cell_type": "code",
   "execution_count": 5,
   "id": "bf901cc9",
   "metadata": {},
   "outputs": [
    {
     "name": "stdout",
     "output_type": "stream",
     "text": [
      "Requirement already satisfied: selenium in f:\\programdata\\anaconda3\\lib\\site-packages (4.1.0)\n",
      "Requirement already satisfied: trio-websocket~=0.9 in f:\\programdata\\anaconda3\\lib\\site-packages (from selenium) (0.9.2)\n",
      "Requirement already satisfied: trio~=0.17 in f:\\programdata\\anaconda3\\lib\\site-packages (from selenium) (0.19.0)\n",
      "Requirement already satisfied: urllib3[secure]~=1.26 in f:\\programdata\\anaconda3\\lib\\site-packages (from selenium) (1.26.4)\n",
      "Requirement already satisfied: outcome in f:\\programdata\\anaconda3\\lib\\site-packages (from trio~=0.17->selenium) (1.1.0)\n",
      "Requirement already satisfied: idna in f:\\programdata\\anaconda3\\lib\\site-packages (from trio~=0.17->selenium) (2.10)\n",
      "Requirement already satisfied: async-generator>=1.9 in f:\\programdata\\anaconda3\\lib\\site-packages (from trio~=0.17->selenium) (1.10)\n",
      "Requirement already satisfied: sniffio in f:\\programdata\\anaconda3\\lib\\site-packages (from trio~=0.17->selenium) (1.2.0)\n",
      "Requirement already satisfied: sortedcontainers in f:\\programdata\\anaconda3\\lib\\site-packages (from trio~=0.17->selenium) (2.3.0)\n",
      "Requirement already satisfied: attrs>=19.2.0 in f:\\programdata\\anaconda3\\lib\\site-packages (from trio~=0.17->selenium) (20.3.0)\n",
      "Requirement already satisfied: cffi>=1.14 in f:\\programdata\\anaconda3\\lib\\site-packages (from trio~=0.17->selenium) (1.14.5)\n",
      "Requirement already satisfied: pycparser in f:\\programdata\\anaconda3\\lib\\site-packages (from cffi>=1.14->trio~=0.17->selenium) (2.20)\n",
      "Requirement already satisfied: wsproto>=0.14 in f:\\programdata\\anaconda3\\lib\\site-packages (from trio-websocket~=0.9->selenium) (1.0.0)\n",
      "Requirement already satisfied: cryptography>=1.3.4 in f:\\programdata\\anaconda3\\lib\\site-packages (from urllib3[secure]~=1.26->selenium) (3.4.7)\n",
      "Requirement already satisfied: pyOpenSSL>=0.14 in f:\\programdata\\anaconda3\\lib\\site-packages (from urllib3[secure]~=1.26->selenium) (20.0.1)\n",
      "Requirement already satisfied: certifi in f:\\programdata\\anaconda3\\lib\\site-packages (from urllib3[secure]~=1.26->selenium) (2020.12.5)\n",
      "Requirement already satisfied: six>=1.5.2 in f:\\programdata\\anaconda3\\lib\\site-packages (from pyOpenSSL>=0.14->urllib3[secure]~=1.26->selenium) (1.15.0)\n",
      "Requirement already satisfied: h11<1,>=0.9.0 in f:\\programdata\\anaconda3\\lib\\site-packages (from wsproto>=0.14->trio-websocket~=0.9->selenium) (0.12.0)\n"
     ]
    }
   ],
   "source": [
    "# first install selenium library\n",
    "!pip install selenium\n"
   ]
  },
  {
   "cell_type": "code",
   "execution_count": 8,
   "id": "5e7a2499",
   "metadata": {},
   "outputs": [],
   "source": [
    "# import all the libraries\n",
    "\n",
    "import selenium\n",
    "from selenium import webdriver\n",
    "import pandas as pd\n",
    "import warnings\n",
    "warnings.filterwarnings(\"ignore\")\n"
   ]
  },
  {
   "cell_type": "raw",
   "id": "8a228a6f",
   "metadata": {},
   "source": [
    "# Now we will download the web driver for web browser\n",
    "1)check the version of ur browser 2) go link 'https://chromedriver.chromium.org/downloads'3) download the webdriver of your version of browser"
   ]
  },
  {
   "cell_type": "code",
   "execution_count": 9,
   "id": "8bf3648f",
   "metadata": {},
   "outputs": [
    {
     "data": {
      "text/plain": [
       "<selenium.webdriver.chrome.webdriver.WebDriver (session=\"ac3f29b20662762fb5c4d47368eddf90\")>"
      ]
     },
     "execution_count": 9,
     "metadata": {},
     "output_type": "execute_result"
    }
   ],
   "source": [
    "driver=webdriver.Chrome(r'C:\\Users\\Amber\\Downloads\\chromedriver_win32\\chromedriver.exe')\n",
    "driver"
   ]
  },
  {
   "cell_type": "code",
   "execution_count": 10,
   "id": "96bcbac2",
   "metadata": {},
   "outputs": [],
   "source": [
    "url ='https://www.flipkart.com/'\n",
    "driver.get(url)"
   ]
  },
  {
   "cell_type": "code",
   "execution_count": 11,
   "id": "c58455eb",
   "metadata": {},
   "outputs": [
    {
     "data": {
      "text/plain": [
       "<selenium.webdriver.remote.webelement.WebElement (session=\"ac3f29b20662762fb5c4d47368eddf90\", element=\"8a928c6c-9532-4bf5-bd81-1c8f6b67e8f5\")>"
      ]
     },
     "execution_count": 11,
     "metadata": {},
     "output_type": "execute_result"
    }
   ],
   "source": [
    "search_btn = driver.find_element_by_xpath('/html/body/div[1]/div/div[1]/div[1]/div[2]/div[2]/form/div/div/input')\n",
    "search_btn"
   ]
  },
  {
   "cell_type": "code",
   "execution_count": 12,
   "id": "95436df2",
   "metadata": {},
   "outputs": [],
   "source": [
    "search_btn.send_keys(\"sunglasses\")"
   ]
  },
  {
   "cell_type": "code",
   "execution_count": 13,
   "id": "a9f26e9c",
   "metadata": {},
   "outputs": [],
   "source": [
    "search_btn.submit()"
   ]
  },
  {
   "cell_type": "raw",
   "id": "82fbe8f1",
   "metadata": {},
   "source": [
    "#now scraping brand,product discription and price,\n"
   ]
  },
  {
   "cell_type": "code",
   "execution_count": 28,
   "id": "e7dd9869",
   "metadata": {},
   "outputs": [
    {
     "data": {
      "text/plain": [
       "[<selenium.webdriver.remote.webelement.WebElement (session=\"ac3f29b20662762fb5c4d47368eddf90\", element=\"1973ad44-f350-4f61-a81f-79b7c69aeb0c\")>,\n",
       " <selenium.webdriver.remote.webelement.WebElement (session=\"ac3f29b20662762fb5c4d47368eddf90\", element=\"2900d33f-bf0a-4669-826e-97c31a8a1e2f\")>,\n",
       " <selenium.webdriver.remote.webelement.WebElement (session=\"ac3f29b20662762fb5c4d47368eddf90\", element=\"202dd142-a96f-4550-a89c-a1912910814a\")>,\n",
       " <selenium.webdriver.remote.webelement.WebElement (session=\"ac3f29b20662762fb5c4d47368eddf90\", element=\"cc27d35c-77a9-4250-9dad-3114905e67c9\")>,\n",
       " <selenium.webdriver.remote.webelement.WebElement (session=\"ac3f29b20662762fb5c4d47368eddf90\", element=\"45051a91-0a1a-47f2-957c-8e586d173f60\")>,\n",
       " <selenium.webdriver.remote.webelement.WebElement (session=\"ac3f29b20662762fb5c4d47368eddf90\", element=\"c80c9ded-9fc8-4702-9b1f-23bc272c7893\")>,\n",
       " <selenium.webdriver.remote.webelement.WebElement (session=\"ac3f29b20662762fb5c4d47368eddf90\", element=\"fd93ca4d-1b71-4d12-8f5e-f05548f913e3\")>,\n",
       " <selenium.webdriver.remote.webelement.WebElement (session=\"ac3f29b20662762fb5c4d47368eddf90\", element=\"4fad1732-ab3a-41bb-9832-2ba442d0cf09\")>,\n",
       " <selenium.webdriver.remote.webelement.WebElement (session=\"ac3f29b20662762fb5c4d47368eddf90\", element=\"b9f2f004-03a9-48f9-bf3a-0fc922c40ae0\")>,\n",
       " <selenium.webdriver.remote.webelement.WebElement (session=\"ac3f29b20662762fb5c4d47368eddf90\", element=\"bf47aca6-c690-4d7e-a87b-881a99c3981c\")>,\n",
       " <selenium.webdriver.remote.webelement.WebElement (session=\"ac3f29b20662762fb5c4d47368eddf90\", element=\"6c014196-a274-4632-b8c0-52cc5407f848\")>,\n",
       " <selenium.webdriver.remote.webelement.WebElement (session=\"ac3f29b20662762fb5c4d47368eddf90\", element=\"5dfc8c50-9ab0-49c5-94ee-9a020719cbf9\")>,\n",
       " <selenium.webdriver.remote.webelement.WebElement (session=\"ac3f29b20662762fb5c4d47368eddf90\", element=\"74433ec8-1c8e-4632-9a01-1775c33de367\")>,\n",
       " <selenium.webdriver.remote.webelement.WebElement (session=\"ac3f29b20662762fb5c4d47368eddf90\", element=\"60164ce6-77c0-43fa-8ce0-bef9f95056f0\")>,\n",
       " <selenium.webdriver.remote.webelement.WebElement (session=\"ac3f29b20662762fb5c4d47368eddf90\", element=\"2f587e94-2278-4d63-8dec-0f944e653c06\")>,\n",
       " <selenium.webdriver.remote.webelement.WebElement (session=\"ac3f29b20662762fb5c4d47368eddf90\", element=\"ec8b526e-c3de-412a-bd82-71bef591485d\")>,\n",
       " <selenium.webdriver.remote.webelement.WebElement (session=\"ac3f29b20662762fb5c4d47368eddf90\", element=\"44918eb3-e05b-40ef-94b0-79c24aa2d636\")>,\n",
       " <selenium.webdriver.remote.webelement.WebElement (session=\"ac3f29b20662762fb5c4d47368eddf90\", element=\"69dd6707-f1c0-424a-a6f9-4a5645d402b2\")>,\n",
       " <selenium.webdriver.remote.webelement.WebElement (session=\"ac3f29b20662762fb5c4d47368eddf90\", element=\"14391eb8-ebbe-4b93-972c-8df03fdf462c\")>,\n",
       " <selenium.webdriver.remote.webelement.WebElement (session=\"ac3f29b20662762fb5c4d47368eddf90\", element=\"62952f2d-633a-44f0-906e-2315211e5997\")>,\n",
       " <selenium.webdriver.remote.webelement.WebElement (session=\"ac3f29b20662762fb5c4d47368eddf90\", element=\"9409de3e-7cff-4efc-a72e-dc9377a4dfbc\")>,\n",
       " <selenium.webdriver.remote.webelement.WebElement (session=\"ac3f29b20662762fb5c4d47368eddf90\", element=\"08979abb-1e31-4cbe-a99a-1a61b21323ed\")>,\n",
       " <selenium.webdriver.remote.webelement.WebElement (session=\"ac3f29b20662762fb5c4d47368eddf90\", element=\"f7285164-4921-4a3d-bbdc-b593c470e930\")>,\n",
       " <selenium.webdriver.remote.webelement.WebElement (session=\"ac3f29b20662762fb5c4d47368eddf90\", element=\"4c2ec5e1-2b1a-4048-9d76-57b79ca5cf19\")>,\n",
       " <selenium.webdriver.remote.webelement.WebElement (session=\"ac3f29b20662762fb5c4d47368eddf90\", element=\"626b46fc-fb36-438e-8ab0-c3db20d6d2c7\")>,\n",
       " <selenium.webdriver.remote.webelement.WebElement (session=\"ac3f29b20662762fb5c4d47368eddf90\", element=\"4a60235d-f281-4f1c-8e4a-93a8324a5b4e\")>,\n",
       " <selenium.webdriver.remote.webelement.WebElement (session=\"ac3f29b20662762fb5c4d47368eddf90\", element=\"98f11fc2-9fde-43ca-89a5-65be2d3ae0d7\")>,\n",
       " <selenium.webdriver.remote.webelement.WebElement (session=\"ac3f29b20662762fb5c4d47368eddf90\", element=\"be19ca49-1119-49cd-8b07-32907abe8ad6\")>,\n",
       " <selenium.webdriver.remote.webelement.WebElement (session=\"ac3f29b20662762fb5c4d47368eddf90\", element=\"3b30116a-ce7a-4fd4-a18c-17b95f36ac49\")>,\n",
       " <selenium.webdriver.remote.webelement.WebElement (session=\"ac3f29b20662762fb5c4d47368eddf90\", element=\"db4e1f79-f391-4bc9-9abf-e145ee77eadf\")>,\n",
       " <selenium.webdriver.remote.webelement.WebElement (session=\"ac3f29b20662762fb5c4d47368eddf90\", element=\"1698f988-7d42-4f25-b9bf-692950436359\")>,\n",
       " <selenium.webdriver.remote.webelement.WebElement (session=\"ac3f29b20662762fb5c4d47368eddf90\", element=\"ec4bed2b-d6e1-4b6d-b112-21902de8d2ae\")>,\n",
       " <selenium.webdriver.remote.webelement.WebElement (session=\"ac3f29b20662762fb5c4d47368eddf90\", element=\"4f084d8c-b4f2-432a-9509-713428f1465d\")>,\n",
       " <selenium.webdriver.remote.webelement.WebElement (session=\"ac3f29b20662762fb5c4d47368eddf90\", element=\"a783cf95-48c3-4193-9b9c-44d49a4aafca\")>,\n",
       " <selenium.webdriver.remote.webelement.WebElement (session=\"ac3f29b20662762fb5c4d47368eddf90\", element=\"6aaa9d08-a118-4d47-a370-7a99cf5c4800\")>,\n",
       " <selenium.webdriver.remote.webelement.WebElement (session=\"ac3f29b20662762fb5c4d47368eddf90\", element=\"6a937514-c9e2-49a5-a34a-6ec488ecd298\")>,\n",
       " <selenium.webdriver.remote.webelement.WebElement (session=\"ac3f29b20662762fb5c4d47368eddf90\", element=\"545fc7ca-1c16-41c8-86a9-bc3d89f68a56\")>,\n",
       " <selenium.webdriver.remote.webelement.WebElement (session=\"ac3f29b20662762fb5c4d47368eddf90\", element=\"7d07feeb-d484-4ab1-afed-3924da1a487b\")>,\n",
       " <selenium.webdriver.remote.webelement.WebElement (session=\"ac3f29b20662762fb5c4d47368eddf90\", element=\"a9ead39d-9183-40be-9cfe-c7224311af3e\")>,\n",
       " <selenium.webdriver.remote.webelement.WebElement (session=\"ac3f29b20662762fb5c4d47368eddf90\", element=\"2e6d66f7-196f-4773-b3bf-3d1e510a9419\")>]"
      ]
     },
     "execution_count": 28,
     "metadata": {},
     "output_type": "execute_result"
    }
   ],
   "source": [
    "brand_names = driver.find_elements_by_xpath('//div[@class=\"_2WkVRV\"]')\n",
    "brand_names"
   ]
  },
  {
   "cell_type": "code",
   "execution_count": 29,
   "id": "f56eefd9",
   "metadata": {},
   "outputs": [
    {
     "data": {
      "text/plain": [
       "['VINCENT CHASE',\n",
       " 'VINCENT CHASE',\n",
       " 'PIRASO',\n",
       " 'Fastrack',\n",
       " 'Elligator',\n",
       " 'SRPM',\n",
       " 'kingsunglasses',\n",
       " 'Singco India',\n",
       " 'SHAAH COLLECTIONS',\n",
       " 'PIRASO',\n",
       " 'Fastrack',\n",
       " 'ROZZETTA CRAFT',\n",
       " 'SUNBEE',\n",
       " 'New Specs',\n",
       " 'ROZZETTA CRAFT',\n",
       " 'VINCENT CHASE',\n",
       " 'Fastrack',\n",
       " 'PHENOMENAL',\n",
       " 'PIRASO',\n",
       " 'VINCENT CHASE',\n",
       " 'kingsunglasses',\n",
       " 'SHAAH COLLECTIONS',\n",
       " 'Fastrack',\n",
       " 'VILLAIN',\n",
       " 'New Specs',\n",
       " 'ROZZETTA CRAFT',\n",
       " 'PHENOMENAL',\n",
       " 'SKYZA INDIA',\n",
       " 'hipe',\n",
       " 'PHENOMENAL',\n",
       " 'PIRASO',\n",
       " 'ROZZETTA CRAFT',\n",
       " 'ROYAL SON',\n",
       " 'PIRASO',\n",
       " 'New Specs',\n",
       " 'VINCENT CHASE',\n",
       " 'Fastrack',\n",
       " 'Rich Club',\n",
       " 'ROYAL SON',\n",
       " 'Singco India']"
      ]
     },
     "execution_count": 29,
     "metadata": {},
     "output_type": "execute_result"
    }
   ],
   "source": [
    "brand_name = []\n",
    "for i in brand_names:\n",
    "    brand_name.append(i.text)\n",
    "brand_name    "
   ]
  },
  {
   "cell_type": "code",
   "execution_count": 26,
   "id": "c856ad57",
   "metadata": {},
   "outputs": [
    {
     "data": {
      "text/plain": [
       "[<selenium.webdriver.remote.webelement.WebElement (session=\"ac3f29b20662762fb5c4d47368eddf90\", element=\"16ca9fb8-0674-4a66-b1ed-129017e59fde\")>,\n",
       " <selenium.webdriver.remote.webelement.WebElement (session=\"ac3f29b20662762fb5c4d47368eddf90\", element=\"f68218f1-82a5-4110-ba29-b9fb1fb6ec20\")>,\n",
       " <selenium.webdriver.remote.webelement.WebElement (session=\"ac3f29b20662762fb5c4d47368eddf90\", element=\"ac99c76a-73f8-473d-b859-afb42210b3ad\")>,\n",
       " <selenium.webdriver.remote.webelement.WebElement (session=\"ac3f29b20662762fb5c4d47368eddf90\", element=\"0c4246c2-bc67-4761-a8bc-8b5dd5c699af\")>,\n",
       " <selenium.webdriver.remote.webelement.WebElement (session=\"ac3f29b20662762fb5c4d47368eddf90\", element=\"80228fc4-b4ca-41dc-91f0-b8c7c37cf8b0\")>,\n",
       " <selenium.webdriver.remote.webelement.WebElement (session=\"ac3f29b20662762fb5c4d47368eddf90\", element=\"a0c79f00-59bf-4834-8433-10ec8b2fade8\")>,\n",
       " <selenium.webdriver.remote.webelement.WebElement (session=\"ac3f29b20662762fb5c4d47368eddf90\", element=\"95440fdf-648e-4ac6-8127-a79cc00ba856\")>,\n",
       " <selenium.webdriver.remote.webelement.WebElement (session=\"ac3f29b20662762fb5c4d47368eddf90\", element=\"dc28765f-8443-44a2-bff2-bafb120b0715\")>,\n",
       " <selenium.webdriver.remote.webelement.WebElement (session=\"ac3f29b20662762fb5c4d47368eddf90\", element=\"201d70d6-3e89-4498-b52b-76101753e95a\")>,\n",
       " <selenium.webdriver.remote.webelement.WebElement (session=\"ac3f29b20662762fb5c4d47368eddf90\", element=\"4040a587-91f9-4d20-9ec1-c831b3a56cac\")>,\n",
       " <selenium.webdriver.remote.webelement.WebElement (session=\"ac3f29b20662762fb5c4d47368eddf90\", element=\"50bff7e1-c5c5-44a9-a97a-20f917d0f88c\")>,\n",
       " <selenium.webdriver.remote.webelement.WebElement (session=\"ac3f29b20662762fb5c4d47368eddf90\", element=\"0e32d1d1-2651-40bf-94e3-0bc894a0281f\")>,\n",
       " <selenium.webdriver.remote.webelement.WebElement (session=\"ac3f29b20662762fb5c4d47368eddf90\", element=\"07669cd0-0cab-4c3b-bcf5-fa089451b69f\")>,\n",
       " <selenium.webdriver.remote.webelement.WebElement (session=\"ac3f29b20662762fb5c4d47368eddf90\", element=\"73210d7c-c577-4921-927e-4b6d7adbe178\")>,\n",
       " <selenium.webdriver.remote.webelement.WebElement (session=\"ac3f29b20662762fb5c4d47368eddf90\", element=\"91fb3cdd-7ff9-4ac7-85f8-122412ca631e\")>,\n",
       " <selenium.webdriver.remote.webelement.WebElement (session=\"ac3f29b20662762fb5c4d47368eddf90\", element=\"26cc2ce6-ae6e-436e-9621-303474bb39d7\")>,\n",
       " <selenium.webdriver.remote.webelement.WebElement (session=\"ac3f29b20662762fb5c4d47368eddf90\", element=\"281cf59f-7093-4ea2-9233-3db10f1f823d\")>,\n",
       " <selenium.webdriver.remote.webelement.WebElement (session=\"ac3f29b20662762fb5c4d47368eddf90\", element=\"23f31697-ddb4-4697-be63-20a27281c64c\")>,\n",
       " <selenium.webdriver.remote.webelement.WebElement (session=\"ac3f29b20662762fb5c4d47368eddf90\", element=\"93cb9637-8c5e-43df-aa2b-2aa5fcf30cf8\")>,\n",
       " <selenium.webdriver.remote.webelement.WebElement (session=\"ac3f29b20662762fb5c4d47368eddf90\", element=\"6df16cdd-e869-425e-b836-6fbfe88ccccb\")>,\n",
       " <selenium.webdriver.remote.webelement.WebElement (session=\"ac3f29b20662762fb5c4d47368eddf90\", element=\"53eeb80b-e7f4-4f9e-88db-8e1e68c00483\")>,\n",
       " <selenium.webdriver.remote.webelement.WebElement (session=\"ac3f29b20662762fb5c4d47368eddf90\", element=\"b72fa76b-5791-486f-ac21-8190eafcd396\")>,\n",
       " <selenium.webdriver.remote.webelement.WebElement (session=\"ac3f29b20662762fb5c4d47368eddf90\", element=\"9bc5c4e6-e713-45dc-a8aa-853aba69d6d6\")>,\n",
       " <selenium.webdriver.remote.webelement.WebElement (session=\"ac3f29b20662762fb5c4d47368eddf90\", element=\"a85f396f-79b9-44a9-a62a-e5495c5b6778\")>,\n",
       " <selenium.webdriver.remote.webelement.WebElement (session=\"ac3f29b20662762fb5c4d47368eddf90\", element=\"c672fd69-e8e3-4c3d-9ddb-6faedc4e5de1\")>,\n",
       " <selenium.webdriver.remote.webelement.WebElement (session=\"ac3f29b20662762fb5c4d47368eddf90\", element=\"2615c7a4-eba3-4532-a79c-b269466850ad\")>,\n",
       " <selenium.webdriver.remote.webelement.WebElement (session=\"ac3f29b20662762fb5c4d47368eddf90\", element=\"06aa716c-82ea-4c2a-a0e3-ac8ba7fd4bbb\")>,\n",
       " <selenium.webdriver.remote.webelement.WebElement (session=\"ac3f29b20662762fb5c4d47368eddf90\", element=\"88fcad2f-a503-4d36-bf78-5099f87b8f0b\")>,\n",
       " <selenium.webdriver.remote.webelement.WebElement (session=\"ac3f29b20662762fb5c4d47368eddf90\", element=\"70d4b16c-fef3-4cab-9e13-2097cf9fab62\")>,\n",
       " <selenium.webdriver.remote.webelement.WebElement (session=\"ac3f29b20662762fb5c4d47368eddf90\", element=\"aa229250-c610-4a47-846e-a4f74fd9b9b2\")>,\n",
       " <selenium.webdriver.remote.webelement.WebElement (session=\"ac3f29b20662762fb5c4d47368eddf90\", element=\"001ae4a7-ebac-4c79-885a-3fc7065928cd\")>,\n",
       " <selenium.webdriver.remote.webelement.WebElement (session=\"ac3f29b20662762fb5c4d47368eddf90\", element=\"0e458009-a78e-491e-8073-a66db18ee9d7\")>,\n",
       " <selenium.webdriver.remote.webelement.WebElement (session=\"ac3f29b20662762fb5c4d47368eddf90\", element=\"335369e5-991c-467c-8e6a-764f84cd6c1e\")>,\n",
       " <selenium.webdriver.remote.webelement.WebElement (session=\"ac3f29b20662762fb5c4d47368eddf90\", element=\"a326fef3-9d53-4f3f-85a2-f922eae332c2\")>,\n",
       " <selenium.webdriver.remote.webelement.WebElement (session=\"ac3f29b20662762fb5c4d47368eddf90\", element=\"186333b2-a284-42db-b0cd-7736b53a601d\")>,\n",
       " <selenium.webdriver.remote.webelement.WebElement (session=\"ac3f29b20662762fb5c4d47368eddf90\", element=\"34b2762b-ca2b-48d8-b2d9-f710b5cf0d15\")>,\n",
       " <selenium.webdriver.remote.webelement.WebElement (session=\"ac3f29b20662762fb5c4d47368eddf90\", element=\"632740da-58bc-40fd-84f3-3f934033cb02\")>,\n",
       " <selenium.webdriver.remote.webelement.WebElement (session=\"ac3f29b20662762fb5c4d47368eddf90\", element=\"68b9c5d6-1e19-4e51-9b86-5aa7235cec1e\")>,\n",
       " <selenium.webdriver.remote.webelement.WebElement (session=\"ac3f29b20662762fb5c4d47368eddf90\", element=\"d762ba9f-aa05-46df-b498-c5bd0968e4f1\")>,\n",
       " <selenium.webdriver.remote.webelement.WebElement (session=\"ac3f29b20662762fb5c4d47368eddf90\", element=\"01421028-8cdf-4964-b1d7-da466692c255\")>]"
      ]
     },
     "execution_count": 26,
     "metadata": {},
     "output_type": "execute_result"
    }
   ],
   "source": [
    "product_discriptions = driver.find_elements_by_xpath('//a[@class=\"IRpwTa\"]')\n",
    "product_discriptions"
   ]
  },
  {
   "cell_type": "code",
   "execution_count": 27,
   "id": "708b9c93",
   "metadata": {},
   "outputs": [
    {
     "data": {
      "text/plain": [
       "['by Lenskart Polarized, UV Protection Round Sunglasses (...',\n",
       " 'by Lenskart UV Protection Aviator Sunglasses (53)',\n",
       " 'UV Protection Aviator Sunglasses (54)',\n",
       " 'UV Protection Wayfarer Sunglasses (Free Size)',\n",
       " 'UV Protection Round Sunglasses (54)',\n",
       " 'UV Protection Wayfarer Sunglasses (56)',\n",
       " 'UV Protection Round Sunglasses (54)',\n",
       " 'UV Protection, Riding Glasses, Others Aviator, Wayfarer...',\n",
       " 'UV Protection, Polarized, Mirrored Rectangular Sunglass...',\n",
       " 'UV Protection Aviator Sunglasses (54)',\n",
       " 'UV Protection Aviator Sunglasses (Free Size)',\n",
       " 'UV Protection, Gradient Retro Square Sunglasses (Free S...',\n",
       " 'UV Protection, Polarized, Mirrored Round Sunglasses (Fr...',\n",
       " 'Mirrored, UV Protection, Riding Glasses, Others Round S...',\n",
       " 'UV Protection, Gradient Rectangular Sunglasses (Free Si...',\n",
       " 'by Lenskart UV Protection Aviator Sunglasses (Free Size...',\n",
       " 'UV Protection Wayfarer Sunglasses (55)',\n",
       " 'UV Protection Retro Square Sunglasses (Free Size)',\n",
       " 'UV Protection Wayfarer Sunglasses (32)',\n",
       " 'by Lenskart UV Protection Wayfarer Sunglasses (49)',\n",
       " 'Mirrored, UV Protection Wayfarer Sunglasses (53)',\n",
       " 'UV Protection, Polarized, Mirrored Rectangular Sunglass...',\n",
       " 'Gradient, UV Protection Wayfarer Sunglasses (Free Size)',\n",
       " 'Others Retro Square Sunglasses (Free Size)',\n",
       " 'UV Protection Rectangular Sunglasses (Free Size)',\n",
       " 'UV Protection Retro Square Sunglasses (Free Size)',\n",
       " 'UV Protection, Mirrored Retro Square Sunglasses (53)',\n",
       " 'Polarized, UV Protection Sports Sunglasses (Free Size)',\n",
       " 'Mirrored, Gradient, UV Protection Aviator Sunglasses (5...',\n",
       " 'UV Protection, Mirrored Retro Square Sunglasses (53)',\n",
       " 'UV Protection Aviator Sunglasses (58)',\n",
       " 'Gradient, UV Protection Round Sunglasses (Free Size)',\n",
       " 'Mirrored Aviator Sunglasses (55)',\n",
       " 'UV Protection Aviator Sunglasses (54)',\n",
       " 'UV Protection Round Sunglasses (Free Size)',\n",
       " 'by Lenskart Polarized, UV Protection Aviator Sunglasses...',\n",
       " 'UV Protection Shield Sunglasses (Free Size)',\n",
       " 'Polarized Round Sunglasses (48)',\n",
       " 'UV Protection Rectangular Sunglasses (58)',\n",
       " 'Mirrored, Riding Glasses, Others Sports Sunglasses (50)']"
      ]
     },
     "execution_count": 27,
     "metadata": {},
     "output_type": "execute_result"
    }
   ],
   "source": [
    "product_discription = []\n",
    "\n",
    "for i in product_discriptions:\n",
    "    product_discription.append(i.text)\n",
    "product_discription\n"
   ]
  },
  {
   "cell_type": "code",
   "execution_count": 22,
   "id": "e0df3c75",
   "metadata": {},
   "outputs": [
    {
     "data": {
      "text/plain": [
       "[<selenium.webdriver.remote.webelement.WebElement (session=\"ac3f29b20662762fb5c4d47368eddf90\", element=\"b43d9976-1631-44a8-9069-d933300da3ca\")>,\n",
       " <selenium.webdriver.remote.webelement.WebElement (session=\"ac3f29b20662762fb5c4d47368eddf90\", element=\"49fe7a2f-e0c7-4956-bb31-a3eecf9ea394\")>,\n",
       " <selenium.webdriver.remote.webelement.WebElement (session=\"ac3f29b20662762fb5c4d47368eddf90\", element=\"cc4ac785-eccf-47dc-b43f-6ecb50a9daad\")>,\n",
       " <selenium.webdriver.remote.webelement.WebElement (session=\"ac3f29b20662762fb5c4d47368eddf90\", element=\"f98ccb60-5ec1-4063-b9c0-501be9a9cbde\")>,\n",
       " <selenium.webdriver.remote.webelement.WebElement (session=\"ac3f29b20662762fb5c4d47368eddf90\", element=\"3e11a2b5-6fc1-40f3-8c37-a2a3c8e3ed3b\")>,\n",
       " <selenium.webdriver.remote.webelement.WebElement (session=\"ac3f29b20662762fb5c4d47368eddf90\", element=\"ed855e4d-43a7-4322-9626-20bce643797e\")>,\n",
       " <selenium.webdriver.remote.webelement.WebElement (session=\"ac3f29b20662762fb5c4d47368eddf90\", element=\"5dec9e47-d2ef-42ee-bfd3-39dbdebebd0f\")>,\n",
       " <selenium.webdriver.remote.webelement.WebElement (session=\"ac3f29b20662762fb5c4d47368eddf90\", element=\"4d00c618-c0ac-43f9-8689-207874fd257d\")>,\n",
       " <selenium.webdriver.remote.webelement.WebElement (session=\"ac3f29b20662762fb5c4d47368eddf90\", element=\"76322e55-b561-47b9-8dcf-75fd5bba0c35\")>,\n",
       " <selenium.webdriver.remote.webelement.WebElement (session=\"ac3f29b20662762fb5c4d47368eddf90\", element=\"12267bb0-740e-4cf3-83b1-354e24e2fc35\")>,\n",
       " <selenium.webdriver.remote.webelement.WebElement (session=\"ac3f29b20662762fb5c4d47368eddf90\", element=\"a291172d-ac04-4ad8-907c-aa3065fb91b1\")>,\n",
       " <selenium.webdriver.remote.webelement.WebElement (session=\"ac3f29b20662762fb5c4d47368eddf90\", element=\"d7531df4-18c7-48f8-8a02-115da4fe4c70\")>,\n",
       " <selenium.webdriver.remote.webelement.WebElement (session=\"ac3f29b20662762fb5c4d47368eddf90\", element=\"985af9f4-8550-41e3-b231-d6ab2bc92f83\")>,\n",
       " <selenium.webdriver.remote.webelement.WebElement (session=\"ac3f29b20662762fb5c4d47368eddf90\", element=\"419f05f3-a095-490c-babe-d229d25b345c\")>,\n",
       " <selenium.webdriver.remote.webelement.WebElement (session=\"ac3f29b20662762fb5c4d47368eddf90\", element=\"19ab881a-add3-471a-a5f8-49524004c0fa\")>,\n",
       " <selenium.webdriver.remote.webelement.WebElement (session=\"ac3f29b20662762fb5c4d47368eddf90\", element=\"80097bd9-1abc-452d-82b9-1fb5d87e2d43\")>,\n",
       " <selenium.webdriver.remote.webelement.WebElement (session=\"ac3f29b20662762fb5c4d47368eddf90\", element=\"1e51c930-c461-40cc-9e48-48102c84e008\")>,\n",
       " <selenium.webdriver.remote.webelement.WebElement (session=\"ac3f29b20662762fb5c4d47368eddf90\", element=\"c8dd2ac5-5974-4733-a551-3246a4e40b39\")>,\n",
       " <selenium.webdriver.remote.webelement.WebElement (session=\"ac3f29b20662762fb5c4d47368eddf90\", element=\"183c2ec5-db05-481d-a306-7ada76202ed3\")>,\n",
       " <selenium.webdriver.remote.webelement.WebElement (session=\"ac3f29b20662762fb5c4d47368eddf90\", element=\"f54f8645-c994-4709-906b-4d334dfa7cc7\")>,\n",
       " <selenium.webdriver.remote.webelement.WebElement (session=\"ac3f29b20662762fb5c4d47368eddf90\", element=\"6167b449-bec7-49dd-baaf-211b8e74be41\")>,\n",
       " <selenium.webdriver.remote.webelement.WebElement (session=\"ac3f29b20662762fb5c4d47368eddf90\", element=\"94cdcf0c-7ea4-4d10-9c81-98cfba912577\")>,\n",
       " <selenium.webdriver.remote.webelement.WebElement (session=\"ac3f29b20662762fb5c4d47368eddf90\", element=\"44b123b7-2de7-441c-aba9-ba2d54789b8d\")>,\n",
       " <selenium.webdriver.remote.webelement.WebElement (session=\"ac3f29b20662762fb5c4d47368eddf90\", element=\"d792ec7c-9122-42aa-ae01-7e1c3634f983\")>,\n",
       " <selenium.webdriver.remote.webelement.WebElement (session=\"ac3f29b20662762fb5c4d47368eddf90\", element=\"38f9cae0-c0f9-4913-be86-a229d37755db\")>,\n",
       " <selenium.webdriver.remote.webelement.WebElement (session=\"ac3f29b20662762fb5c4d47368eddf90\", element=\"b20d8e1e-fc53-4275-9b54-0d157274831b\")>,\n",
       " <selenium.webdriver.remote.webelement.WebElement (session=\"ac3f29b20662762fb5c4d47368eddf90\", element=\"ac35e0cd-ea28-42a7-93e1-14259053c366\")>,\n",
       " <selenium.webdriver.remote.webelement.WebElement (session=\"ac3f29b20662762fb5c4d47368eddf90\", element=\"c28d9a4d-eb63-46f0-8bee-df9e43a2d3a8\")>,\n",
       " <selenium.webdriver.remote.webelement.WebElement (session=\"ac3f29b20662762fb5c4d47368eddf90\", element=\"29ed3a72-d27d-4cee-b645-ad88adf6d2e5\")>,\n",
       " <selenium.webdriver.remote.webelement.WebElement (session=\"ac3f29b20662762fb5c4d47368eddf90\", element=\"e420ea26-931a-40bc-99e0-dedc48dc0ff7\")>,\n",
       " <selenium.webdriver.remote.webelement.WebElement (session=\"ac3f29b20662762fb5c4d47368eddf90\", element=\"9cfcb1ae-a237-4206-a5bc-4905810a4d0b\")>,\n",
       " <selenium.webdriver.remote.webelement.WebElement (session=\"ac3f29b20662762fb5c4d47368eddf90\", element=\"54fd494b-057f-4e4b-b832-e00c6954599a\")>,\n",
       " <selenium.webdriver.remote.webelement.WebElement (session=\"ac3f29b20662762fb5c4d47368eddf90\", element=\"0d07b567-3739-4b69-814f-70b3dabedab5\")>,\n",
       " <selenium.webdriver.remote.webelement.WebElement (session=\"ac3f29b20662762fb5c4d47368eddf90\", element=\"fea0e001-a5ec-4fd7-9070-b7487cf7a247\")>,\n",
       " <selenium.webdriver.remote.webelement.WebElement (session=\"ac3f29b20662762fb5c4d47368eddf90\", element=\"baa725c6-29a1-43c1-aeed-8b53d7ea8d16\")>,\n",
       " <selenium.webdriver.remote.webelement.WebElement (session=\"ac3f29b20662762fb5c4d47368eddf90\", element=\"8c49ee71-9eb0-4c25-8559-86a794c91590\")>,\n",
       " <selenium.webdriver.remote.webelement.WebElement (session=\"ac3f29b20662762fb5c4d47368eddf90\", element=\"9305df61-0ee2-4984-b21a-6cba2220805d\")>,\n",
       " <selenium.webdriver.remote.webelement.WebElement (session=\"ac3f29b20662762fb5c4d47368eddf90\", element=\"b8a05904-b987-4294-8528-d68a6806026d\")>,\n",
       " <selenium.webdriver.remote.webelement.WebElement (session=\"ac3f29b20662762fb5c4d47368eddf90\", element=\"95d67fe6-9483-48fc-8b8e-ee2da38c3d03\")>,\n",
       " <selenium.webdriver.remote.webelement.WebElement (session=\"ac3f29b20662762fb5c4d47368eddf90\", element=\"46f05e1d-aae7-4e8c-9bc2-64d6fdf507c7\")>]"
      ]
     },
     "execution_count": 22,
     "metadata": {},
     "output_type": "execute_result"
    }
   ],
   "source": [
    "prices= driver.find_elements_by_xpath('//div[@class=\"_30jeq3\"]')\n",
    "prices"
   ]
  },
  {
   "cell_type": "code",
   "execution_count": 25,
   "id": "ed093151",
   "metadata": {},
   "outputs": [
    {
     "data": {
      "text/plain": [
       "[' 1,179',\n",
       " ' 999',\n",
       " ' 200',\n",
       " ' 759',\n",
       " ' 248',\n",
       " ' 198',\n",
       " ' 188',\n",
       " ' 203',\n",
       " ' 165',\n",
       " ' 200',\n",
       " ' 639',\n",
       " ' 349',\n",
       " ' 271',\n",
       " ' 262',\n",
       " ' 383',\n",
       " ' 999',\n",
       " ' 549',\n",
       " ' 309',\n",
       " ' 190',\n",
       " ' 1,179',\n",
       " ' 273',\n",
       " ' 181',\n",
       " ' 499',\n",
       " ' 549',\n",
       " ' 259',\n",
       " ' 474',\n",
       " ' 299',\n",
       " ' 495',\n",
       " ' 178',\n",
       " ' 299',\n",
       " ' 299',\n",
       " ' 426',\n",
       " ' 359',\n",
       " ' 200',\n",
       " ' 233',\n",
       " ' 999',\n",
       " ' 789',\n",
       " ' 165',\n",
       " ' 449',\n",
       " ' 220']"
      ]
     },
     "execution_count": 25,
     "metadata": {},
     "output_type": "execute_result"
    }
   ],
   "source": [
    "price = []\n",
    "for i in prices:\n",
    "    price.append(i.text.replace('₹', \" \"))\n",
    "price    "
   ]
  },
  {
   "cell_type": "code",
   "execution_count": 30,
   "id": "7e2ae843",
   "metadata": {},
   "outputs": [
    {
     "name": "stdout",
     "output_type": "stream",
     "text": [
      "40 40 40\n"
     ]
    }
   ],
   "source": [
    "print(len(brand_name[0:100]),len(product_discription[0:100]),len(price[0:100]))"
   ]
  },
  {
   "cell_type": "code",
   "execution_count": 31,
   "id": "9c23c9bc",
   "metadata": {},
   "outputs": [
    {
     "data": {
      "text/html": [
       "<div>\n",
       "<style scoped>\n",
       "    .dataframe tbody tr th:only-of-type {\n",
       "        vertical-align: middle;\n",
       "    }\n",
       "\n",
       "    .dataframe tbody tr th {\n",
       "        vertical-align: top;\n",
       "    }\n",
       "\n",
       "    .dataframe thead th {\n",
       "        text-align: right;\n",
       "    }\n",
       "</style>\n",
       "<table border=\"1\" class=\"dataframe\">\n",
       "  <thead>\n",
       "    <tr style=\"text-align: right;\">\n",
       "      <th></th>\n",
       "      <th>Brand</th>\n",
       "      <th>Product Discription</th>\n",
       "      <th>Price</th>\n",
       "    </tr>\n",
       "  </thead>\n",
       "  <tbody>\n",
       "    <tr>\n",
       "      <th>0</th>\n",
       "      <td>VINCENT CHASE</td>\n",
       "      <td>by Lenskart Polarized, UV Protection Round Sun...</td>\n",
       "      <td>1,179</td>\n",
       "    </tr>\n",
       "    <tr>\n",
       "      <th>1</th>\n",
       "      <td>VINCENT CHASE</td>\n",
       "      <td>by Lenskart UV Protection Aviator Sunglasses (53)</td>\n",
       "      <td>999</td>\n",
       "    </tr>\n",
       "    <tr>\n",
       "      <th>2</th>\n",
       "      <td>PIRASO</td>\n",
       "      <td>UV Protection Aviator Sunglasses (54)</td>\n",
       "      <td>200</td>\n",
       "    </tr>\n",
       "    <tr>\n",
       "      <th>3</th>\n",
       "      <td>Fastrack</td>\n",
       "      <td>UV Protection Wayfarer Sunglasses (Free Size)</td>\n",
       "      <td>759</td>\n",
       "    </tr>\n",
       "    <tr>\n",
       "      <th>4</th>\n",
       "      <td>Elligator</td>\n",
       "      <td>UV Protection Round Sunglasses (54)</td>\n",
       "      <td>248</td>\n",
       "    </tr>\n",
       "    <tr>\n",
       "      <th>5</th>\n",
       "      <td>SRPM</td>\n",
       "      <td>UV Protection Wayfarer Sunglasses (56)</td>\n",
       "      <td>198</td>\n",
       "    </tr>\n",
       "    <tr>\n",
       "      <th>6</th>\n",
       "      <td>kingsunglasses</td>\n",
       "      <td>UV Protection Round Sunglasses (54)</td>\n",
       "      <td>188</td>\n",
       "    </tr>\n",
       "    <tr>\n",
       "      <th>7</th>\n",
       "      <td>Singco India</td>\n",
       "      <td>UV Protection, Riding Glasses, Others Aviator,...</td>\n",
       "      <td>203</td>\n",
       "    </tr>\n",
       "    <tr>\n",
       "      <th>8</th>\n",
       "      <td>SHAAH COLLECTIONS</td>\n",
       "      <td>UV Protection, Polarized, Mirrored Rectangular...</td>\n",
       "      <td>165</td>\n",
       "    </tr>\n",
       "    <tr>\n",
       "      <th>9</th>\n",
       "      <td>PIRASO</td>\n",
       "      <td>UV Protection Aviator Sunglasses (54)</td>\n",
       "      <td>200</td>\n",
       "    </tr>\n",
       "    <tr>\n",
       "      <th>10</th>\n",
       "      <td>Fastrack</td>\n",
       "      <td>UV Protection Aviator Sunglasses (Free Size)</td>\n",
       "      <td>639</td>\n",
       "    </tr>\n",
       "    <tr>\n",
       "      <th>11</th>\n",
       "      <td>ROZZETTA CRAFT</td>\n",
       "      <td>UV Protection, Gradient Retro Square Sunglasse...</td>\n",
       "      <td>349</td>\n",
       "    </tr>\n",
       "    <tr>\n",
       "      <th>12</th>\n",
       "      <td>SUNBEE</td>\n",
       "      <td>UV Protection, Polarized, Mirrored Round Sungl...</td>\n",
       "      <td>271</td>\n",
       "    </tr>\n",
       "    <tr>\n",
       "      <th>13</th>\n",
       "      <td>New Specs</td>\n",
       "      <td>Mirrored, UV Protection, Riding Glasses, Other...</td>\n",
       "      <td>262</td>\n",
       "    </tr>\n",
       "    <tr>\n",
       "      <th>14</th>\n",
       "      <td>ROZZETTA CRAFT</td>\n",
       "      <td>UV Protection, Gradient Rectangular Sunglasses...</td>\n",
       "      <td>383</td>\n",
       "    </tr>\n",
       "    <tr>\n",
       "      <th>15</th>\n",
       "      <td>VINCENT CHASE</td>\n",
       "      <td>by Lenskart UV Protection Aviator Sunglasses (...</td>\n",
       "      <td>999</td>\n",
       "    </tr>\n",
       "    <tr>\n",
       "      <th>16</th>\n",
       "      <td>Fastrack</td>\n",
       "      <td>UV Protection Wayfarer Sunglasses (55)</td>\n",
       "      <td>549</td>\n",
       "    </tr>\n",
       "    <tr>\n",
       "      <th>17</th>\n",
       "      <td>PHENOMENAL</td>\n",
       "      <td>UV Protection Retro Square Sunglasses (Free Size)</td>\n",
       "      <td>309</td>\n",
       "    </tr>\n",
       "    <tr>\n",
       "      <th>18</th>\n",
       "      <td>PIRASO</td>\n",
       "      <td>UV Protection Wayfarer Sunglasses (32)</td>\n",
       "      <td>190</td>\n",
       "    </tr>\n",
       "    <tr>\n",
       "      <th>19</th>\n",
       "      <td>VINCENT CHASE</td>\n",
       "      <td>by Lenskart UV Protection Wayfarer Sunglasses ...</td>\n",
       "      <td>1,179</td>\n",
       "    </tr>\n",
       "    <tr>\n",
       "      <th>20</th>\n",
       "      <td>kingsunglasses</td>\n",
       "      <td>Mirrored, UV Protection Wayfarer Sunglasses (53)</td>\n",
       "      <td>273</td>\n",
       "    </tr>\n",
       "    <tr>\n",
       "      <th>21</th>\n",
       "      <td>SHAAH COLLECTIONS</td>\n",
       "      <td>UV Protection, Polarized, Mirrored Rectangular...</td>\n",
       "      <td>181</td>\n",
       "    </tr>\n",
       "    <tr>\n",
       "      <th>22</th>\n",
       "      <td>Fastrack</td>\n",
       "      <td>Gradient, UV Protection Wayfarer Sunglasses (F...</td>\n",
       "      <td>499</td>\n",
       "    </tr>\n",
       "    <tr>\n",
       "      <th>23</th>\n",
       "      <td>VILLAIN</td>\n",
       "      <td>Others Retro Square Sunglasses (Free Size)</td>\n",
       "      <td>549</td>\n",
       "    </tr>\n",
       "    <tr>\n",
       "      <th>24</th>\n",
       "      <td>New Specs</td>\n",
       "      <td>UV Protection Rectangular Sunglasses (Free Size)</td>\n",
       "      <td>259</td>\n",
       "    </tr>\n",
       "    <tr>\n",
       "      <th>25</th>\n",
       "      <td>ROZZETTA CRAFT</td>\n",
       "      <td>UV Protection Retro Square Sunglasses (Free Size)</td>\n",
       "      <td>474</td>\n",
       "    </tr>\n",
       "    <tr>\n",
       "      <th>26</th>\n",
       "      <td>PHENOMENAL</td>\n",
       "      <td>UV Protection, Mirrored Retro Square Sunglasse...</td>\n",
       "      <td>299</td>\n",
       "    </tr>\n",
       "    <tr>\n",
       "      <th>27</th>\n",
       "      <td>SKYZA INDIA</td>\n",
       "      <td>Polarized, UV Protection Sports Sunglasses (Fr...</td>\n",
       "      <td>495</td>\n",
       "    </tr>\n",
       "    <tr>\n",
       "      <th>28</th>\n",
       "      <td>hipe</td>\n",
       "      <td>Mirrored, Gradient, UV Protection Aviator Sung...</td>\n",
       "      <td>178</td>\n",
       "    </tr>\n",
       "    <tr>\n",
       "      <th>29</th>\n",
       "      <td>PHENOMENAL</td>\n",
       "      <td>UV Protection, Mirrored Retro Square Sunglasse...</td>\n",
       "      <td>299</td>\n",
       "    </tr>\n",
       "    <tr>\n",
       "      <th>30</th>\n",
       "      <td>PIRASO</td>\n",
       "      <td>UV Protection Aviator Sunglasses (58)</td>\n",
       "      <td>299</td>\n",
       "    </tr>\n",
       "    <tr>\n",
       "      <th>31</th>\n",
       "      <td>ROZZETTA CRAFT</td>\n",
       "      <td>Gradient, UV Protection Round Sunglasses (Free...</td>\n",
       "      <td>426</td>\n",
       "    </tr>\n",
       "    <tr>\n",
       "      <th>32</th>\n",
       "      <td>ROYAL SON</td>\n",
       "      <td>Mirrored Aviator Sunglasses (55)</td>\n",
       "      <td>359</td>\n",
       "    </tr>\n",
       "    <tr>\n",
       "      <th>33</th>\n",
       "      <td>PIRASO</td>\n",
       "      <td>UV Protection Aviator Sunglasses (54)</td>\n",
       "      <td>200</td>\n",
       "    </tr>\n",
       "    <tr>\n",
       "      <th>34</th>\n",
       "      <td>New Specs</td>\n",
       "      <td>UV Protection Round Sunglasses (Free Size)</td>\n",
       "      <td>233</td>\n",
       "    </tr>\n",
       "    <tr>\n",
       "      <th>35</th>\n",
       "      <td>VINCENT CHASE</td>\n",
       "      <td>by Lenskart Polarized, UV Protection Aviator S...</td>\n",
       "      <td>999</td>\n",
       "    </tr>\n",
       "    <tr>\n",
       "      <th>36</th>\n",
       "      <td>Fastrack</td>\n",
       "      <td>UV Protection Shield Sunglasses (Free Size)</td>\n",
       "      <td>789</td>\n",
       "    </tr>\n",
       "    <tr>\n",
       "      <th>37</th>\n",
       "      <td>Rich Club</td>\n",
       "      <td>Polarized Round Sunglasses (48)</td>\n",
       "      <td>165</td>\n",
       "    </tr>\n",
       "    <tr>\n",
       "      <th>38</th>\n",
       "      <td>ROYAL SON</td>\n",
       "      <td>UV Protection Rectangular Sunglasses (58)</td>\n",
       "      <td>449</td>\n",
       "    </tr>\n",
       "    <tr>\n",
       "      <th>39</th>\n",
       "      <td>Singco India</td>\n",
       "      <td>Mirrored, Riding Glasses, Others Sports Sungla...</td>\n",
       "      <td>220</td>\n",
       "    </tr>\n",
       "  </tbody>\n",
       "</table>\n",
       "</div>"
      ],
      "text/plain": [
       "                Brand                                Product Discription  \\\n",
       "0       VINCENT CHASE  by Lenskart Polarized, UV Protection Round Sun...   \n",
       "1       VINCENT CHASE  by Lenskart UV Protection Aviator Sunglasses (53)   \n",
       "2              PIRASO              UV Protection Aviator Sunglasses (54)   \n",
       "3            Fastrack      UV Protection Wayfarer Sunglasses (Free Size)   \n",
       "4           Elligator                UV Protection Round Sunglasses (54)   \n",
       "5                SRPM             UV Protection Wayfarer Sunglasses (56)   \n",
       "6      kingsunglasses                UV Protection Round Sunglasses (54)   \n",
       "7        Singco India  UV Protection, Riding Glasses, Others Aviator,...   \n",
       "8   SHAAH COLLECTIONS  UV Protection, Polarized, Mirrored Rectangular...   \n",
       "9              PIRASO              UV Protection Aviator Sunglasses (54)   \n",
       "10           Fastrack       UV Protection Aviator Sunglasses (Free Size)   \n",
       "11     ROZZETTA CRAFT  UV Protection, Gradient Retro Square Sunglasse...   \n",
       "12             SUNBEE  UV Protection, Polarized, Mirrored Round Sungl...   \n",
       "13          New Specs  Mirrored, UV Protection, Riding Glasses, Other...   \n",
       "14     ROZZETTA CRAFT  UV Protection, Gradient Rectangular Sunglasses...   \n",
       "15      VINCENT CHASE  by Lenskart UV Protection Aviator Sunglasses (...   \n",
       "16           Fastrack             UV Protection Wayfarer Sunglasses (55)   \n",
       "17         PHENOMENAL  UV Protection Retro Square Sunglasses (Free Size)   \n",
       "18             PIRASO             UV Protection Wayfarer Sunglasses (32)   \n",
       "19      VINCENT CHASE  by Lenskart UV Protection Wayfarer Sunglasses ...   \n",
       "20     kingsunglasses   Mirrored, UV Protection Wayfarer Sunglasses (53)   \n",
       "21  SHAAH COLLECTIONS  UV Protection, Polarized, Mirrored Rectangular...   \n",
       "22           Fastrack  Gradient, UV Protection Wayfarer Sunglasses (F...   \n",
       "23            VILLAIN         Others Retro Square Sunglasses (Free Size)   \n",
       "24          New Specs   UV Protection Rectangular Sunglasses (Free Size)   \n",
       "25     ROZZETTA CRAFT  UV Protection Retro Square Sunglasses (Free Size)   \n",
       "26         PHENOMENAL  UV Protection, Mirrored Retro Square Sunglasse...   \n",
       "27        SKYZA INDIA  Polarized, UV Protection Sports Sunglasses (Fr...   \n",
       "28               hipe  Mirrored, Gradient, UV Protection Aviator Sung...   \n",
       "29         PHENOMENAL  UV Protection, Mirrored Retro Square Sunglasse...   \n",
       "30             PIRASO              UV Protection Aviator Sunglasses (58)   \n",
       "31     ROZZETTA CRAFT  Gradient, UV Protection Round Sunglasses (Free...   \n",
       "32          ROYAL SON                   Mirrored Aviator Sunglasses (55)   \n",
       "33             PIRASO              UV Protection Aviator Sunglasses (54)   \n",
       "34          New Specs         UV Protection Round Sunglasses (Free Size)   \n",
       "35      VINCENT CHASE  by Lenskart Polarized, UV Protection Aviator S...   \n",
       "36           Fastrack        UV Protection Shield Sunglasses (Free Size)   \n",
       "37          Rich Club                    Polarized Round Sunglasses (48)   \n",
       "38          ROYAL SON          UV Protection Rectangular Sunglasses (58)   \n",
       "39       Singco India  Mirrored, Riding Glasses, Others Sports Sungla...   \n",
       "\n",
       "     Price  \n",
       "0    1,179  \n",
       "1      999  \n",
       "2      200  \n",
       "3      759  \n",
       "4      248  \n",
       "5      198  \n",
       "6      188  \n",
       "7      203  \n",
       "8      165  \n",
       "9      200  \n",
       "10     639  \n",
       "11     349  \n",
       "12     271  \n",
       "13     262  \n",
       "14     383  \n",
       "15     999  \n",
       "16     549  \n",
       "17     309  \n",
       "18     190  \n",
       "19   1,179  \n",
       "20     273  \n",
       "21     181  \n",
       "22     499  \n",
       "23     549  \n",
       "24     259  \n",
       "25     474  \n",
       "26     299  \n",
       "27     495  \n",
       "28     178  \n",
       "29     299  \n",
       "30     299  \n",
       "31     426  \n",
       "32     359  \n",
       "33     200  \n",
       "34     233  \n",
       "35     999  \n",
       "36     789  \n",
       "37     165  \n",
       "38     449  \n",
       "39     220  "
      ]
     },
     "execution_count": 31,
     "metadata": {},
     "output_type": "execute_result"
    }
   ],
   "source": [
    "# making data frame\n",
    "import pandas as pd\n",
    "\n",
    "Sunglasses = pd.DataFrame()\n",
    "Sunglasses['Brand'] = brand_name\n",
    "Sunglasses['Product Discription'] = product_discription\n",
    "Sunglasses['Price'] = price\n",
    "Sunglasses"
   ]
  },
  {
   "cell_type": "code",
   "execution_count": 32,
   "id": "1dbec52a",
   "metadata": {},
   "outputs": [
    {
     "data": {
      "text/plain": [
       "<selenium.webdriver.remote.webelement.WebElement (session=\"ac3f29b20662762fb5c4d47368eddf90\", element=\"69f9d376-ea3e-4209-856f-c7a8eef65086\")>"
      ]
     },
     "execution_count": 32,
     "metadata": {},
     "output_type": "execute_result"
    }
   ],
   "source": [
    "# for 100 sunglasses\n",
    "\n",
    "next_btn = driver.find_element_by_xpath('/html/body/div[1]/div/div[3]/div[1]/div[2]/div[12]/div/div/nav/a[11]/span')\n",
    "next_btn"
   ]
  },
  {
   "cell_type": "code",
   "execution_count": 34,
   "id": "51be7106",
   "metadata": {},
   "outputs": [],
   "source": [
    "next_btn.click()"
   ]
  },
  {
   "cell_type": "code",
   "execution_count": null,
   "id": "09be11ec",
   "metadata": {},
   "outputs": [],
   "source": [
    "# do same till 100 sunglasses"
   ]
  },
  {
   "cell_type": "markdown",
   "id": "5f742009",
   "metadata": {},
   "source": [
    "# Question 5"
   ]
  },
  {
   "cell_type": "raw",
   "id": "8b10bda8",
   "metadata": {},
   "source": [
    "Q5: Scrape 100 reviews data from flipkart.com for iphone11 phone. You have to go the link: https://www.flipkart.com/apple-iphone-11-black-64-gb-includes- earpods-power- adapter/p/itm0f37c2240b217?pid=MOBFKCTSVZAXUHGR&lid=LSTMOBFKC TSVZAXUHGREPBFGI&marketplace.\n",
    "When you will open the above link you will reach to the below shown webpage .\n",
    "As shown in the above page you have to scrape the tick marked attributes.These are:\n",
    "1. Rating\n",
    "2. Review summary\n",
    "3. Full review\n",
    "4. You have to scrape this data for first 100 reviews."
   ]
  },
  {
   "cell_type": "code",
   "execution_count": null,
   "id": "5ae300a7",
   "metadata": {},
   "outputs": [],
   "source": [
    "# import all the libraries\n",
    "\n",
    "import selenium\n",
    "from selenium import webdriver\n",
    "import pandas as pd\n",
    "import warnings\n",
    "warnings.filterwarnings(\"ignore\")\n"
   ]
  },
  {
   "cell_type": "code",
   "execution_count": 72,
   "id": "cf8cb4b4",
   "metadata": {},
   "outputs": [
    {
     "data": {
      "text/plain": [
       "<selenium.webdriver.chrome.webdriver.WebDriver (session=\"e8135d2db109182d6a06085f65e148ed\")>"
      ]
     },
     "execution_count": 72,
     "metadata": {},
     "output_type": "execute_result"
    }
   ],
   "source": [
    "# Lets first connect to webdriver\n",
    "\n",
    "driver=webdriver.Chrome(r'C:\\Users\\Amber\\Downloads\\chromedriver_win32\\chromedriver.exe')\n",
    "driver"
   ]
  },
  {
   "cell_type": "code",
   "execution_count": 73,
   "id": "54f639dc",
   "metadata": {},
   "outputs": [],
   "source": [
    "url = 'https://www.flipkart.com/apple-iphone-11-black-64-gb-includes- earpods-power- adapter/p/itm0f37c2240b217?pid=MOBFKCTSVZAXUHGR&lid=LSTMOBFKC TSVZAXUHGREPBFGI&marketplace'\n",
    "driver.get(url)"
   ]
  },
  {
   "cell_type": "code",
   "execution_count": null,
   "id": "83bb208f",
   "metadata": {},
   "outputs": [],
   "source": []
  },
  {
   "cell_type": "code",
   "execution_count": 87,
   "id": "8e77be26",
   "metadata": {},
   "outputs": [
    {
     "data": {
      "text/plain": [
       "[<selenium.webdriver.remote.webelement.WebElement (session=\"e8135d2db109182d6a06085f65e148ed\", element=\"b709f7fd-ae77-4522-ac48-314559d85abf\")>,\n",
       " <selenium.webdriver.remote.webelement.WebElement (session=\"e8135d2db109182d6a06085f65e148ed\", element=\"f21f61d7-8cf2-4047-8aa0-6567888f3a1e\")>,\n",
       " <selenium.webdriver.remote.webelement.WebElement (session=\"e8135d2db109182d6a06085f65e148ed\", element=\"43beb2ea-92fa-4f3a-af66-d3c3c54e70e6\")>,\n",
       " <selenium.webdriver.remote.webelement.WebElement (session=\"e8135d2db109182d6a06085f65e148ed\", element=\"492dc11e-f0b7-4c06-bec9-faaccefed6d5\")>,\n",
       " <selenium.webdriver.remote.webelement.WebElement (session=\"e8135d2db109182d6a06085f65e148ed\", element=\"9873a5a3-ec6b-42c6-809c-2a6218bfe1e0\")>,\n",
       " <selenium.webdriver.remote.webelement.WebElement (session=\"e8135d2db109182d6a06085f65e148ed\", element=\"d25e11e1-86ac-41dc-8719-66c2b2edc320\")>,\n",
       " <selenium.webdriver.remote.webelement.WebElement (session=\"e8135d2db109182d6a06085f65e148ed\", element=\"a49226db-5347-4e77-a85a-16a13c00ab61\")>,\n",
       " <selenium.webdriver.remote.webelement.WebElement (session=\"e8135d2db109182d6a06085f65e148ed\", element=\"cc57f03d-10e5-45be-8ade-999000bf6fd1\")>,\n",
       " <selenium.webdriver.remote.webelement.WebElement (session=\"e8135d2db109182d6a06085f65e148ed\", element=\"1db8dc16-d8ee-488c-b979-6e451be8ca3e\")>,\n",
       " <selenium.webdriver.remote.webelement.WebElement (session=\"e8135d2db109182d6a06085f65e148ed\", element=\"8bb1ab58-3acf-413c-b57b-b376ae5c6204\")>]"
      ]
     },
     "execution_count": 87,
     "metadata": {},
     "output_type": "execute_result"
    }
   ],
   "source": [
    "ratings=driver.find_elements_by_xpath('//div[@class=\"_3LWZlK _1BLPMq\"]')\n",
    "ratings"
   ]
  },
  {
   "cell_type": "code",
   "execution_count": 88,
   "id": "9594e907",
   "metadata": {},
   "outputs": [
    {
     "data": {
      "text/plain": [
       "['5', '5', '5', '', '', '', '', '', '', '']"
      ]
     },
     "execution_count": 88,
     "metadata": {},
     "output_type": "execute_result"
    }
   ],
   "source": [
    "rating = []\n",
    "for i in ratings:\n",
    "    rating.append(i.text)\n",
    "rating   "
   ]
  },
  {
   "cell_type": "code",
   "execution_count": 76,
   "id": "dc2a4336",
   "metadata": {},
   "outputs": [
    {
     "data": {
      "text/plain": [
       "[<selenium.webdriver.remote.webelement.WebElement (session=\"e8135d2db109182d6a06085f65e148ed\", element=\"f4aa70aa-99c9-44e4-a395-c25fe66dee24\")>,\n",
       " <selenium.webdriver.remote.webelement.WebElement (session=\"e8135d2db109182d6a06085f65e148ed\", element=\"3709c89c-e2d6-4a4e-a87a-a3f49ecb8c15\")>,\n",
       " <selenium.webdriver.remote.webelement.WebElement (session=\"e8135d2db109182d6a06085f65e148ed\", element=\"8348c70e-5701-4cfc-bbc4-220e8c564565\")>,\n",
       " <selenium.webdriver.remote.webelement.WebElement (session=\"e8135d2db109182d6a06085f65e148ed\", element=\"e52fbafe-e057-4bac-ac9e-06bb196217a2\")>,\n",
       " <selenium.webdriver.remote.webelement.WebElement (session=\"e8135d2db109182d6a06085f65e148ed\", element=\"b3b0924c-7b1a-41d5-82fd-080e89dea0ee\")>,\n",
       " <selenium.webdriver.remote.webelement.WebElement (session=\"e8135d2db109182d6a06085f65e148ed\", element=\"5a84fe3b-91ee-4017-b3f9-cd6ba2e43a37\")>,\n",
       " <selenium.webdriver.remote.webelement.WebElement (session=\"e8135d2db109182d6a06085f65e148ed\", element=\"6388c24e-61f1-46e9-b622-ca7fcf10d013\")>,\n",
       " <selenium.webdriver.remote.webelement.WebElement (session=\"e8135d2db109182d6a06085f65e148ed\", element=\"3e4881ad-3cda-4dc5-9dbc-ab41a829f9fb\")>,\n",
       " <selenium.webdriver.remote.webelement.WebElement (session=\"e8135d2db109182d6a06085f65e148ed\", element=\"80e80e21-406c-4621-b1a4-49861c4a243f\")>,\n",
       " <selenium.webdriver.remote.webelement.WebElement (session=\"e8135d2db109182d6a06085f65e148ed\", element=\"e3cce14b-c317-41cf-9d5f-7d10170c7029\")>]"
      ]
     },
     "execution_count": 76,
     "metadata": {},
     "output_type": "execute_result"
    }
   ],
   "source": [
    "reviews = driver.find_elements_by_xpath('//p[@class=\"_2-N8zT\"]')\n",
    "reviews"
   ]
  },
  {
   "cell_type": "code",
   "execution_count": 68,
   "id": "5694d906",
   "metadata": {},
   "outputs": [
    {
     "data": {
      "text/plain": [
       "['Brilliant', 'Simply awesome', 'Perfect product!', '', '', '', '', '', '', '']"
      ]
     },
     "execution_count": 68,
     "metadata": {},
     "output_type": "execute_result"
    }
   ],
   "source": [
    "review=[]\n",
    "for i in reviews:\n",
    "    review.append(i.text)\n",
    "review[0:100]"
   ]
  },
  {
   "cell_type": "code",
   "execution_count": 83,
   "id": "2db1c585",
   "metadata": {},
   "outputs": [
    {
     "data": {
      "text/plain": [
       "[<selenium.webdriver.remote.webelement.WebElement (session=\"e8135d2db109182d6a06085f65e148ed\", element=\"c28990d4-237a-447f-8aec-3368b2d8dc31\")>,\n",
       " <selenium.webdriver.remote.webelement.WebElement (session=\"e8135d2db109182d6a06085f65e148ed\", element=\"615b2174-a390-4e07-8bd3-9426c8082662\")>,\n",
       " <selenium.webdriver.remote.webelement.WebElement (session=\"e8135d2db109182d6a06085f65e148ed\", element=\"da2b1766-db19-471f-b19e-11a890de1609\")>,\n",
       " <selenium.webdriver.remote.webelement.WebElement (session=\"e8135d2db109182d6a06085f65e148ed\", element=\"deedfb24-021b-4d59-a6d0-ce01588facb8\")>,\n",
       " <selenium.webdriver.remote.webelement.WebElement (session=\"e8135d2db109182d6a06085f65e148ed\", element=\"337aaca3-f4b9-4fe8-a669-ce5aebff3095\")>,\n",
       " <selenium.webdriver.remote.webelement.WebElement (session=\"e8135d2db109182d6a06085f65e148ed\", element=\"04b53318-7ca8-4067-b959-d391a68ef6ea\")>,\n",
       " <selenium.webdriver.remote.webelement.WebElement (session=\"e8135d2db109182d6a06085f65e148ed\", element=\"15914c26-4d96-45cc-a466-4eaa31a002cc\")>,\n",
       " <selenium.webdriver.remote.webelement.WebElement (session=\"e8135d2db109182d6a06085f65e148ed\", element=\"2e2eeaa3-a76e-43d4-a1f2-33dac255080f\")>,\n",
       " <selenium.webdriver.remote.webelement.WebElement (session=\"e8135d2db109182d6a06085f65e148ed\", element=\"83c4a898-ea42-4715-b6d3-8d4375619380\")>,\n",
       " <selenium.webdriver.remote.webelement.WebElement (session=\"e8135d2db109182d6a06085f65e148ed\", element=\"71df99ce-1654-4ea7-9ff1-53bfdcd12ccb\")>]"
      ]
     },
     "execution_count": 83,
     "metadata": {},
     "output_type": "execute_result"
    }
   ],
   "source": [
    "full_reviews = driver.find_elements_by_xpath('//div[@class=\"t-ZTKy\"]')\n",
    "full_reviews"
   ]
  },
  {
   "cell_type": "code",
   "execution_count": 84,
   "id": "037c1f96",
   "metadata": {},
   "outputs": [
    {
     "data": {
      "text/plain": [
       "['The Best Phone for the Money\\n\\nThe iPhone 11 offers superb cameras, a more durable design and excellent battery life for an affordable price.\\n\\nCompelling ultra-wide camera\\nNew Night mode is excellent\\nLong battery life',\n",
       " 'Really satisfied with the Product I received... It’s totally genuine and the packaging was also really good so if ur planning to buy just go for it.',\n",
       " 'Amazing phone with great cameras and better battery which gives you the best performance. I just love the camera .',\n",
       " '',\n",
       " '',\n",
       " '',\n",
       " '',\n",
       " '',\n",
       " '',\n",
       " '']"
      ]
     },
     "execution_count": 84,
     "metadata": {},
     "output_type": "execute_result"
    }
   ],
   "source": [
    "full_review=[]\n",
    "for i in full_reviews:\n",
    "    full_review.append(i.text)\n",
    "full_review [0:100]   \n",
    "    "
   ]
  },
  {
   "cell_type": "code",
   "execution_count": null,
   "id": "5e163a6f",
   "metadata": {},
   "outputs": [],
   "source": []
  },
  {
   "cell_type": "code",
   "execution_count": 85,
   "id": "beb34ce5",
   "metadata": {},
   "outputs": [
    {
     "data": {
      "text/html": [
       "<div>\n",
       "<style scoped>\n",
       "    .dataframe tbody tr th:only-of-type {\n",
       "        vertical-align: middle;\n",
       "    }\n",
       "\n",
       "    .dataframe tbody tr th {\n",
       "        vertical-align: top;\n",
       "    }\n",
       "\n",
       "    .dataframe thead th {\n",
       "        text-align: right;\n",
       "    }\n",
       "</style>\n",
       "<table border=\"1\" class=\"dataframe\">\n",
       "  <thead>\n",
       "    <tr style=\"text-align: right;\">\n",
       "      <th></th>\n",
       "      <th>Rating</th>\n",
       "      <th>Review</th>\n",
       "      <th>Full Review</th>\n",
       "    </tr>\n",
       "  </thead>\n",
       "  <tbody>\n",
       "    <tr>\n",
       "      <th>0</th>\n",
       "      <td>5</td>\n",
       "      <td>Brilliant</td>\n",
       "      <td>The Best Phone for the Money\\n\\nThe iPhone 11 ...</td>\n",
       "    </tr>\n",
       "    <tr>\n",
       "      <th>1</th>\n",
       "      <td>5</td>\n",
       "      <td>Simply awesome</td>\n",
       "      <td>Really satisfied with the Product I received.....</td>\n",
       "    </tr>\n",
       "    <tr>\n",
       "      <th>2</th>\n",
       "      <td>5</td>\n",
       "      <td>Perfect product!</td>\n",
       "      <td>Amazing phone with great cameras and better ba...</td>\n",
       "    </tr>\n",
       "    <tr>\n",
       "      <th>3</th>\n",
       "      <td></td>\n",
       "      <td></td>\n",
       "      <td></td>\n",
       "    </tr>\n",
       "    <tr>\n",
       "      <th>4</th>\n",
       "      <td></td>\n",
       "      <td></td>\n",
       "      <td></td>\n",
       "    </tr>\n",
       "    <tr>\n",
       "      <th>5</th>\n",
       "      <td></td>\n",
       "      <td></td>\n",
       "      <td></td>\n",
       "    </tr>\n",
       "    <tr>\n",
       "      <th>6</th>\n",
       "      <td></td>\n",
       "      <td></td>\n",
       "      <td></td>\n",
       "    </tr>\n",
       "    <tr>\n",
       "      <th>7</th>\n",
       "      <td></td>\n",
       "      <td></td>\n",
       "      <td></td>\n",
       "    </tr>\n",
       "    <tr>\n",
       "      <th>8</th>\n",
       "      <td></td>\n",
       "      <td></td>\n",
       "      <td></td>\n",
       "    </tr>\n",
       "    <tr>\n",
       "      <th>9</th>\n",
       "      <td></td>\n",
       "      <td></td>\n",
       "      <td></td>\n",
       "    </tr>\n",
       "  </tbody>\n",
       "</table>\n",
       "</div>"
      ],
      "text/plain": [
       "  Rating            Review                                        Full Review\n",
       "0      5         Brilliant  The Best Phone for the Money\\n\\nThe iPhone 11 ...\n",
       "1      5    Simply awesome  Really satisfied with the Product I received.....\n",
       "2      5  Perfect product!  Amazing phone with great cameras and better ba...\n",
       "3                                                                            \n",
       "4                                                                            \n",
       "5                                                                            \n",
       "6                                                                            \n",
       "7                                                                            \n",
       "8                                                                            \n",
       "9                                                                            "
      ]
     },
     "execution_count": 85,
     "metadata": {},
     "output_type": "execute_result"
    }
   ],
   "source": [
    "# making data frame\n",
    "import pandas as pd\n",
    "iphone11 = pd.DataFrame()\n",
    "iphone11['Rating'] = rating\n",
    "iphone11['Review'] = review\n",
    "iphone11['Full Review'] = full_review\n",
    "iphone11"
   ]
  },
  {
   "cell_type": "markdown",
   "id": "c9e3f9a6",
   "metadata": {},
   "source": [
    "# Question 6"
   ]
  },
  {
   "cell_type": "raw",
   "id": "45d3d2d0",
   "metadata": {},
   "source": [
    "Q6: Scrape data for first 100 sneakers you find when you visit flipkart.com andsearch for “sneakers” in the search field.\n",
    "You have to scrape 4 attributes of each sneaker:\n",
    "1. Brand\n",
    "2. Product Description\n",
    "3. Price\n",
    "As shown in the below image, you have to scrape the tick marked attributes."
   ]
  },
  {
   "cell_type": "code",
   "execution_count": 1,
   "id": "dccccf04",
   "metadata": {
    "scrolled": true
   },
   "outputs": [
    {
     "name": "stdout",
     "output_type": "stream",
     "text": [
      "Requirement already satisfied: selenium in f:\\programdata\\anaconda3\\lib\\site-packages (4.1.0)\n",
      "Requirement already satisfied: trio~=0.17 in f:\\programdata\\anaconda3\\lib\\site-packages (from selenium) (0.19.0)\n",
      "Requirement already satisfied: urllib3[secure]~=1.26 in f:\\programdata\\anaconda3\\lib\\site-packages (from selenium) (1.26.4)\n",
      "Requirement already satisfied: trio-websocket~=0.9 in f:\\programdata\\anaconda3\\lib\\site-packages (from selenium) (0.9.2)\n",
      "Requirement already satisfied: idna in f:\\programdata\\anaconda3\\lib\\site-packages (from trio~=0.17->selenium) (2.10)\n",
      "Requirement already satisfied: cffi>=1.14 in f:\\programdata\\anaconda3\\lib\\site-packages (from trio~=0.17->selenium) (1.14.5)\n",
      "Requirement already satisfied: attrs>=19.2.0 in f:\\programdata\\anaconda3\\lib\\site-packages (from trio~=0.17->selenium) (20.3.0)\n",
      "Requirement already satisfied: sortedcontainers in f:\\programdata\\anaconda3\\lib\\site-packages (from trio~=0.17->selenium) (2.3.0)\n",
      "Requirement already satisfied: outcome in f:\\programdata\\anaconda3\\lib\\site-packages (from trio~=0.17->selenium) (1.1.0)\n",
      "Requirement already satisfied: async-generator>=1.9 in f:\\programdata\\anaconda3\\lib\\site-packages (from trio~=0.17->selenium) (1.10)\n",
      "Requirement already satisfied: sniffio in f:\\programdata\\anaconda3\\lib\\site-packages (from trio~=0.17->selenium) (1.2.0)\n",
      "Requirement already satisfied: pycparser in f:\\programdata\\anaconda3\\lib\\site-packages (from cffi>=1.14->trio~=0.17->selenium) (2.20)\n",
      "Requirement already satisfied: wsproto>=0.14 in f:\\programdata\\anaconda3\\lib\\site-packages (from trio-websocket~=0.9->selenium) (1.0.0)\n",
      "Requirement already satisfied: cryptography>=1.3.4 in f:\\programdata\\anaconda3\\lib\\site-packages (from urllib3[secure]~=1.26->selenium) (3.4.7)\n",
      "Requirement already satisfied: pyOpenSSL>=0.14 in f:\\programdata\\anaconda3\\lib\\site-packages (from urllib3[secure]~=1.26->selenium) (20.0.1)\n",
      "Requirement already satisfied: certifi in f:\\programdata\\anaconda3\\lib\\site-packages (from urllib3[secure]~=1.26->selenium) (2020.12.5)\n",
      "Requirement already satisfied: six>=1.5.2 in f:\\programdata\\anaconda3\\lib\\site-packages (from pyOpenSSL>=0.14->urllib3[secure]~=1.26->selenium) (1.15.0)\n",
      "Requirement already satisfied: h11<1,>=0.9.0 in f:\\programdata\\anaconda3\\lib\\site-packages (from wsproto>=0.14->trio-websocket~=0.9->selenium) (0.12.0)\n"
     ]
    }
   ],
   "source": [
    "!pip install selenium"
   ]
  },
  {
   "cell_type": "code",
   "execution_count": 3,
   "id": "ea417007",
   "metadata": {},
   "outputs": [],
   "source": [
    "\n",
    "import selenium\n",
    "from selenium import webdriver\n",
    "import pandas as pd\n",
    "import warnings\n",
    "warnings.filterwarnings(\"ignore\")\n"
   ]
  },
  {
   "cell_type": "raw",
   "id": "33269429",
   "metadata": {},
   "source": [
    "# Now we will download the web driver for web browser\n",
    "1)check the version of ur browser 2) go link 'https://chromedriver.chromium.org/downloads'3) download the webdriver of your version of browser"
   ]
  },
  {
   "cell_type": "code",
   "execution_count": 27,
   "id": "cae9258e",
   "metadata": {},
   "outputs": [
    {
     "data": {
      "text/plain": [
       "<selenium.webdriver.chrome.webdriver.WebDriver (session=\"53873230391538634b11ae737d9c6439\")>"
      ]
     },
     "execution_count": 27,
     "metadata": {},
     "output_type": "execute_result"
    }
   ],
   "source": [
    "# Lets first connect to webdriver\n",
    "\n",
    "driver=webdriver.Chrome(r'C:\\Users\\Amber\\Downloads\\chromedriver_win32\\chromedriver.exe')\n",
    "driver"
   ]
  },
  {
   "cell_type": "code",
   "execution_count": 28,
   "id": "8a359e59",
   "metadata": {},
   "outputs": [],
   "source": [
    "url ='https://www.flipkart.com/'\n",
    "driver.get(url)"
   ]
  },
  {
   "cell_type": "code",
   "execution_count": 29,
   "id": "32011ea8",
   "metadata": {},
   "outputs": [],
   "source": [
    "search_btn = driver.find_element_by_xpath('/html/body/div[1]/div/div[1]/div[1]/div[2]/div[2]/form/div/div/input')\n",
    "search_btn\n",
    "\n",
    "search_btn.send_keys(\"sneakers\")\n",
    "\n",
    "search_btn.submit()\n",
    "\n"
   ]
  },
  {
   "cell_type": "code",
   "execution_count": 40,
   "id": "f234d2c3",
   "metadata": {},
   "outputs": [
    {
     "data": {
      "text/plain": [
       "40"
      ]
     },
     "execution_count": 40,
     "metadata": {},
     "output_type": "execute_result"
    }
   ],
   "source": [
    "brand_names = driver.find_elements_by_xpath('//div[@class=\"_2WkVRV\"]')\n",
    "brand_names\n",
    "\n",
    "\n",
    "brand_name = []\n",
    "for i in brand_names:\n",
    "    brand_name.append(i.text)\n",
    "len(brand_name)  "
   ]
  },
  {
   "cell_type": "code",
   "execution_count": 42,
   "id": "1a0e5089",
   "metadata": {},
   "outputs": [
    {
     "data": {
      "text/plain": [
       "33"
      ]
     },
     "execution_count": 42,
     "metadata": {},
     "output_type": "execute_result"
    }
   ],
   "source": [
    "product_discriptions = driver.find_elements_by_xpath('//a[@class=\"IRpwTa\"]')\n",
    "product_discriptions\n",
    "\n",
    "\n",
    "product_discription = []\n",
    "\n",
    "for i in product_discriptions:\n",
    "    product_discription.append(i.text)\n",
    "len(product_discription)\n"
   ]
  },
  {
   "cell_type": "code",
   "execution_count": 38,
   "id": "308fab1d",
   "metadata": {},
   "outputs": [
    {
     "data": {
      "text/plain": [
       "40"
      ]
     },
     "execution_count": 38,
     "metadata": {},
     "output_type": "execute_result"
    }
   ],
   "source": [
    "prices= driver.find_elements_by_xpath('//div[@class=\"_30jeq3\"]')\n",
    "prices\n",
    "\n",
    "\n",
    "\n",
    "price = []\n",
    "for i in prices:\n",
    "    price.append(i.text)\n",
    "len(price)    \n"
   ]
  },
  {
   "cell_type": "code",
   "execution_count": 43,
   "id": "7e5d97fe",
   "metadata": {},
   "outputs": [
    {
     "name": "stdout",
     "output_type": "stream",
     "text": [
      "33 33 33\n"
     ]
    }
   ],
   "source": [
    "brand_name=brand_name[0:33]\n",
    "product_discription=product_discription[0:33]\n",
    "price=price[0:33]\n",
    "print(len(brand_name),len(product_discription),len(price))"
   ]
  },
  {
   "cell_type": "code",
   "execution_count": 44,
   "id": "26706e94",
   "metadata": {},
   "outputs": [
    {
     "data": {
      "text/html": [
       "<div>\n",
       "<style scoped>\n",
       "    .dataframe tbody tr th:only-of-type {\n",
       "        vertical-align: middle;\n",
       "    }\n",
       "\n",
       "    .dataframe tbody tr th {\n",
       "        vertical-align: top;\n",
       "    }\n",
       "\n",
       "    .dataframe thead th {\n",
       "        text-align: right;\n",
       "    }\n",
       "</style>\n",
       "<table border=\"1\" class=\"dataframe\">\n",
       "  <thead>\n",
       "    <tr style=\"text-align: right;\">\n",
       "      <th></th>\n",
       "      <th>Brand</th>\n",
       "      <th>Product Discription</th>\n",
       "      <th>Price</th>\n",
       "    </tr>\n",
       "  </thead>\n",
       "  <tbody>\n",
       "    <tr>\n",
       "      <th>0</th>\n",
       "      <td>Echor</td>\n",
       "      <td>Echor Men's Sneakers Fashion Lightweight Runni...</td>\n",
       "      <td>₹569</td>\n",
       "    </tr>\n",
       "    <tr>\n",
       "      <th>1</th>\n",
       "      <td>Echor</td>\n",
       "      <td>Men's Sneakers Fashion Lightweight Running Sho...</td>\n",
       "      <td>₹569</td>\n",
       "    </tr>\n",
       "    <tr>\n",
       "      <th>2</th>\n",
       "      <td>Magnolia</td>\n",
       "      <td>Sneakers For Men</td>\n",
       "      <td>₹398</td>\n",
       "    </tr>\n",
       "    <tr>\n",
       "      <th>3</th>\n",
       "      <td>Labbin</td>\n",
       "      <td>Sneakers For Men</td>\n",
       "      <td>₹499</td>\n",
       "    </tr>\n",
       "    <tr>\n",
       "      <th>4</th>\n",
       "      <td>luxury fashion</td>\n",
       "      <td>Luxury Fashionable casual sneaker shoes Sneake...</td>\n",
       "      <td>₹449</td>\n",
       "    </tr>\n",
       "    <tr>\n",
       "      <th>5</th>\n",
       "      <td>Stefano Rads</td>\n",
       "      <td>Sneakers Sneakers For Men</td>\n",
       "      <td>₹242</td>\n",
       "    </tr>\n",
       "    <tr>\n",
       "      <th>6</th>\n",
       "      <td>SCATCHITE</td>\n",
       "      <td>Synthetic leather Sneakers For Men</td>\n",
       "      <td>₹398</td>\n",
       "    </tr>\n",
       "    <tr>\n",
       "      <th>7</th>\n",
       "      <td>aadi</td>\n",
       "      <td>White Sneaker For Men's/Boy's Sneakers For Men</td>\n",
       "      <td>₹499</td>\n",
       "    </tr>\n",
       "    <tr>\n",
       "      <th>8</th>\n",
       "      <td>Shoes Bank</td>\n",
       "      <td>411 Casual Sneakers For Men</td>\n",
       "      <td>₹331</td>\n",
       "    </tr>\n",
       "    <tr>\n",
       "      <th>9</th>\n",
       "      <td>Numenzo</td>\n",
       "      <td>Original Luxury Branded Fashionable Men's Casu...</td>\n",
       "      <td>₹426</td>\n",
       "    </tr>\n",
       "    <tr>\n",
       "      <th>10</th>\n",
       "      <td>ASTEROID</td>\n",
       "      <td>Sneakers For Men</td>\n",
       "      <td>₹499</td>\n",
       "    </tr>\n",
       "    <tr>\n",
       "      <th>11</th>\n",
       "      <td>RED TAPE</td>\n",
       "      <td>Sports Running Shoes Sneakers For Men</td>\n",
       "      <td>₹1,258</td>\n",
       "    </tr>\n",
       "    <tr>\n",
       "      <th>12</th>\n",
       "      <td>BIRDE</td>\n",
       "      <td>Sneakers For Men</td>\n",
       "      <td>₹299</td>\n",
       "    </tr>\n",
       "    <tr>\n",
       "      <th>13</th>\n",
       "      <td>HOTSTYLE</td>\n",
       "      <td>Sneakers For Men</td>\n",
       "      <td>₹298</td>\n",
       "    </tr>\n",
       "    <tr>\n",
       "      <th>14</th>\n",
       "      <td>Trendmode</td>\n",
       "      <td>Modern Trendy Shoes Combo pack of 4 Sneakers F...</td>\n",
       "      <td>₹359</td>\n",
       "    </tr>\n",
       "    <tr>\n",
       "      <th>15</th>\n",
       "      <td>FEWROK</td>\n",
       "      <td>Casual , Partywear Sneakers Shoes For Men's An...</td>\n",
       "      <td>₹429</td>\n",
       "    </tr>\n",
       "    <tr>\n",
       "      <th>16</th>\n",
       "      <td>Extoes</td>\n",
       "      <td>Sneakers For Men</td>\n",
       "      <td>₹948</td>\n",
       "    </tr>\n",
       "    <tr>\n",
       "      <th>17</th>\n",
       "      <td>D-SNEAKERZ</td>\n",
       "      <td>Latest Collection-1216 Stylish Casual Sports S...</td>\n",
       "      <td>₹348</td>\n",
       "    </tr>\n",
       "    <tr>\n",
       "      <th>18</th>\n",
       "      <td>ganpati traders</td>\n",
       "      <td>Sneakers For Men</td>\n",
       "      <td>₹189</td>\n",
       "    </tr>\n",
       "    <tr>\n",
       "      <th>19</th>\n",
       "      <td>HRX by Hrithik Roshan</td>\n",
       "      <td>Fashionable Mens Grey Casual Shoes, Party Wear...</td>\n",
       "      <td>₹2,099</td>\n",
       "    </tr>\n",
       "    <tr>\n",
       "      <th>20</th>\n",
       "      <td>World Wear Footwear</td>\n",
       "      <td>Sneakers For Men</td>\n",
       "      <td>₹199</td>\n",
       "    </tr>\n",
       "    <tr>\n",
       "      <th>21</th>\n",
       "      <td>Arohi</td>\n",
       "      <td>Sneakers For Men</td>\n",
       "      <td>₹399</td>\n",
       "    </tr>\n",
       "    <tr>\n",
       "      <th>22</th>\n",
       "      <td>Rzisbo</td>\n",
       "      <td>Men's Sneakers Fashion Lightweight Running Sho...</td>\n",
       "      <td>₹549</td>\n",
       "    </tr>\n",
       "    <tr>\n",
       "      <th>23</th>\n",
       "      <td>JK PORT</td>\n",
       "      <td>Series 7 Sneakers For Men</td>\n",
       "      <td>₹599</td>\n",
       "    </tr>\n",
       "    <tr>\n",
       "      <th>24</th>\n",
       "      <td>India hub</td>\n",
       "      <td>Original Luxury Branded Fashionable Men's Casu...</td>\n",
       "      <td>₹449</td>\n",
       "    </tr>\n",
       "    <tr>\n",
       "      <th>25</th>\n",
       "      <td>RapidBox</td>\n",
       "      <td>Classic Sneakers For Men</td>\n",
       "      <td>₹640</td>\n",
       "    </tr>\n",
       "    <tr>\n",
       "      <th>26</th>\n",
       "      <td>CLYMB</td>\n",
       "      <td>Lightweight Pack Of 1 Trendy Sneakers Sneakers...</td>\n",
       "      <td>₹649</td>\n",
       "    </tr>\n",
       "    <tr>\n",
       "      <th>27</th>\n",
       "      <td>M7 By Metronaut</td>\n",
       "      <td>Sneakers For Men</td>\n",
       "      <td>₹729</td>\n",
       "    </tr>\n",
       "    <tr>\n",
       "      <th>28</th>\n",
       "      <td>Echor</td>\n",
       "      <td>White Sneaker For Men Sneakers For Men</td>\n",
       "      <td>₹499</td>\n",
       "    </tr>\n",
       "    <tr>\n",
       "      <th>29</th>\n",
       "      <td>Kraasa</td>\n",
       "      <td>Sneakers For Men</td>\n",
       "      <td>₹444</td>\n",
       "    </tr>\n",
       "    <tr>\n",
       "      <th>30</th>\n",
       "      <td>ASTEROID</td>\n",
       "      <td>Sneakers For Men</td>\n",
       "      <td>₹499</td>\n",
       "    </tr>\n",
       "    <tr>\n",
       "      <th>31</th>\n",
       "      <td>RED TAPE</td>\n",
       "      <td>Casual Sneakers Black Shoes For Men Sneakers F...</td>\n",
       "      <td>₹1,678</td>\n",
       "    </tr>\n",
       "    <tr>\n",
       "      <th>32</th>\n",
       "      <td>BRUTON</td>\n",
       "      <td>HRX by Hrithik Roshan Men Charcoal Grey Skate ...</td>\n",
       "      <td>₹178</td>\n",
       "    </tr>\n",
       "  </tbody>\n",
       "</table>\n",
       "</div>"
      ],
      "text/plain": [
       "                    Brand                                Product Discription  \\\n",
       "0                   Echor  Echor Men's Sneakers Fashion Lightweight Runni...   \n",
       "1                   Echor  Men's Sneakers Fashion Lightweight Running Sho...   \n",
       "2                Magnolia                                   Sneakers For Men   \n",
       "3                  Labbin                                   Sneakers For Men   \n",
       "4          luxury fashion  Luxury Fashionable casual sneaker shoes Sneake...   \n",
       "5            Stefano Rads                          Sneakers Sneakers For Men   \n",
       "6               SCATCHITE                 Synthetic leather Sneakers For Men   \n",
       "7                    aadi     White Sneaker For Men's/Boy's Sneakers For Men   \n",
       "8              Shoes Bank                        411 Casual Sneakers For Men   \n",
       "9                 Numenzo  Original Luxury Branded Fashionable Men's Casu...   \n",
       "10               ASTEROID                                   Sneakers For Men   \n",
       "11               RED TAPE              Sports Running Shoes Sneakers For Men   \n",
       "12                  BIRDE                                   Sneakers For Men   \n",
       "13               HOTSTYLE                                   Sneakers For Men   \n",
       "14              Trendmode  Modern Trendy Shoes Combo pack of 4 Sneakers F...   \n",
       "15                 FEWROK  Casual , Partywear Sneakers Shoes For Men's An...   \n",
       "16                 Extoes                                   Sneakers For Men   \n",
       "17             D-SNEAKERZ  Latest Collection-1216 Stylish Casual Sports S...   \n",
       "18        ganpati traders                                   Sneakers For Men   \n",
       "19  HRX by Hrithik Roshan  Fashionable Mens Grey Casual Shoes, Party Wear...   \n",
       "20    World Wear Footwear                                   Sneakers For Men   \n",
       "21                  Arohi                                   Sneakers For Men   \n",
       "22                 Rzisbo  Men's Sneakers Fashion Lightweight Running Sho...   \n",
       "23                JK PORT                          Series 7 Sneakers For Men   \n",
       "24              India hub  Original Luxury Branded Fashionable Men's Casu...   \n",
       "25               RapidBox                           Classic Sneakers For Men   \n",
       "26                  CLYMB  Lightweight Pack Of 1 Trendy Sneakers Sneakers...   \n",
       "27        M7 By Metronaut                                   Sneakers For Men   \n",
       "28                  Echor             White Sneaker For Men Sneakers For Men   \n",
       "29                 Kraasa                                   Sneakers For Men   \n",
       "30               ASTEROID                                   Sneakers For Men   \n",
       "31               RED TAPE  Casual Sneakers Black Shoes For Men Sneakers F...   \n",
       "32                 BRUTON  HRX by Hrithik Roshan Men Charcoal Grey Skate ...   \n",
       "\n",
       "     Price  \n",
       "0     ₹569  \n",
       "1     ₹569  \n",
       "2     ₹398  \n",
       "3     ₹499  \n",
       "4     ₹449  \n",
       "5     ₹242  \n",
       "6     ₹398  \n",
       "7     ₹499  \n",
       "8     ₹331  \n",
       "9     ₹426  \n",
       "10    ₹499  \n",
       "11  ₹1,258  \n",
       "12    ₹299  \n",
       "13    ₹298  \n",
       "14    ₹359  \n",
       "15    ₹429  \n",
       "16    ₹948  \n",
       "17    ₹348  \n",
       "18    ₹189  \n",
       "19  ₹2,099  \n",
       "20    ₹199  \n",
       "21    ₹399  \n",
       "22    ₹549  \n",
       "23    ₹599  \n",
       "24    ₹449  \n",
       "25    ₹640  \n",
       "26    ₹649  \n",
       "27    ₹729  \n",
       "28    ₹499  \n",
       "29    ₹444  \n",
       "30    ₹499  \n",
       "31  ₹1,678  \n",
       "32    ₹178  "
      ]
     },
     "execution_count": 44,
     "metadata": {},
     "output_type": "execute_result"
    }
   ],
   "source": [
    "# making data frame\n",
    "import pandas as pd\n",
    "\n",
    "Sneakers=pd.DataFrame()\n",
    "Sneakers = pd.DataFrame()\n",
    "Sneakers['Brand'] = brand_name\n",
    "Sneakers['Product Discription'] = product_discription\n",
    "Sneakers['Price'] = price\n",
    "Sneakers"
   ]
  },
  {
   "cell_type": "markdown",
   "id": "75d5cf19",
   "metadata": {},
   "source": [
    "# Question 7"
   ]
  },
  {
   "cell_type": "raw",
   "id": "3562e08f",
   "metadata": {},
   "source": [
    "Q7: Go to the link - https://www.myntra.com/shoes\n",
    "Set Price filter to “Rs. 7149 to Rs. 14099 ” , Color filter to “Black”, as shown inthe below image.\n",
    "And then scrape First 100 shoes data you get. The data should include “Brand” of the shoes , Short Shoe\n",
    "description, price of the shoe as shown in the below image."
   ]
  },
  {
   "cell_type": "code",
   "execution_count": 84,
   "id": "87c56a5f",
   "metadata": {},
   "outputs": [],
   "source": [
    "import selenium\n",
    "from selenium import webdriver\n",
    "import pandas as pd\n",
    "import warnings\n",
    "warnings.filterwarnings(\"ignore\")"
   ]
  },
  {
   "cell_type": "raw",
   "id": "ffd60c9e",
   "metadata": {},
   "source": [
    "# Now we will download the web driver for web browser\n",
    "1)check the version of ur browser 2) go link 'https://chromedriver.chromium.org/downloads'3) download the webdriver of your version of browser"
   ]
  },
  {
   "cell_type": "code",
   "execution_count": 92,
   "id": "a912a187",
   "metadata": {
    "scrolled": true
   },
   "outputs": [
    {
     "data": {
      "text/plain": [
       "<selenium.webdriver.chrome.webdriver.WebDriver (session=\"8eb0f9827dda7e68b154dce0b4d27d75\")>"
      ]
     },
     "execution_count": 92,
     "metadata": {},
     "output_type": "execute_result"
    }
   ],
   "source": [
    "driver=webdriver.Chrome(r'C:\\Users\\Amber\\Downloads\\chromedriver_win32\\chromedriver.exe')\n",
    "driver"
   ]
  },
  {
   "cell_type": "code",
   "execution_count": 93,
   "id": "fbcc984f",
   "metadata": {},
   "outputs": [],
   "source": [
    "url ='https://www.myntra.com/shoes'\n",
    "\n",
    "driver.get(url)\n"
   ]
  },
  {
   "cell_type": "code",
   "execution_count": 94,
   "id": "b7030e26",
   "metadata": {},
   "outputs": [],
   "source": [
    "filter_price=driver.find_element_by_xpath('/html/body/div[2]/div/div[1]/main/div[3]/div[1]/section/div/div[5]/ul/li[2]/label/div')\n",
    "filter_price\n",
    "filter_price.click()"
   ]
  },
  {
   "cell_type": "code",
   "execution_count": null,
   "id": "817154cc",
   "metadata": {},
   "outputs": [],
   "source": []
  },
  {
   "cell_type": "code",
   "execution_count": 95,
   "id": "da164ddc",
   "metadata": {},
   "outputs": [],
   "source": [
    "filter_colour=driver.find_element_by_xpath('/html/body/div[2]/div/div[1]/main/div[3]/div[1]/section/div/div[6]/ul/li[1]/label/div')\n",
    "filter_colour\n",
    "filter_colour.click()\n"
   ]
  },
  {
   "cell_type": "code",
   "execution_count": 102,
   "id": "c3b28e5c",
   "metadata": {},
   "outputs": [
    {
     "data": {
      "text/plain": [
       "['Puma',\n",
       " 'Delize',\n",
       " 'Puma',\n",
       " 'Delize',\n",
       " 'Bugatti',\n",
       " 'Delize',\n",
       " 'Puma',\n",
       " 'Saint G',\n",
       " 'DAVINCHI',\n",
       " 'ASICS',\n",
       " 'ROSSO BRUNELLO',\n",
       " 'Saint G',\n",
       " 'RARE RABBIT',\n",
       " 'Geox',\n",
       " 'Bugatti',\n",
       " 'J.FONTINI',\n",
       " 'J.FONTINI',\n",
       " 'Delize',\n",
       " 'Delize',\n",
       " 'RARE RABBIT',\n",
       " 'Delize',\n",
       " 'DAVINCHI',\n",
       " 'Delize',\n",
       " 'Delize',\n",
       " 'Saint G',\n",
       " 'Saint G',\n",
       " 'Saint G',\n",
       " 'Delize',\n",
       " 'Delize',\n",
       " 'Saint G',\n",
       " 'Saint G',\n",
       " 'Geox',\n",
       " 'Puma',\n",
       " 'Columbia',\n",
       " 'Saint G',\n",
       " 'Bugatti',\n",
       " 'Delize',\n",
       " 'Delize',\n",
       " 'Heel & Buckle London',\n",
       " 'Delize',\n",
       " 'Xtep',\n",
       " 'J.FONTINI',\n",
       " 'Delize',\n",
       " 'DAVINCHI',\n",
       " 'Delize',\n",
       " 'DAVINCHI',\n",
       " 'Geox',\n",
       " 'Geox',\n",
       " 'Geox',\n",
       " 'DAVINCHI']"
      ]
     },
     "execution_count": 102,
     "metadata": {},
     "output_type": "execute_result"
    }
   ],
   "source": [
    "brand_names = driver.find_elements_by_xpath('//h3[@class=\"product-brand\"]')\n",
    "brand_names\n",
    "\n",
    "\n",
    "brand_name = []\n",
    "for i in brand_names:\n",
    "    brand_name.append(i.text)\n",
    "brand_name  "
   ]
  },
  {
   "cell_type": "code",
   "execution_count": 104,
   "id": "80367942",
   "metadata": {},
   "outputs": [
    {
     "data": {
      "text/plain": [
       "50"
      ]
     },
     "execution_count": 104,
     "metadata": {},
     "output_type": "execute_result"
    }
   ],
   "source": [
    "len(brand_name)\n"
   ]
  },
  {
   "cell_type": "code",
   "execution_count": 103,
   "id": "9aa59f7e",
   "metadata": {},
   "outputs": [
    {
     "data": {
      "text/plain": [
       "['Men Running Shoes',\n",
       " 'Women High-Top Heeled Boots',\n",
       " 'Men Magnify Nitro Running',\n",
       " 'Block Heeled Boots',\n",
       " 'Men Running Shoes',\n",
       " 'High-Top Block Heeled Boots',\n",
       " 'Women Magnify Nitro Shoes',\n",
       " 'Men Mid-Top Chelsea Boots',\n",
       " 'Men Textured Formal Leather Loafers',\n",
       " 'Men Colourblocked PU Sneakers',\n",
       " 'Men Textured Formal Loafers',\n",
       " 'Men Leather Chelsea Boots',\n",
       " 'Men Leather Flat Boots',\n",
       " 'Men Leather Flat Boots',\n",
       " 'Men Textured Leather High-Top Flat Boots',\n",
       " 'Men Textured Leather Loafers',\n",
       " 'Men Textured Leather Loafers',\n",
       " 'Block Heeled Boots',\n",
       " 'Party High-Top Platform Heeled Boots',\n",
       " 'Men Textured Leather Loafers',\n",
       " 'Leather Party High-Top Block Heeled Boots',\n",
       " 'Men Solid Leather Formal Derbys',\n",
       " 'High-Top Block Heeled Boots',\n",
       " 'High-Top Block Heeled Boots',\n",
       " 'Leather Knee High Slouch Boots',\n",
       " 'Women Leather Heeled Boots',\n",
       " 'Leather Wedge Heeled Boots with Buckles',\n",
       " 'Men Flat Boots',\n",
       " 'Leather Block Heeled Boots',\n",
       " 'Embellished Leather Block Heeled Boots',\n",
       " 'Suede Party High-Top Block Heeled Boots',\n",
       " 'Women Leather Pumps',\n",
       " 'Women Velocity NITRO Runners',\n",
       " 'PEAKFREAK OUTDRY Trekking Shoe',\n",
       " 'Women Leather Loafers',\n",
       " 'Men Black Walking Shoes',\n",
       " 'Women Heeled Boots',\n",
       " 'High-Top Block Heeled Boots',\n",
       " 'Men Formal Leather Derby',\n",
       " 'Women Leather Flat Boots',\n",
       " 'Men Running Shoes',\n",
       " 'Men Black Leather Loafers',\n",
       " 'Men Derby Flat Boots',\n",
       " 'Men Formal Leather Slip-Ons',\n",
       " 'Men Leather Flat Boots',\n",
       " 'Ustraa black',\n",
       " 'Men Leather Loafers',\n",
       " 'Women Solid Leather Pumps',\n",
       " 'Women Solid Leather Pumps',\n",
       " 'Men Textured Formal Leather Loafers']"
      ]
     },
     "execution_count": 103,
     "metadata": {},
     "output_type": "execute_result"
    }
   ],
   "source": [
    "product_discriptions = driver.find_elements_by_xpath('//h4[@class=\"product-product\"]')\n",
    "product_discriptions\n",
    "\n",
    "\n",
    "product_discription = []\n",
    "\n",
    "for i in product_discriptions:\n",
    "    product_discription.append(i.text)\n",
    "product_discription"
   ]
  },
  {
   "cell_type": "code",
   "execution_count": 105,
   "id": "376ae10e",
   "metadata": {},
   "outputs": [
    {
     "data": {
      "text/plain": [
       "50"
      ]
     },
     "execution_count": 105,
     "metadata": {},
     "output_type": "execute_result"
    }
   ],
   "source": [
    "len(product_discription)"
   ]
  },
  {
   "cell_type": "code",
   "execution_count": 106,
   "id": "435073ff",
   "metadata": {},
   "outputs": [
    {
     "data": {
      "text/plain": [
       "['Rs. 7149Rs. 12999(45% OFF)',\n",
       " 'Rs. 8099',\n",
       " 'Rs. 7799Rs. 12999(40% OFF)',\n",
       " 'Rs. 9999',\n",
       " 'Rs. 7999Rs. 9999(20% OFF)',\n",
       " 'Rs. 9999',\n",
       " 'Rs. 7799Rs. 12999(40% OFF)',\n",
       " 'Rs. 9265Rs. 10900(15% OFF)',\n",
       " 'Rs. 8990',\n",
       " 'Rs. 9999',\n",
       " 'Rs. 10999',\n",
       " 'Rs. 10115Rs. 11900(15% OFF)',\n",
       " 'Rs. 7999Rs. 9999(20% OFF)',\n",
       " 'Rs. 8399Rs. 11999(30% OFF)',\n",
       " 'Rs. 8399Rs. 11999(30% OFF)',\n",
       " 'Rs. 7990',\n",
       " 'Rs. 7990',\n",
       " 'Rs. 9999',\n",
       " 'Rs. 9999',\n",
       " 'Rs. 7149Rs. 10999(35% OFF)',\n",
       " 'Rs. 9999',\n",
       " 'Rs. 8990',\n",
       " 'Rs. 9999',\n",
       " 'Rs. 9999',\n",
       " 'Rs. 13175Rs. 15500(15% OFF)',\n",
       " 'Rs. 12665Rs. 14900(15% OFF)',\n",
       " 'Rs. 12665Rs. 14900(15% OFF)',\n",
       " 'Rs. 8099',\n",
       " 'Rs. 9999',\n",
       " 'Rs. 9546Rs. 12900(26% OFF)',\n",
       " 'Rs. 8925Rs. 10500(15% OFF)',\n",
       " 'Rs. 8999',\n",
       " 'Rs. 7149Rs. 10999(35% OFF)',\n",
       " 'Rs. 9999',\n",
       " 'Rs. 7500Rs. 9500(Rs. 2000 OFF)',\n",
       " 'Rs. 7199Rs. 8999(20% OFF)',\n",
       " 'Rs. 8099',\n",
       " 'Rs. 9999',\n",
       " 'Rs. 7990',\n",
       " 'Rs. 8099',\n",
       " 'Rs. 7699',\n",
       " 'Rs. 8490',\n",
       " 'Rs. 8099',\n",
       " 'Rs. 8990',\n",
       " 'Rs. 8099',\n",
       " 'Rs. 8990',\n",
       " 'Rs. 9999',\n",
       " 'Rs. 7999',\n",
       " 'Rs. 10990',\n",
       " 'Rs. 8990']"
      ]
     },
     "execution_count": 106,
     "metadata": {},
     "output_type": "execute_result"
    }
   ],
   "source": [
    "prices= driver.find_elements_by_xpath('//div[@class=\"product-price\"]')\n",
    "prices\n",
    "\n",
    "\n",
    "\n",
    "price = []\n",
    "for i in prices:\n",
    "    price.append(i.text)\n",
    "    \n",
    "    \n",
    "price  \n",
    "\n",
    "    "
   ]
  },
  {
   "cell_type": "code",
   "execution_count": 107,
   "id": "1effeb93",
   "metadata": {},
   "outputs": [
    {
     "data": {
      "text/plain": [
       "50"
      ]
     },
     "execution_count": 107,
     "metadata": {},
     "output_type": "execute_result"
    }
   ],
   "source": [
    "len(price)"
   ]
  },
  {
   "cell_type": "code",
   "execution_count": 108,
   "id": "4f906a18",
   "metadata": {},
   "outputs": [
    {
     "data": {
      "text/html": [
       "<div>\n",
       "<style scoped>\n",
       "    .dataframe tbody tr th:only-of-type {\n",
       "        vertical-align: middle;\n",
       "    }\n",
       "\n",
       "    .dataframe tbody tr th {\n",
       "        vertical-align: top;\n",
       "    }\n",
       "\n",
       "    .dataframe thead th {\n",
       "        text-align: right;\n",
       "    }\n",
       "</style>\n",
       "<table border=\"1\" class=\"dataframe\">\n",
       "  <thead>\n",
       "    <tr style=\"text-align: right;\">\n",
       "      <th></th>\n",
       "      <th>Brand</th>\n",
       "      <th>Product Discription</th>\n",
       "      <th>Price</th>\n",
       "    </tr>\n",
       "  </thead>\n",
       "  <tbody>\n",
       "    <tr>\n",
       "      <th>0</th>\n",
       "      <td>Puma</td>\n",
       "      <td>Men Running Shoes</td>\n",
       "      <td>Rs. 7149Rs. 12999(45% OFF)</td>\n",
       "    </tr>\n",
       "    <tr>\n",
       "      <th>1</th>\n",
       "      <td>Delize</td>\n",
       "      <td>Women High-Top Heeled Boots</td>\n",
       "      <td>Rs. 8099</td>\n",
       "    </tr>\n",
       "    <tr>\n",
       "      <th>2</th>\n",
       "      <td>Puma</td>\n",
       "      <td>Men Magnify Nitro Running</td>\n",
       "      <td>Rs. 7799Rs. 12999(40% OFF)</td>\n",
       "    </tr>\n",
       "    <tr>\n",
       "      <th>3</th>\n",
       "      <td>Delize</td>\n",
       "      <td>Block Heeled Boots</td>\n",
       "      <td>Rs. 9999</td>\n",
       "    </tr>\n",
       "    <tr>\n",
       "      <th>4</th>\n",
       "      <td>Bugatti</td>\n",
       "      <td>Men Running Shoes</td>\n",
       "      <td>Rs. 7999Rs. 9999(20% OFF)</td>\n",
       "    </tr>\n",
       "    <tr>\n",
       "      <th>5</th>\n",
       "      <td>Delize</td>\n",
       "      <td>High-Top Block Heeled Boots</td>\n",
       "      <td>Rs. 9999</td>\n",
       "    </tr>\n",
       "    <tr>\n",
       "      <th>6</th>\n",
       "      <td>Puma</td>\n",
       "      <td>Women Magnify Nitro Shoes</td>\n",
       "      <td>Rs. 7799Rs. 12999(40% OFF)</td>\n",
       "    </tr>\n",
       "    <tr>\n",
       "      <th>7</th>\n",
       "      <td>Saint G</td>\n",
       "      <td>Men Mid-Top Chelsea Boots</td>\n",
       "      <td>Rs. 9265Rs. 10900(15% OFF)</td>\n",
       "    </tr>\n",
       "    <tr>\n",
       "      <th>8</th>\n",
       "      <td>DAVINCHI</td>\n",
       "      <td>Men Textured Formal Leather Loafers</td>\n",
       "      <td>Rs. 8990</td>\n",
       "    </tr>\n",
       "    <tr>\n",
       "      <th>9</th>\n",
       "      <td>ASICS</td>\n",
       "      <td>Men Colourblocked PU Sneakers</td>\n",
       "      <td>Rs. 9999</td>\n",
       "    </tr>\n",
       "    <tr>\n",
       "      <th>10</th>\n",
       "      <td>ROSSO BRUNELLO</td>\n",
       "      <td>Men Textured Formal Loafers</td>\n",
       "      <td>Rs. 10999</td>\n",
       "    </tr>\n",
       "    <tr>\n",
       "      <th>11</th>\n",
       "      <td>Saint G</td>\n",
       "      <td>Men Leather Chelsea Boots</td>\n",
       "      <td>Rs. 10115Rs. 11900(15% OFF)</td>\n",
       "    </tr>\n",
       "    <tr>\n",
       "      <th>12</th>\n",
       "      <td>RARE RABBIT</td>\n",
       "      <td>Men Leather Flat Boots</td>\n",
       "      <td>Rs. 7999Rs. 9999(20% OFF)</td>\n",
       "    </tr>\n",
       "    <tr>\n",
       "      <th>13</th>\n",
       "      <td>Geox</td>\n",
       "      <td>Men Leather Flat Boots</td>\n",
       "      <td>Rs. 8399Rs. 11999(30% OFF)</td>\n",
       "    </tr>\n",
       "    <tr>\n",
       "      <th>14</th>\n",
       "      <td>Bugatti</td>\n",
       "      <td>Men Textured Leather High-Top Flat Boots</td>\n",
       "      <td>Rs. 8399Rs. 11999(30% OFF)</td>\n",
       "    </tr>\n",
       "    <tr>\n",
       "      <th>15</th>\n",
       "      <td>J.FONTINI</td>\n",
       "      <td>Men Textured Leather Loafers</td>\n",
       "      <td>Rs. 7990</td>\n",
       "    </tr>\n",
       "    <tr>\n",
       "      <th>16</th>\n",
       "      <td>J.FONTINI</td>\n",
       "      <td>Men Textured Leather Loafers</td>\n",
       "      <td>Rs. 7990</td>\n",
       "    </tr>\n",
       "    <tr>\n",
       "      <th>17</th>\n",
       "      <td>Delize</td>\n",
       "      <td>Block Heeled Boots</td>\n",
       "      <td>Rs. 9999</td>\n",
       "    </tr>\n",
       "    <tr>\n",
       "      <th>18</th>\n",
       "      <td>Delize</td>\n",
       "      <td>Party High-Top Platform Heeled Boots</td>\n",
       "      <td>Rs. 9999</td>\n",
       "    </tr>\n",
       "    <tr>\n",
       "      <th>19</th>\n",
       "      <td>RARE RABBIT</td>\n",
       "      <td>Men Textured Leather Loafers</td>\n",
       "      <td>Rs. 7149Rs. 10999(35% OFF)</td>\n",
       "    </tr>\n",
       "    <tr>\n",
       "      <th>20</th>\n",
       "      <td>Delize</td>\n",
       "      <td>Leather Party High-Top Block Heeled Boots</td>\n",
       "      <td>Rs. 9999</td>\n",
       "    </tr>\n",
       "    <tr>\n",
       "      <th>21</th>\n",
       "      <td>DAVINCHI</td>\n",
       "      <td>Men Solid Leather Formal Derbys</td>\n",
       "      <td>Rs. 8990</td>\n",
       "    </tr>\n",
       "    <tr>\n",
       "      <th>22</th>\n",
       "      <td>Delize</td>\n",
       "      <td>High-Top Block Heeled Boots</td>\n",
       "      <td>Rs. 9999</td>\n",
       "    </tr>\n",
       "    <tr>\n",
       "      <th>23</th>\n",
       "      <td>Delize</td>\n",
       "      <td>High-Top Block Heeled Boots</td>\n",
       "      <td>Rs. 9999</td>\n",
       "    </tr>\n",
       "    <tr>\n",
       "      <th>24</th>\n",
       "      <td>Saint G</td>\n",
       "      <td>Leather Knee High Slouch Boots</td>\n",
       "      <td>Rs. 13175Rs. 15500(15% OFF)</td>\n",
       "    </tr>\n",
       "    <tr>\n",
       "      <th>25</th>\n",
       "      <td>Saint G</td>\n",
       "      <td>Women Leather Heeled Boots</td>\n",
       "      <td>Rs. 12665Rs. 14900(15% OFF)</td>\n",
       "    </tr>\n",
       "    <tr>\n",
       "      <th>26</th>\n",
       "      <td>Saint G</td>\n",
       "      <td>Leather Wedge Heeled Boots with Buckles</td>\n",
       "      <td>Rs. 12665Rs. 14900(15% OFF)</td>\n",
       "    </tr>\n",
       "    <tr>\n",
       "      <th>27</th>\n",
       "      <td>Delize</td>\n",
       "      <td>Men Flat Boots</td>\n",
       "      <td>Rs. 8099</td>\n",
       "    </tr>\n",
       "    <tr>\n",
       "      <th>28</th>\n",
       "      <td>Delize</td>\n",
       "      <td>Leather Block Heeled Boots</td>\n",
       "      <td>Rs. 9999</td>\n",
       "    </tr>\n",
       "    <tr>\n",
       "      <th>29</th>\n",
       "      <td>Saint G</td>\n",
       "      <td>Embellished Leather Block Heeled Boots</td>\n",
       "      <td>Rs. 9546Rs. 12900(26% OFF)</td>\n",
       "    </tr>\n",
       "    <tr>\n",
       "      <th>30</th>\n",
       "      <td>Saint G</td>\n",
       "      <td>Suede Party High-Top Block Heeled Boots</td>\n",
       "      <td>Rs. 8925Rs. 10500(15% OFF)</td>\n",
       "    </tr>\n",
       "    <tr>\n",
       "      <th>31</th>\n",
       "      <td>Geox</td>\n",
       "      <td>Women Leather Pumps</td>\n",
       "      <td>Rs. 8999</td>\n",
       "    </tr>\n",
       "    <tr>\n",
       "      <th>32</th>\n",
       "      <td>Puma</td>\n",
       "      <td>Women Velocity NITRO Runners</td>\n",
       "      <td>Rs. 7149Rs. 10999(35% OFF)</td>\n",
       "    </tr>\n",
       "    <tr>\n",
       "      <th>33</th>\n",
       "      <td>Columbia</td>\n",
       "      <td>PEAKFREAK OUTDRY Trekking Shoe</td>\n",
       "      <td>Rs. 9999</td>\n",
       "    </tr>\n",
       "    <tr>\n",
       "      <th>34</th>\n",
       "      <td>Saint G</td>\n",
       "      <td>Women Leather Loafers</td>\n",
       "      <td>Rs. 7500Rs. 9500(Rs. 2000 OFF)</td>\n",
       "    </tr>\n",
       "    <tr>\n",
       "      <th>35</th>\n",
       "      <td>Bugatti</td>\n",
       "      <td>Men Black Walking Shoes</td>\n",
       "      <td>Rs. 7199Rs. 8999(20% OFF)</td>\n",
       "    </tr>\n",
       "    <tr>\n",
       "      <th>36</th>\n",
       "      <td>Delize</td>\n",
       "      <td>Women Heeled Boots</td>\n",
       "      <td>Rs. 8099</td>\n",
       "    </tr>\n",
       "    <tr>\n",
       "      <th>37</th>\n",
       "      <td>Delize</td>\n",
       "      <td>High-Top Block Heeled Boots</td>\n",
       "      <td>Rs. 9999</td>\n",
       "    </tr>\n",
       "    <tr>\n",
       "      <th>38</th>\n",
       "      <td>Heel &amp; Buckle London</td>\n",
       "      <td>Men Formal Leather Derby</td>\n",
       "      <td>Rs. 7990</td>\n",
       "    </tr>\n",
       "    <tr>\n",
       "      <th>39</th>\n",
       "      <td>Delize</td>\n",
       "      <td>Women Leather Flat Boots</td>\n",
       "      <td>Rs. 8099</td>\n",
       "    </tr>\n",
       "    <tr>\n",
       "      <th>40</th>\n",
       "      <td>Xtep</td>\n",
       "      <td>Men Running Shoes</td>\n",
       "      <td>Rs. 7699</td>\n",
       "    </tr>\n",
       "    <tr>\n",
       "      <th>41</th>\n",
       "      <td>J.FONTINI</td>\n",
       "      <td>Men Black Leather Loafers</td>\n",
       "      <td>Rs. 8490</td>\n",
       "    </tr>\n",
       "    <tr>\n",
       "      <th>42</th>\n",
       "      <td>Delize</td>\n",
       "      <td>Men Derby Flat Boots</td>\n",
       "      <td>Rs. 8099</td>\n",
       "    </tr>\n",
       "    <tr>\n",
       "      <th>43</th>\n",
       "      <td>DAVINCHI</td>\n",
       "      <td>Men Formal Leather Slip-Ons</td>\n",
       "      <td>Rs. 8990</td>\n",
       "    </tr>\n",
       "    <tr>\n",
       "      <th>44</th>\n",
       "      <td>Delize</td>\n",
       "      <td>Men Leather Flat Boots</td>\n",
       "      <td>Rs. 8099</td>\n",
       "    </tr>\n",
       "    <tr>\n",
       "      <th>45</th>\n",
       "      <td>DAVINCHI</td>\n",
       "      <td>Ustraa black</td>\n",
       "      <td>Rs. 8990</td>\n",
       "    </tr>\n",
       "    <tr>\n",
       "      <th>46</th>\n",
       "      <td>Geox</td>\n",
       "      <td>Men Leather Loafers</td>\n",
       "      <td>Rs. 9999</td>\n",
       "    </tr>\n",
       "    <tr>\n",
       "      <th>47</th>\n",
       "      <td>Geox</td>\n",
       "      <td>Women Solid Leather Pumps</td>\n",
       "      <td>Rs. 7999</td>\n",
       "    </tr>\n",
       "    <tr>\n",
       "      <th>48</th>\n",
       "      <td>Geox</td>\n",
       "      <td>Women Solid Leather Pumps</td>\n",
       "      <td>Rs. 10990</td>\n",
       "    </tr>\n",
       "    <tr>\n",
       "      <th>49</th>\n",
       "      <td>DAVINCHI</td>\n",
       "      <td>Men Textured Formal Leather Loafers</td>\n",
       "      <td>Rs. 8990</td>\n",
       "    </tr>\n",
       "  </tbody>\n",
       "</table>\n",
       "</div>"
      ],
      "text/plain": [
       "                   Brand                        Product Discription  \\\n",
       "0                   Puma                          Men Running Shoes   \n",
       "1                 Delize                Women High-Top Heeled Boots   \n",
       "2                   Puma                  Men Magnify Nitro Running   \n",
       "3                 Delize                         Block Heeled Boots   \n",
       "4                Bugatti                          Men Running Shoes   \n",
       "5                 Delize                High-Top Block Heeled Boots   \n",
       "6                   Puma                  Women Magnify Nitro Shoes   \n",
       "7                Saint G                  Men Mid-Top Chelsea Boots   \n",
       "8               DAVINCHI        Men Textured Formal Leather Loafers   \n",
       "9                  ASICS              Men Colourblocked PU Sneakers   \n",
       "10        ROSSO BRUNELLO                Men Textured Formal Loafers   \n",
       "11               Saint G                  Men Leather Chelsea Boots   \n",
       "12           RARE RABBIT                     Men Leather Flat Boots   \n",
       "13                  Geox                     Men Leather Flat Boots   \n",
       "14               Bugatti   Men Textured Leather High-Top Flat Boots   \n",
       "15             J.FONTINI               Men Textured Leather Loafers   \n",
       "16             J.FONTINI               Men Textured Leather Loafers   \n",
       "17                Delize                         Block Heeled Boots   \n",
       "18                Delize       Party High-Top Platform Heeled Boots   \n",
       "19           RARE RABBIT               Men Textured Leather Loafers   \n",
       "20                Delize  Leather Party High-Top Block Heeled Boots   \n",
       "21              DAVINCHI            Men Solid Leather Formal Derbys   \n",
       "22                Delize                High-Top Block Heeled Boots   \n",
       "23                Delize                High-Top Block Heeled Boots   \n",
       "24               Saint G             Leather Knee High Slouch Boots   \n",
       "25               Saint G                 Women Leather Heeled Boots   \n",
       "26               Saint G    Leather Wedge Heeled Boots with Buckles   \n",
       "27                Delize                             Men Flat Boots   \n",
       "28                Delize                 Leather Block Heeled Boots   \n",
       "29               Saint G     Embellished Leather Block Heeled Boots   \n",
       "30               Saint G    Suede Party High-Top Block Heeled Boots   \n",
       "31                  Geox                        Women Leather Pumps   \n",
       "32                  Puma               Women Velocity NITRO Runners   \n",
       "33              Columbia             PEAKFREAK OUTDRY Trekking Shoe   \n",
       "34               Saint G                      Women Leather Loafers   \n",
       "35               Bugatti                    Men Black Walking Shoes   \n",
       "36                Delize                         Women Heeled Boots   \n",
       "37                Delize                High-Top Block Heeled Boots   \n",
       "38  Heel & Buckle London                   Men Formal Leather Derby   \n",
       "39                Delize                   Women Leather Flat Boots   \n",
       "40                  Xtep                          Men Running Shoes   \n",
       "41             J.FONTINI                  Men Black Leather Loafers   \n",
       "42                Delize                       Men Derby Flat Boots   \n",
       "43              DAVINCHI                Men Formal Leather Slip-Ons   \n",
       "44                Delize                     Men Leather Flat Boots   \n",
       "45              DAVINCHI                               Ustraa black   \n",
       "46                  Geox                        Men Leather Loafers   \n",
       "47                  Geox                  Women Solid Leather Pumps   \n",
       "48                  Geox                  Women Solid Leather Pumps   \n",
       "49              DAVINCHI        Men Textured Formal Leather Loafers   \n",
       "\n",
       "                             Price  \n",
       "0       Rs. 7149Rs. 12999(45% OFF)  \n",
       "1                         Rs. 8099  \n",
       "2       Rs. 7799Rs. 12999(40% OFF)  \n",
       "3                         Rs. 9999  \n",
       "4        Rs. 7999Rs. 9999(20% OFF)  \n",
       "5                         Rs. 9999  \n",
       "6       Rs. 7799Rs. 12999(40% OFF)  \n",
       "7       Rs. 9265Rs. 10900(15% OFF)  \n",
       "8                         Rs. 8990  \n",
       "9                         Rs. 9999  \n",
       "10                       Rs. 10999  \n",
       "11     Rs. 10115Rs. 11900(15% OFF)  \n",
       "12       Rs. 7999Rs. 9999(20% OFF)  \n",
       "13      Rs. 8399Rs. 11999(30% OFF)  \n",
       "14      Rs. 8399Rs. 11999(30% OFF)  \n",
       "15                        Rs. 7990  \n",
       "16                        Rs. 7990  \n",
       "17                        Rs. 9999  \n",
       "18                        Rs. 9999  \n",
       "19      Rs. 7149Rs. 10999(35% OFF)  \n",
       "20                        Rs. 9999  \n",
       "21                        Rs. 8990  \n",
       "22                        Rs. 9999  \n",
       "23                        Rs. 9999  \n",
       "24     Rs. 13175Rs. 15500(15% OFF)  \n",
       "25     Rs. 12665Rs. 14900(15% OFF)  \n",
       "26     Rs. 12665Rs. 14900(15% OFF)  \n",
       "27                        Rs. 8099  \n",
       "28                        Rs. 9999  \n",
       "29      Rs. 9546Rs. 12900(26% OFF)  \n",
       "30      Rs. 8925Rs. 10500(15% OFF)  \n",
       "31                        Rs. 8999  \n",
       "32      Rs. 7149Rs. 10999(35% OFF)  \n",
       "33                        Rs. 9999  \n",
       "34  Rs. 7500Rs. 9500(Rs. 2000 OFF)  \n",
       "35       Rs. 7199Rs. 8999(20% OFF)  \n",
       "36                        Rs. 8099  \n",
       "37                        Rs. 9999  \n",
       "38                        Rs. 7990  \n",
       "39                        Rs. 8099  \n",
       "40                        Rs. 7699  \n",
       "41                        Rs. 8490  \n",
       "42                        Rs. 8099  \n",
       "43                        Rs. 8990  \n",
       "44                        Rs. 8099  \n",
       "45                        Rs. 8990  \n",
       "46                        Rs. 9999  \n",
       "47                        Rs. 7999  \n",
       "48                       Rs. 10990  \n",
       "49                        Rs. 8990  "
      ]
     },
     "execution_count": 108,
     "metadata": {},
     "output_type": "execute_result"
    }
   ],
   "source": [
    "# making data frame\n",
    "import pandas as pd\n",
    "\n",
    "\n",
    "Shoes = pd.DataFrame()\n",
    "Shoes['Brand'] = brand_name\n",
    "Shoes['Product Discription'] = product_discription\n",
    "Shoes['Price'] = price\n",
    "Shoes"
   ]
  },
  {
   "cell_type": "markdown",
   "id": "9f1e0841",
   "metadata": {},
   "source": [
    "# Question 8"
   ]
  },
  {
   "cell_type": "raw",
   "id": "80155ff6",
   "metadata": {},
   "source": [
    "Q8: Go to webpage https://www.amazon.in/\n",
    "Enter “Laptop” in the search field and then click the search icon.\n",
    "Then set CPU Type filter to “Intel Core i7” and “Intel Core i9” as shown in the below image:\n",
    "AfterAfter setting the filters scrape first 10 laptops data. You have to scrape 3 attributesfor each laptop:\n",
    "1. Title\n",
    "2. Ratings\n",
    "3. Price\n",
    "As shown in the below image as the tick marked attributes."
   ]
  },
  {
   "cell_type": "code",
   "execution_count": 109,
   "id": "540290cb",
   "metadata": {},
   "outputs": [
    {
     "data": {
      "text/plain": [
       "<selenium.webdriver.chrome.webdriver.WebDriver (session=\"addbaa25a376bea0ba3619698271f905\")>"
      ]
     },
     "execution_count": 109,
     "metadata": {},
     "output_type": "execute_result"
    }
   ],
   "source": [
    "driver=webdriver.Chrome(r'C:\\Users\\Amber\\Downloads\\chromedriver_win32\\chromedriver.exe')\n",
    "driver"
   ]
  },
  {
   "cell_type": "code",
   "execution_count": 110,
   "id": "9758ab7c",
   "metadata": {},
   "outputs": [],
   "source": [
    "url ='https://www.amazon.in/'\n",
    "\n",
    "driver.get(url)\n"
   ]
  },
  {
   "cell_type": "code",
   "execution_count": 111,
   "id": "42f3d0af",
   "metadata": {},
   "outputs": [
    {
     "data": {
      "text/plain": [
       "<selenium.webdriver.remote.webelement.WebElement (session=\"addbaa25a376bea0ba3619698271f905\", element=\"ad418903-f972-401a-b595-7cee11298b5f\")>"
      ]
     },
     "execution_count": 111,
     "metadata": {},
     "output_type": "execute_result"
    }
   ],
   "source": [
    "search_btn = driver.find_element_by_xpath('/html/body/div[1]/header/div/div[1]/div[2]/div/form/div[2]/div[1]/input')\n",
    "search_btn"
   ]
  },
  {
   "cell_type": "code",
   "execution_count": 112,
   "id": "d2d47159",
   "metadata": {},
   "outputs": [],
   "source": [
    "search_btn.send_keys(\"laptop\")"
   ]
  },
  {
   "cell_type": "code",
   "execution_count": 113,
   "id": "e45e50d9",
   "metadata": {},
   "outputs": [],
   "source": [
    "search_btn.submit()"
   ]
  },
  {
   "cell_type": "code",
   "execution_count": 114,
   "id": "491ee739",
   "metadata": {},
   "outputs": [
    {
     "data": {
      "text/plain": [
       "<selenium.webdriver.remote.webelement.WebElement (session=\"addbaa25a376bea0ba3619698271f905\", element=\"5434ba49-e802-497e-a73e-006c2ecc215e\")>"
      ]
     },
     "execution_count": 114,
     "metadata": {},
     "output_type": "execute_result"
    }
   ],
   "source": [
    "\n",
    "intel_17 = driver.find_element_by_xpath('/html/body/div[1]/div[2]/div[1]/div[2]/div/div[3]/span/div[1]/span/div/div/div[6]/ul[2]/li[12]/span/a/div/label/i')\n",
    "intel_17"
   ]
  },
  {
   "cell_type": "code",
   "execution_count": 115,
   "id": "27e2910b",
   "metadata": {},
   "outputs": [
    {
     "data": {
      "text/plain": [
       "<selenium.webdriver.remote.webelement.WebElement (session=\"addbaa25a376bea0ba3619698271f905\", element=\"22d03826-2395-492a-bd09-c035461d338f\")>"
      ]
     },
     "execution_count": 115,
     "metadata": {},
     "output_type": "execute_result"
    }
   ],
   "source": [
    "intel_19 = driver.find_element_by_xpath('/html/body/div[1]/div[2]/div[1]/div[2]/div/div[3]/span/div[1]/span/div/div/div[6]/ul[2]/li[13]/span/a/div/label/i')\n",
    "intel_19"
   ]
  },
  {
   "cell_type": "code",
   "execution_count": 118,
   "id": "4419c4b9",
   "metadata": {},
   "outputs": [
    {
     "data": {
      "text/plain": [
       "[<selenium.webdriver.remote.webelement.WebElement (session=\"addbaa25a376bea0ba3619698271f905\", element=\"a02cf5d6-e8db-42d7-910c-93f80f8de675\")>,\n",
       " <selenium.webdriver.remote.webelement.WebElement (session=\"addbaa25a376bea0ba3619698271f905\", element=\"6cc52eff-eb23-4afe-ac8c-ea3645ae8e71\")>,\n",
       " <selenium.webdriver.remote.webelement.WebElement (session=\"addbaa25a376bea0ba3619698271f905\", element=\"74dd3f2c-96b5-4099-9b0a-9ebffe584764\")>,\n",
       " <selenium.webdriver.remote.webelement.WebElement (session=\"addbaa25a376bea0ba3619698271f905\", element=\"b1e2cfc7-4934-478a-86c0-dd7e0a190125\")>,\n",
       " <selenium.webdriver.remote.webelement.WebElement (session=\"addbaa25a376bea0ba3619698271f905\", element=\"212b013a-5c14-4f1c-8a61-adfb098a2c9c\")>,\n",
       " <selenium.webdriver.remote.webelement.WebElement (session=\"addbaa25a376bea0ba3619698271f905\", element=\"e6b931b6-e7aa-40a4-9bb7-2fb25a924542\")>,\n",
       " <selenium.webdriver.remote.webelement.WebElement (session=\"addbaa25a376bea0ba3619698271f905\", element=\"c825f68d-dc90-41e8-a96e-bcb5253293ba\")>,\n",
       " <selenium.webdriver.remote.webelement.WebElement (session=\"addbaa25a376bea0ba3619698271f905\", element=\"c63bbe1e-a01e-41c2-a093-93f4a46df291\")>,\n",
       " <selenium.webdriver.remote.webelement.WebElement (session=\"addbaa25a376bea0ba3619698271f905\", element=\"c919050b-edb3-4e35-88c2-62009c28bee4\")>,\n",
       " <selenium.webdriver.remote.webelement.WebElement (session=\"addbaa25a376bea0ba3619698271f905\", element=\"ea36b766-ac10-41a0-81bb-d68a43c61c40\")>,\n",
       " <selenium.webdriver.remote.webelement.WebElement (session=\"addbaa25a376bea0ba3619698271f905\", element=\"2e7b173d-8157-451c-a630-04dbf5b6c79e\")>,\n",
       " <selenium.webdriver.remote.webelement.WebElement (session=\"addbaa25a376bea0ba3619698271f905\", element=\"ede2c31c-cd19-4bd9-a809-8a4cf527d088\")>,\n",
       " <selenium.webdriver.remote.webelement.WebElement (session=\"addbaa25a376bea0ba3619698271f905\", element=\"7754c729-16ef-48af-8ca9-287c0b129be8\")>,\n",
       " <selenium.webdriver.remote.webelement.WebElement (session=\"addbaa25a376bea0ba3619698271f905\", element=\"65b458d7-63d3-44af-9916-e8087b4354f6\")>,\n",
       " <selenium.webdriver.remote.webelement.WebElement (session=\"addbaa25a376bea0ba3619698271f905\", element=\"a3621789-3b56-4a17-9313-64dd99224449\")>,\n",
       " <selenium.webdriver.remote.webelement.WebElement (session=\"addbaa25a376bea0ba3619698271f905\", element=\"21361270-4118-44eb-abb5-117e95541017\")>,\n",
       " <selenium.webdriver.remote.webelement.WebElement (session=\"addbaa25a376bea0ba3619698271f905\", element=\"da3ca462-df36-4289-ba71-f77623893442\")>,\n",
       " <selenium.webdriver.remote.webelement.WebElement (session=\"addbaa25a376bea0ba3619698271f905\", element=\"58b32115-e7db-4251-b822-248406387572\")>,\n",
       " <selenium.webdriver.remote.webelement.WebElement (session=\"addbaa25a376bea0ba3619698271f905\", element=\"e2f8cd76-5a4d-47a0-9b95-6ce3bb1fe92b\")>,\n",
       " <selenium.webdriver.remote.webelement.WebElement (session=\"addbaa25a376bea0ba3619698271f905\", element=\"398d1d01-7435-469e-b1a1-403aa39bf375\")>,\n",
       " <selenium.webdriver.remote.webelement.WebElement (session=\"addbaa25a376bea0ba3619698271f905\", element=\"66bf2246-905c-4116-af58-4afc4bc45406\")>,\n",
       " <selenium.webdriver.remote.webelement.WebElement (session=\"addbaa25a376bea0ba3619698271f905\", element=\"7c2ca5ee-aa41-4390-834c-dee5a6cc80be\")>,\n",
       " <selenium.webdriver.remote.webelement.WebElement (session=\"addbaa25a376bea0ba3619698271f905\", element=\"df42e51b-3fda-478f-ae63-2a468979edd2\")>,\n",
       " <selenium.webdriver.remote.webelement.WebElement (session=\"addbaa25a376bea0ba3619698271f905\", element=\"8ac3ae06-33cd-428c-820d-4f86965fb876\")>,\n",
       " <selenium.webdriver.remote.webelement.WebElement (session=\"addbaa25a376bea0ba3619698271f905\", element=\"ab7f096f-cdb1-4ff5-8438-2b4ca4f1e0ec\")>]"
      ]
     },
     "execution_count": 118,
     "metadata": {},
     "output_type": "execute_result"
    }
   ],
   "source": [
    "brand_titles=driver.find_elements_by_xpath('//h2[@class=\"a-size-mini a-spacing-none a-color-base s-line-clamp-2\"]')\n",
    "brand_titles"
   ]
  },
  {
   "cell_type": "code",
   "execution_count": 119,
   "id": "dbb3b75b",
   "metadata": {},
   "outputs": [
    {
     "data": {
      "text/plain": [
       "['Lenovo IdeaPad Slim 3 10th Gen Intel Core i3 15.6\"(39.62cm) FHD Thin & Light Laptop (8GB/256GB SSD/UHD Graphics/Windows 11/MS Office 2021/Platinum Grey/1.7Kg), 81WB018EIN',\n",
       " 'HP Pavilion 14, Ryzen 5- 8GB RAM/512GB SSD 14 inch(35.6 cm) Laptop, FHD IPS Anti-Glare Display/BL KB/Alexa/B&O Audio/Fast Charge/250 nits/Win 11 ready/3D Metal design/Thin & light/1.41 kg, 14-ec0035AU',\n",
       " 'Lenovo Chromebook 14e 14.0\" FHD Business Laptop (AMD 3015Ce Processor/4GB DDR4 RAM/64GB Storage eMMC/AMD Radeon Graphics/Chrome OS/Grey) 82M10019HA',\n",
       " \"Lenovo IdeaPad 3 AMD 3020e 14'' HD Thin & Light Laptop (4GB/256GB SSD/Windows 11/Office 2021/Platinum Grey/1.6Kg), 81W000UPIN\",\n",
       " 'HP Chromebook 14 Intel Celeron N4020-4GB SDRAM/64GB eMMC + 256GB Expandable Storage 14inch(35.6 cm) Thin & Light Touchscreen Laptop (Chrome OS/B&O/Google Assistant/BL Keyboard/1.46 kg),14a-na0003TU',\n",
       " 'ASUS ZenBook 14 UX433FA-A6106T 8th Gen Intel Core i5-8265U 14 inches FHD Thin and Light Business Laptop (8GB RAM/512GB PCIe SSD/Windows 10/Integrated Graphics/1.19 Kg, Icicle Silver Metal)',\n",
       " 'Acer Swift 3 AMD Ryzen 5 4500U 14\" (35.56cms) Display Ultra Thin and Light Laptop (8GB Ram/512GB SSD/Window 10, Home/AMD Radeon Graphics/ Pure Silver/1.2kgs), SF314-42',\n",
       " '',\n",
       " 'Lenovo IdeaPad Slim 1 Intel Celeron N4020 11.6\" (29.46cm) HD Thin & Light Laptop (4GB/256 GB SSD/Windows 10/MS Office/Platinum Grey/1.2Kg), 81VT0071IN',\n",
       " 'Lenovo IdeaPad 3 11th Gen Intel Core i3 35.56cm (14 inches) FHD Thin & Light Laptop (8 GB/256GB SDD/Windows 11/MS Office 2021/2Yr Warranty/Platinum Grey/1.5Kg), 81X700CWIN',\n",
       " 'AVITA Cosmos 2 in 1 Intel Celeron Dual Core 11.6 inches (4 GB/64 GB EMMC Storage/Windows 10 Home) NS12T5IN021P 2 in 1 Laptop (Charcoal Grey, 1.327 kg)',\n",
       " 'Dell 15 (2021) PQC-N5030, 4GB, 256GB SSD, Win 11 + MS Office\\'21, Integrated Graphics, 15.6\" (39.62 cms) HD Display, Carbon Black (Inspiron 3510, D560717WIN9B)',\n",
       " 'Lenovo IdeaPad Gaming 3 10th Gen Intel i5 15.6\" FHD Laptop (8GB/1TB HDD/GTX 1650 4GB GDDR6 Graphics/60Hz Refresh Rate/Windows 10/Office 2019/Blue Backlit/Onyx Black/2.2Kg), 81Y4018DIN',\n",
       " 'LG Gram 16-inches Ultra-Light Intel Evo 11th Gen Core i7,16 GB RAM, 512 GB SSD, New Win-11 Preload, Iris Xe Graphics, USC -C x 2 (with Power), 1.19 kg, 3 Yr Warranty (16Z90P-G.AH85A2, Black)',\n",
       " 'LG Gram 17-inches Ultra-Light Intel Evo 11th Gen Core i7,16 GB RAM, 512 GB SSD, New Win-11 Preload, Iris Xe Graphics, USC -C x 2 (with Power), 1.35 kg, 3 Yr Warranty (17Z90P-G.AH85A2, Black)',\n",
       " 'Dell 15 (2021) i3-1005G1 Laptop, 8GB, 1TB HDD, Win 10 + MS Office, Integrated Graphics, 15.6\" (39.61 cms) FHD Display, Carbon Color (Inspiron 3511, D560677WIN9BE), Carbon Black',\n",
       " 'Lenovo V15 Intel Celeron N4020 15.6\" FHD (1080p)(39.62 cm) HD Thin and Light Laptop (4GB RAM/1 TB HDD / DOS /Iron Grey/1 Year Onsite Warranty/1.7 kg), 82C30052IH',\n",
       " 'HP 15s 11th Gen Intel Core i3-8GB RAM/512GB SSD 15.6 inch(39.6 cm) Laptop, HD, Micro-Edge Display/ Windows 11/ MS Office/Alexa/Jet Black/ 1.75kg) - 15s-du3563TU',\n",
       " '(Renewed) Lenovo Latitude Laptop X260 Intel Core i3 - 6100u Processor 6th Gen, 4 GB Ram & 128 GB SSD, 12.5 Inches (Ultra Slim & Feather Light 1.4KG) Notebook Computer',\n",
       " 'HP 15 (2021) AMD Ryzen 3-3250 8 GB RAM, 1TB HDD + 256GB SSD, 15.6 inches FHD Screen, Windows 10, MS Office Thin & Light Laptop, 1.82kg (15s-gr0012AU), Silver',\n",
       " 'HP Chromebook 14 Intel Celeron N4020-4GB SDRAM/64GB eMMC + 256GB Expandable Storage 14inch(35.6 cm) Thin & Light Touchscreen Laptop (Chrome OS/B&O/Google Assistant/BL Keyboard/1.46 kg),14a-na0002TU',\n",
       " 'Lenovo IdeaPad Slim 5 11th Gen Intel Core i5 15.6\"(39.62cm) FHD IPS Thin & Light Laptop (16GB/512GB SSD/Windows 11/MS Office 2021/Backlit Keyboard/Fingerprint Reader/Graphite Grey/1.66Kg), 82FG01H9IN',\n",
       " 'HP Pavilion 14, 11th Gen Intel Core i5 8GB RAM/512GB SSD 14 inch(35.6 cm) Laptop, FHD IPS Micro-Edge Display/Iris Xe Graphics/Backlit KB/B&O Audio/Alexa/FPR/Win 11/Thin & Light/1.41kg, 14-dv1000TU',\n",
       " 'Dell 14 (2021) Thin & Light Intel i3-1005G1 Laptop, 4Gb RAM, 1TB HDD + 256GB SSD, 14 inches FHD AG Display, Windows 10 Home + MSO, Black (Vostro 3401, D552151WIN9BE), 1.58kg',\n",
       " 'HP 15 Ryzen 3 3250U- 8GB RAM/256GB SSD Thin & Light 15.6 inch(39.6cm) FHD Laptop/Windows 11 Ready /Radeon Graphics/MS Office/1.69 kg), 15s-gy0501AU']"
      ]
     },
     "execution_count": 119,
     "metadata": {},
     "output_type": "execute_result"
    }
   ],
   "source": [
    "brand_title = []\n",
    "for i in brand_titles:\n",
    "    brand_title.append(i.text)\n",
    "brand_title"
   ]
  },
  {
   "cell_type": "code",
   "execution_count": 120,
   "id": "76c9dd21",
   "metadata": {},
   "outputs": [
    {
     "data": {
      "text/plain": [
       "25"
      ]
     },
     "execution_count": 120,
     "metadata": {},
     "output_type": "execute_result"
    }
   ],
   "source": [
    "len(brand_title)"
   ]
  },
  {
   "cell_type": "code",
   "execution_count": 137,
   "id": "ed60a922",
   "metadata": {},
   "outputs": [
    {
     "data": {
      "text/plain": [
       "[<selenium.webdriver.remote.webelement.WebElement (session=\"addbaa25a376bea0ba3619698271f905\", element=\"5038959b-3d45-4771-99b8-73de424ee2d8\")>,\n",
       " <selenium.webdriver.remote.webelement.WebElement (session=\"addbaa25a376bea0ba3619698271f905\", element=\"04945697-7b33-4b6b-b191-cbeca0a61baf\")>,\n",
       " <selenium.webdriver.remote.webelement.WebElement (session=\"addbaa25a376bea0ba3619698271f905\", element=\"bf8e057a-0257-401d-b7c4-acc5ab9aa3d0\")>,\n",
       " <selenium.webdriver.remote.webelement.WebElement (session=\"addbaa25a376bea0ba3619698271f905\", element=\"9c01ce4b-30bf-49f6-b248-3af5ebf01b6a\")>,\n",
       " <selenium.webdriver.remote.webelement.WebElement (session=\"addbaa25a376bea0ba3619698271f905\", element=\"f0853565-c807-4b4a-b6f7-2625e3bf1ddd\")>,\n",
       " <selenium.webdriver.remote.webelement.WebElement (session=\"addbaa25a376bea0ba3619698271f905\", element=\"cd5b3bfc-6b6c-4815-a8df-664a36f15020\")>,\n",
       " <selenium.webdriver.remote.webelement.WebElement (session=\"addbaa25a376bea0ba3619698271f905\", element=\"9861d5ae-e5a4-489a-8eb5-411d557fb7f1\")>,\n",
       " <selenium.webdriver.remote.webelement.WebElement (session=\"addbaa25a376bea0ba3619698271f905\", element=\"6ea9e7cf-ec66-4394-bf66-bc7f1e01eea9\")>]"
      ]
     },
     "execution_count": 137,
     "metadata": {},
     "output_type": "execute_result"
    }
   ],
   "source": [
    "ratings=driver.find_elements_by_xpath('//i[@class=\"a-icon a-icon-star-small a-star-small-4-5 aok-align-bottom\"]')\n",
    "ratings"
   ]
  },
  {
   "cell_type": "code",
   "execution_count": 138,
   "id": "95e33d59",
   "metadata": {},
   "outputs": [
    {
     "data": {
      "text/plain": [
       "['', '', '', '', '', '', '', '']"
      ]
     },
     "execution_count": 138,
     "metadata": {},
     "output_type": "execute_result"
    }
   ],
   "source": [
    "rating = []\n",
    "for i in ratings:\n",
    "    rating.append(i.text)\n",
    "rating"
   ]
  },
  {
   "cell_type": "code",
   "execution_count": 142,
   "id": "3205dd66",
   "metadata": {},
   "outputs": [
    {
     "data": {
      "text/plain": [
       "8"
      ]
     },
     "execution_count": 142,
     "metadata": {},
     "output_type": "execute_result"
    }
   ],
   "source": [
    "len(rating)\n",
    "\n"
   ]
  },
  {
   "cell_type": "code",
   "execution_count": 139,
   "id": "60c49517",
   "metadata": {},
   "outputs": [
    {
     "data": {
      "text/plain": [
       "[<selenium.webdriver.remote.webelement.WebElement (session=\"addbaa25a376bea0ba3619698271f905\", element=\"78cb9325-33e0-4f0d-b8d5-96a6b8543aa8\")>,\n",
       " <selenium.webdriver.remote.webelement.WebElement (session=\"addbaa25a376bea0ba3619698271f905\", element=\"b88eea06-e8c1-4a45-86b1-9c0b2f74dda2\")>,\n",
       " <selenium.webdriver.remote.webelement.WebElement (session=\"addbaa25a376bea0ba3619698271f905\", element=\"0c56f43d-60a8-4f3a-a17e-f64bd651f6d0\")>,\n",
       " <selenium.webdriver.remote.webelement.WebElement (session=\"addbaa25a376bea0ba3619698271f905\", element=\"84bf3d3f-facc-4ede-87ec-708cf7a200b0\")>,\n",
       " <selenium.webdriver.remote.webelement.WebElement (session=\"addbaa25a376bea0ba3619698271f905\", element=\"ccd03825-dbd0-4c09-ad70-57650d6a978d\")>,\n",
       " <selenium.webdriver.remote.webelement.WebElement (session=\"addbaa25a376bea0ba3619698271f905\", element=\"b871a525-584e-4cf1-b632-075740c9c680\")>,\n",
       " <selenium.webdriver.remote.webelement.WebElement (session=\"addbaa25a376bea0ba3619698271f905\", element=\"3441b7bb-419b-40cd-875a-3ddbbb9a68ca\")>,\n",
       " <selenium.webdriver.remote.webelement.WebElement (session=\"addbaa25a376bea0ba3619698271f905\", element=\"1094ca83-5ce9-426d-8654-9af02832bb7a\")>,\n",
       " <selenium.webdriver.remote.webelement.WebElement (session=\"addbaa25a376bea0ba3619698271f905\", element=\"3e5db985-39c4-4405-92f7-8b24080deee3\")>,\n",
       " <selenium.webdriver.remote.webelement.WebElement (session=\"addbaa25a376bea0ba3619698271f905\", element=\"9efe3835-2a8e-4fb0-b051-f21097b8425b\")>,\n",
       " <selenium.webdriver.remote.webelement.WebElement (session=\"addbaa25a376bea0ba3619698271f905\", element=\"0c4dc929-4750-45e6-9ed9-b0a0ade8d1f8\")>,\n",
       " <selenium.webdriver.remote.webelement.WebElement (session=\"addbaa25a376bea0ba3619698271f905\", element=\"b5d23192-6569-4e64-84c1-b74d4278b37d\")>,\n",
       " <selenium.webdriver.remote.webelement.WebElement (session=\"addbaa25a376bea0ba3619698271f905\", element=\"800177f7-00a7-4c68-bf18-d0745f5a9b64\")>,\n",
       " <selenium.webdriver.remote.webelement.WebElement (session=\"addbaa25a376bea0ba3619698271f905\", element=\"3f5d4645-6bf8-413e-a89a-08ee8e1e6194\")>,\n",
       " <selenium.webdriver.remote.webelement.WebElement (session=\"addbaa25a376bea0ba3619698271f905\", element=\"2645cca6-721f-4e5e-bb77-e12233f32e98\")>,\n",
       " <selenium.webdriver.remote.webelement.WebElement (session=\"addbaa25a376bea0ba3619698271f905\", element=\"a31215ee-ab19-4a1a-9e6c-03f8d84802d5\")>,\n",
       " <selenium.webdriver.remote.webelement.WebElement (session=\"addbaa25a376bea0ba3619698271f905\", element=\"0f683b48-4546-4c9b-817c-825deb93d2f0\")>,\n",
       " <selenium.webdriver.remote.webelement.WebElement (session=\"addbaa25a376bea0ba3619698271f905\", element=\"f6265d8a-56b3-40ad-9aaa-bda06d613df3\")>,\n",
       " <selenium.webdriver.remote.webelement.WebElement (session=\"addbaa25a376bea0ba3619698271f905\", element=\"a12e39ee-9bc6-414f-9d42-37acf12b973e\")>,\n",
       " <selenium.webdriver.remote.webelement.WebElement (session=\"addbaa25a376bea0ba3619698271f905\", element=\"69410b44-f994-4d11-a4aa-349b3b8b28ba\")>,\n",
       " <selenium.webdriver.remote.webelement.WebElement (session=\"addbaa25a376bea0ba3619698271f905\", element=\"072d1b84-9fec-4ac1-be0a-2167366291bb\")>,\n",
       " <selenium.webdriver.remote.webelement.WebElement (session=\"addbaa25a376bea0ba3619698271f905\", element=\"6350d389-9e32-4f20-8af1-194b5f444c6f\")>,\n",
       " <selenium.webdriver.remote.webelement.WebElement (session=\"addbaa25a376bea0ba3619698271f905\", element=\"2603be94-1e3b-4a3c-a2e8-11b366cc717d\")>,\n",
       " <selenium.webdriver.remote.webelement.WebElement (session=\"addbaa25a376bea0ba3619698271f905\", element=\"a990605e-b733-4dcc-8fdb-54e49564fca6\")>,\n",
       " <selenium.webdriver.remote.webelement.WebElement (session=\"addbaa25a376bea0ba3619698271f905\", element=\"6022cfcb-58b9-4598-bda6-710d895e0f43\")>,\n",
       " <selenium.webdriver.remote.webelement.WebElement (session=\"addbaa25a376bea0ba3619698271f905\", element=\"cad2591d-a3d3-441e-9bfc-1442e2eedd20\")>]"
      ]
     },
     "execution_count": 139,
     "metadata": {},
     "output_type": "execute_result"
    }
   ],
   "source": [
    "prices=driver.find_elements_by_xpath('//span[@class=\"a-price-whole\"]')\n",
    "prices"
   ]
  },
  {
   "cell_type": "code",
   "execution_count": 140,
   "id": "d0a58143",
   "metadata": {},
   "outputs": [
    {
     "data": {
      "text/plain": [
       "['37,990',\n",
       " '53,990',\n",
       " '19,990',\n",
       " '27,990',\n",
       " '25,990',\n",
       " '72,990',\n",
       " '72,999',\n",
       " '64,100',\n",
       " '',\n",
       " '27,490',\n",
       " '38,990',\n",
       " '18,990',\n",
       " '30,990',\n",
       " '49,990',\n",
       " '90,999',\n",
       " '94,999',\n",
       " '37,990',\n",
       " '29,575',\n",
       " '41,990',\n",
       " '21,990',\n",
       " '40,990',\n",
       " '25,990',\n",
       " '62,990',\n",
       " '61,990',\n",
       " '36,990',\n",
       " '38,490']"
      ]
     },
     "execution_count": 140,
     "metadata": {},
     "output_type": "execute_result"
    }
   ],
   "source": [
    "price = []\n",
    "for i in prices:\n",
    "    price.append(i.text)\n",
    "price"
   ]
  },
  {
   "cell_type": "code",
   "execution_count": 141,
   "id": "1641b976",
   "metadata": {},
   "outputs": [
    {
     "data": {
      "text/plain": [
       "26"
      ]
     },
     "execution_count": 141,
     "metadata": {},
     "output_type": "execute_result"
    }
   ],
   "source": [
    "len(price)"
   ]
  },
  {
   "cell_type": "code",
   "execution_count": 150,
   "id": "322f97af",
   "metadata": {},
   "outputs": [
    {
     "data": {
      "text/plain": [
       "25"
      ]
     },
     "execution_count": 150,
     "metadata": {},
     "output_type": "execute_result"
    }
   ],
   "source": [
    "brand_title =brand_title[0:25]\n",
    "price = price[0:25]\n",
    "\n",
    "len(brand_title)"
   ]
  },
  {
   "cell_type": "code",
   "execution_count": 151,
   "id": "edf37be8",
   "metadata": {},
   "outputs": [
    {
     "data": {
      "text/plain": [
       "25"
      ]
     },
     "execution_count": 151,
     "metadata": {},
     "output_type": "execute_result"
    }
   ],
   "source": [
    "len(price)"
   ]
  },
  {
   "cell_type": "code",
   "execution_count": 155,
   "id": "3388a915",
   "metadata": {
    "scrolled": true
   },
   "outputs": [
    {
     "data": {
      "text/html": [
       "<div>\n",
       "<style scoped>\n",
       "    .dataframe tbody tr th:only-of-type {\n",
       "        vertical-align: middle;\n",
       "    }\n",
       "\n",
       "    .dataframe tbody tr th {\n",
       "        vertical-align: top;\n",
       "    }\n",
       "\n",
       "    .dataframe thead th {\n",
       "        text-align: right;\n",
       "    }\n",
       "</style>\n",
       "<table border=\"1\" class=\"dataframe\">\n",
       "  <thead>\n",
       "    <tr style=\"text-align: right;\">\n",
       "      <th></th>\n",
       "      <th>Brand</th>\n",
       "      <th>Price</th>\n",
       "    </tr>\n",
       "  </thead>\n",
       "  <tbody>\n",
       "    <tr>\n",
       "      <th>0</th>\n",
       "      <td>Lenovo IdeaPad Slim 3 10th Gen Intel Core i3 1...</td>\n",
       "      <td>37,990</td>\n",
       "    </tr>\n",
       "    <tr>\n",
       "      <th>1</th>\n",
       "      <td>HP Pavilion 14, Ryzen 5- 8GB RAM/512GB SSD 14 ...</td>\n",
       "      <td>53,990</td>\n",
       "    </tr>\n",
       "    <tr>\n",
       "      <th>2</th>\n",
       "      <td>Lenovo Chromebook 14e 14.0\" FHD Business Lapto...</td>\n",
       "      <td>19,990</td>\n",
       "    </tr>\n",
       "    <tr>\n",
       "      <th>3</th>\n",
       "      <td>Lenovo IdeaPad 3 AMD 3020e 14'' HD Thin &amp; Ligh...</td>\n",
       "      <td>27,990</td>\n",
       "    </tr>\n",
       "    <tr>\n",
       "      <th>4</th>\n",
       "      <td>HP Chromebook 14 Intel Celeron N4020-4GB SDRAM...</td>\n",
       "      <td>25,990</td>\n",
       "    </tr>\n",
       "    <tr>\n",
       "      <th>5</th>\n",
       "      <td>ASUS ZenBook 14 UX433FA-A6106T 8th Gen Intel C...</td>\n",
       "      <td>72,990</td>\n",
       "    </tr>\n",
       "    <tr>\n",
       "      <th>6</th>\n",
       "      <td>Acer Swift 3 AMD Ryzen 5 4500U 14\" (35.56cms) ...</td>\n",
       "      <td>72,999</td>\n",
       "    </tr>\n",
       "    <tr>\n",
       "      <th>7</th>\n",
       "      <td></td>\n",
       "      <td>64,100</td>\n",
       "    </tr>\n",
       "    <tr>\n",
       "      <th>8</th>\n",
       "      <td>Lenovo IdeaPad Slim 1 Intel Celeron N4020 11.6...</td>\n",
       "      <td></td>\n",
       "    </tr>\n",
       "    <tr>\n",
       "      <th>9</th>\n",
       "      <td>Lenovo IdeaPad 3 11th Gen Intel Core i3 35.56c...</td>\n",
       "      <td>27,490</td>\n",
       "    </tr>\n",
       "    <tr>\n",
       "      <th>10</th>\n",
       "      <td>AVITA Cosmos 2 in 1 Intel Celeron Dual Core 11...</td>\n",
       "      <td>38,990</td>\n",
       "    </tr>\n",
       "    <tr>\n",
       "      <th>11</th>\n",
       "      <td>Dell 15 (2021) PQC-N5030, 4GB, 256GB SSD, Win ...</td>\n",
       "      <td>18,990</td>\n",
       "    </tr>\n",
       "    <tr>\n",
       "      <th>12</th>\n",
       "      <td>Lenovo IdeaPad Gaming 3 10th Gen Intel i5 15.6...</td>\n",
       "      <td>30,990</td>\n",
       "    </tr>\n",
       "    <tr>\n",
       "      <th>13</th>\n",
       "      <td>LG Gram 16-inches Ultra-Light Intel Evo 11th G...</td>\n",
       "      <td>49,990</td>\n",
       "    </tr>\n",
       "    <tr>\n",
       "      <th>14</th>\n",
       "      <td>LG Gram 17-inches Ultra-Light Intel Evo 11th G...</td>\n",
       "      <td>90,999</td>\n",
       "    </tr>\n",
       "    <tr>\n",
       "      <th>15</th>\n",
       "      <td>Dell 15 (2021) i3-1005G1 Laptop, 8GB, 1TB HDD,...</td>\n",
       "      <td>94,999</td>\n",
       "    </tr>\n",
       "    <tr>\n",
       "      <th>16</th>\n",
       "      <td>Lenovo V15 Intel Celeron N4020 15.6\" FHD (1080...</td>\n",
       "      <td>37,990</td>\n",
       "    </tr>\n",
       "    <tr>\n",
       "      <th>17</th>\n",
       "      <td>HP 15s 11th Gen Intel Core i3-8GB RAM/512GB SS...</td>\n",
       "      <td>29,575</td>\n",
       "    </tr>\n",
       "    <tr>\n",
       "      <th>18</th>\n",
       "      <td>(Renewed) Lenovo Latitude Laptop X260 Intel Co...</td>\n",
       "      <td>41,990</td>\n",
       "    </tr>\n",
       "    <tr>\n",
       "      <th>19</th>\n",
       "      <td>HP 15 (2021) AMD Ryzen 3-3250 8 GB RAM, 1TB HD...</td>\n",
       "      <td>21,990</td>\n",
       "    </tr>\n",
       "    <tr>\n",
       "      <th>20</th>\n",
       "      <td>HP Chromebook 14 Intel Celeron N4020-4GB SDRAM...</td>\n",
       "      <td>40,990</td>\n",
       "    </tr>\n",
       "    <tr>\n",
       "      <th>21</th>\n",
       "      <td>Lenovo IdeaPad Slim 5 11th Gen Intel Core i5 1...</td>\n",
       "      <td>25,990</td>\n",
       "    </tr>\n",
       "    <tr>\n",
       "      <th>22</th>\n",
       "      <td>HP Pavilion 14, 11th Gen Intel Core i5 8GB RAM...</td>\n",
       "      <td>62,990</td>\n",
       "    </tr>\n",
       "    <tr>\n",
       "      <th>23</th>\n",
       "      <td>Dell 14 (2021) Thin &amp; Light Intel i3-1005G1 La...</td>\n",
       "      <td>61,990</td>\n",
       "    </tr>\n",
       "    <tr>\n",
       "      <th>24</th>\n",
       "      <td>HP 15 Ryzen 3 3250U- 8GB RAM/256GB SSD Thin &amp; ...</td>\n",
       "      <td>36,990</td>\n",
       "    </tr>\n",
       "  </tbody>\n",
       "</table>\n",
       "</div>"
      ],
      "text/plain": [
       "                                               Brand    Price\n",
       "0   Lenovo IdeaPad Slim 3 10th Gen Intel Core i3 1...  37,990\n",
       "1   HP Pavilion 14, Ryzen 5- 8GB RAM/512GB SSD 14 ...  53,990\n",
       "2   Lenovo Chromebook 14e 14.0\" FHD Business Lapto...  19,990\n",
       "3   Lenovo IdeaPad 3 AMD 3020e 14'' HD Thin & Ligh...  27,990\n",
       "4   HP Chromebook 14 Intel Celeron N4020-4GB SDRAM...  25,990\n",
       "5   ASUS ZenBook 14 UX433FA-A6106T 8th Gen Intel C...  72,990\n",
       "6   Acer Swift 3 AMD Ryzen 5 4500U 14\" (35.56cms) ...  72,999\n",
       "7                                                      64,100\n",
       "8   Lenovo IdeaPad Slim 1 Intel Celeron N4020 11.6...        \n",
       "9   Lenovo IdeaPad 3 11th Gen Intel Core i3 35.56c...  27,490\n",
       "10  AVITA Cosmos 2 in 1 Intel Celeron Dual Core 11...  38,990\n",
       "11  Dell 15 (2021) PQC-N5030, 4GB, 256GB SSD, Win ...  18,990\n",
       "12  Lenovo IdeaPad Gaming 3 10th Gen Intel i5 15.6...  30,990\n",
       "13  LG Gram 16-inches Ultra-Light Intel Evo 11th G...  49,990\n",
       "14  LG Gram 17-inches Ultra-Light Intel Evo 11th G...  90,999\n",
       "15  Dell 15 (2021) i3-1005G1 Laptop, 8GB, 1TB HDD,...  94,999\n",
       "16  Lenovo V15 Intel Celeron N4020 15.6\" FHD (1080...  37,990\n",
       "17  HP 15s 11th Gen Intel Core i3-8GB RAM/512GB SS...  29,575\n",
       "18  (Renewed) Lenovo Latitude Laptop X260 Intel Co...  41,990\n",
       "19  HP 15 (2021) AMD Ryzen 3-3250 8 GB RAM, 1TB HD...  21,990\n",
       "20  HP Chromebook 14 Intel Celeron N4020-4GB SDRAM...  40,990\n",
       "21  Lenovo IdeaPad Slim 5 11th Gen Intel Core i5 1...  25,990\n",
       "22  HP Pavilion 14, 11th Gen Intel Core i5 8GB RAM...  62,990\n",
       "23  Dell 14 (2021) Thin & Light Intel i3-1005G1 La...  61,990\n",
       "24  HP 15 Ryzen 3 3250U- 8GB RAM/256GB SSD Thin & ...  36,990"
      ]
     },
     "execution_count": 155,
     "metadata": {},
     "output_type": "execute_result"
    }
   ],
   "source": [
    "#making data frame\n",
    "\n",
    "Laptop =pd.DataFrame()\n",
    "Laptop['Brand '] =brand_title\n",
    "Laptop['Price'] =price\n",
    "\n",
    "Laptop\n",
    "\n",
    "\n"
   ]
  },
  {
   "cell_type": "code",
   "execution_count": null,
   "id": "f4c8be6f",
   "metadata": {},
   "outputs": [],
   "source": []
  },
  {
   "cell_type": "code",
   "execution_count": null,
   "id": "db4a0a40",
   "metadata": {},
   "outputs": [],
   "source": []
  },
  {
   "cell_type": "code",
   "execution_count": null,
   "id": "782e9fa8",
   "metadata": {},
   "outputs": [],
   "source": []
  },
  {
   "cell_type": "code",
   "execution_count": null,
   "id": "35738b54",
   "metadata": {},
   "outputs": [],
   "source": []
  },
  {
   "cell_type": "code",
   "execution_count": null,
   "id": "20b205ce",
   "metadata": {},
   "outputs": [],
   "source": []
  },
  {
   "cell_type": "code",
   "execution_count": null,
   "id": "44cc6fa8",
   "metadata": {},
   "outputs": [],
   "source": []
  },
  {
   "cell_type": "code",
   "execution_count": null,
   "id": "152ee90b",
   "metadata": {},
   "outputs": [],
   "source": []
  },
  {
   "cell_type": "code",
   "execution_count": null,
   "id": "aeac5a07",
   "metadata": {},
   "outputs": [],
   "source": []
  },
  {
   "cell_type": "code",
   "execution_count": null,
   "id": "2851c59a",
   "metadata": {},
   "outputs": [],
   "source": []
  },
  {
   "cell_type": "code",
   "execution_count": null,
   "id": "608e2578",
   "metadata": {},
   "outputs": [],
   "source": []
  },
  {
   "cell_type": "code",
   "execution_count": null,
   "id": "f9ff79d6",
   "metadata": {},
   "outputs": [],
   "source": []
  },
  {
   "cell_type": "code",
   "execution_count": null,
   "id": "e1e74873",
   "metadata": {},
   "outputs": [],
   "source": []
  },
  {
   "cell_type": "code",
   "execution_count": null,
   "id": "aebbdcc8",
   "metadata": {},
   "outputs": [],
   "source": []
  },
  {
   "cell_type": "code",
   "execution_count": null,
   "id": "733f72ef",
   "metadata": {},
   "outputs": [],
   "source": []
  },
  {
   "cell_type": "code",
   "execution_count": null,
   "id": "f3510702",
   "metadata": {},
   "outputs": [],
   "source": []
  },
  {
   "cell_type": "code",
   "execution_count": null,
   "id": "2d911b88",
   "metadata": {},
   "outputs": [],
   "source": []
  },
  {
   "cell_type": "code",
   "execution_count": null,
   "id": "8f3f0649",
   "metadata": {},
   "outputs": [],
   "source": []
  },
  {
   "cell_type": "code",
   "execution_count": null,
   "id": "e2adf41b",
   "metadata": {},
   "outputs": [],
   "source": []
  },
  {
   "cell_type": "code",
   "execution_count": null,
   "id": "588fb3c1",
   "metadata": {},
   "outputs": [],
   "source": []
  },
  {
   "cell_type": "code",
   "execution_count": null,
   "id": "4cec2897",
   "metadata": {},
   "outputs": [],
   "source": []
  },
  {
   "cell_type": "code",
   "execution_count": null,
   "id": "61596692",
   "metadata": {},
   "outputs": [],
   "source": []
  },
  {
   "cell_type": "code",
   "execution_count": null,
   "id": "82a046b1",
   "metadata": {},
   "outputs": [],
   "source": []
  },
  {
   "cell_type": "code",
   "execution_count": null,
   "id": "0ff7a6ee",
   "metadata": {},
   "outputs": [],
   "source": []
  },
  {
   "cell_type": "code",
   "execution_count": null,
   "id": "71a71e53",
   "metadata": {},
   "outputs": [],
   "source": []
  },
  {
   "cell_type": "code",
   "execution_count": null,
   "id": "cc81e41c",
   "metadata": {},
   "outputs": [],
   "source": []
  },
  {
   "cell_type": "code",
   "execution_count": null,
   "id": "8618b2c7",
   "metadata": {},
   "outputs": [],
   "source": []
  },
  {
   "cell_type": "code",
   "execution_count": null,
   "id": "2b011ea2",
   "metadata": {},
   "outputs": [],
   "source": []
  },
  {
   "cell_type": "code",
   "execution_count": null,
   "id": "51acf45d",
   "metadata": {},
   "outputs": [],
   "source": []
  },
  {
   "cell_type": "code",
   "execution_count": null,
   "id": "fb1756c5",
   "metadata": {},
   "outputs": [],
   "source": []
  },
  {
   "cell_type": "code",
   "execution_count": null,
   "id": "a62c72db",
   "metadata": {},
   "outputs": [],
   "source": []
  },
  {
   "cell_type": "code",
   "execution_count": null,
   "id": "491856f6",
   "metadata": {},
   "outputs": [],
   "source": []
  },
  {
   "cell_type": "code",
   "execution_count": null,
   "id": "8277303e",
   "metadata": {},
   "outputs": [],
   "source": []
  },
  {
   "cell_type": "code",
   "execution_count": null,
   "id": "c0261c45",
   "metadata": {},
   "outputs": [],
   "source": []
  },
  {
   "cell_type": "code",
   "execution_count": null,
   "id": "ba8980b6",
   "metadata": {},
   "outputs": [],
   "source": []
  },
  {
   "cell_type": "code",
   "execution_count": null,
   "id": "793223ca",
   "metadata": {},
   "outputs": [],
   "source": []
  },
  {
   "cell_type": "code",
   "execution_count": null,
   "id": "3a1d0220",
   "metadata": {},
   "outputs": [],
   "source": []
  },
  {
   "cell_type": "code",
   "execution_count": null,
   "id": "163d0fcd",
   "metadata": {},
   "outputs": [],
   "source": []
  },
  {
   "cell_type": "code",
   "execution_count": null,
   "id": "f6c2a3c3",
   "metadata": {},
   "outputs": [],
   "source": []
  },
  {
   "cell_type": "code",
   "execution_count": null,
   "id": "d29f7d79",
   "metadata": {},
   "outputs": [],
   "source": []
  },
  {
   "cell_type": "code",
   "execution_count": null,
   "id": "bd61daa5",
   "metadata": {},
   "outputs": [],
   "source": []
  },
  {
   "cell_type": "code",
   "execution_count": null,
   "id": "6847b8e3",
   "metadata": {},
   "outputs": [],
   "source": []
  }
 ],
 "metadata": {
  "kernelspec": {
   "display_name": "Python 3",
   "language": "python",
   "name": "python3"
  },
  "language_info": {
   "codemirror_mode": {
    "name": "ipython",
    "version": 3
   },
   "file_extension": ".py",
   "mimetype": "text/x-python",
   "name": "python",
   "nbconvert_exporter": "python",
   "pygments_lexer": "ipython3",
   "version": "3.8.8"
  }
 },
 "nbformat": 4,
 "nbformat_minor": 5
}
